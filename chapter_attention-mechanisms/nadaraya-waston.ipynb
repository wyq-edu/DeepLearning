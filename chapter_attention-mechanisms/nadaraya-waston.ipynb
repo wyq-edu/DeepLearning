{
  "cells": [
    {
      "cell_type": "markdown",
      "id": "7671b4ca",
      "metadata": {
        "id": "7671b4ca"
      },
      "source": [
        "The following additional libraries are needed to run this\n",
        "notebook. Note that running on Colab is experimental, please report a Github\n",
        "issue if you have any problem."
      ]
    },
    {
      "cell_type": "code",
      "execution_count": 1,
      "id": "c065e77e",
      "metadata": {
        "id": "c065e77e",
        "outputId": "d7ee7839-8b1a-4656-f89a-d1214be0b034",
        "colab": {
          "base_uri": "https://localhost:8080/"
        }
      },
      "outputs": [
        {
          "output_type": "stream",
          "name": "stdout",
          "text": [
            "Collecting git+https://github.com/d2l-ai/d2l-zh@release\n",
            "  Cloning https://github.com/d2l-ai/d2l-zh (to revision release) to /tmp/pip-req-build-aoauijw_\n",
            "  Running command git clone --filter=blob:none --quiet https://github.com/d2l-ai/d2l-zh /tmp/pip-req-build-aoauijw_\n",
            "  Running command git checkout -b release --track origin/release\n",
            "  Switched to a new branch 'release'\n",
            "  Branch 'release' set up to track remote branch 'release' from 'origin'.\n",
            "  Resolved https://github.com/d2l-ai/d2l-zh to commit 843d3d41dca48d8df65f4b324dd171d8bfe9c067\n",
            "  Running command git submodule update --init --recursive -q\n",
            "  Preparing metadata (setup.py) ... \u001b[?25l\u001b[?25hdone\n",
            "Building wheels for collected packages: d2l\n",
            "  Building wheel for d2l (setup.py) ... \u001b[?25l\u001b[?25hdone\n",
            "  Created wheel for d2l: filename=d2l-2.0.0-py3-none-any.whl size=110800 sha256=73fad4e3e0800c57366b23ffb23fa44163228a78a6c0b65eb58a4646e0308d18\n",
            "  Stored in directory: /tmp/pip-ephem-wheel-cache-d0hbyg9i/wheels/3e/87/36/53b013ece7da539a59fcc56da2d329d7afb08eef9a9a5ae1d1\n",
            "Successfully built d2l\n",
            "Installing collected packages: d2l\n",
            "Successfully installed d2l-2.0.0\n"
          ]
        }
      ],
      "source": [
        "!pip install --no-deps git+https://github.com/d2l-ai/d2l-zh@release  # installing d2l\n"
      ]
    },
    {
      "cell_type": "markdown",
      "id": "12605036",
      "metadata": {
        "origin_pos": 0,
        "id": "12605036"
      },
      "source": [
        "# 注意力汇聚：Nadaraya-Watson 核回归\n",
        ":label:`sec_nadaraya-watson`\n",
        "\n",
        "上节介绍了框架下的注意力机制的主要成分 :numref:`fig_qkv`：\n",
        "查询（自主提示）和键（非自主提示）之间的交互形成了注意力汇聚；\n",
        "注意力汇聚有选择地聚合了值（感官输入）以生成最终的输出。\n",
        "本节将介绍注意力汇聚的更多细节，\n",
        "以便从宏观上了解注意力机制在实践中的运作方式。\n",
        "具体来说，1964年提出的Nadaraya-Watson核回归模型\n",
        "是一个简单但完整的例子，可以用于演示具有注意力机制的机器学习。\n"
      ]
    },
    {
      "cell_type": "code",
      "execution_count": 2,
      "id": "47b48700",
      "metadata": {
        "execution": {
          "iopub.execute_input": "2023-08-18T07:07:14.699824Z",
          "iopub.status.busy": "2023-08-18T07:07:14.699278Z",
          "iopub.status.idle": "2023-08-18T07:07:16.694044Z",
          "shell.execute_reply": "2023-08-18T07:07:16.693186Z"
        },
        "origin_pos": 2,
        "tab": [
          "pytorch"
        ],
        "id": "47b48700"
      },
      "outputs": [],
      "source": [
        "import torch\n",
        "from torch import nn\n",
        "from d2l import torch as d2l"
      ]
    },
    {
      "cell_type": "markdown",
      "id": "45448f28",
      "metadata": {
        "origin_pos": 5,
        "id": "45448f28"
      },
      "source": [
        "## [**生成数据集**]\n",
        "\n",
        "简单起见，考虑下面这个回归问题：\n",
        "给定的成对的“输入－输出”数据集\n",
        "$\\{(x_1, y_1), \\ldots, (x_n, y_n)\\}$，\n",
        "如何学习$f$来预测任意新输入$x$的输出$\\hat{y} = f(x)$？\n",
        "\n",
        "根据下面的非线性函数生成一个人工数据集，\n",
        "其中加入的噪声项为$\\epsilon$：\n",
        "\n",
        "$$y_i = 2\\sin(x_i) + x_i^{0.8} + \\epsilon,$$\n",
        "\n",
        "其中$\\epsilon$服从均值为$0$和标准差为$0.5$的正态分布。\n",
        "在这里生成了$50$个训练样本和$50$个测试样本。\n",
        "为了更好地可视化之后的注意力模式，需要将训练样本进行排序。\n"
      ]
    },
    {
      "cell_type": "code",
      "execution_count": 3,
      "id": "77ea63dd",
      "metadata": {
        "execution": {
          "iopub.execute_input": "2023-08-18T07:07:16.698617Z",
          "iopub.status.busy": "2023-08-18T07:07:16.697928Z",
          "iopub.status.idle": "2023-08-18T07:07:16.720614Z",
          "shell.execute_reply": "2023-08-18T07:07:16.719799Z"
        },
        "origin_pos": 7,
        "tab": [
          "pytorch"
        ],
        "id": "77ea63dd"
      },
      "outputs": [],
      "source": [
        "n_train = 50  # 训练样本数\n",
        "x_train, _ = torch.sort(torch.rand(n_train) * 5)   # 排序后的训练样本"
      ]
    },
    {
      "cell_type": "code",
      "execution_count": 4,
      "id": "2b36fd68",
      "metadata": {
        "execution": {
          "iopub.execute_input": "2023-08-18T07:07:16.724389Z",
          "iopub.status.busy": "2023-08-18T07:07:16.723850Z",
          "iopub.status.idle": "2023-08-18T07:07:16.734529Z",
          "shell.execute_reply": "2023-08-18T07:07:16.733732Z"
        },
        "origin_pos": 11,
        "tab": [
          "pytorch"
        ],
        "id": "2b36fd68"
      },
      "outputs": [],
      "source": [
        "def f(x):\n",
        "    return 2 * torch.sin(x) + x**0.8"
      ]
    },
    {
      "cell_type": "code",
      "source": [
        "y_train = f(x_train) + torch.normal(0.0, 0.5, (n_train,))  # 训练样本的输出\n",
        "y_train,y_train.shape"
      ],
      "metadata": {
        "id": "cUksjh9jZzEH",
        "outputId": "869bbc09-f4e3-440b-87cd-166e5c469a42",
        "colab": {
          "base_uri": "https://localhost:8080/"
        }
      },
      "id": "cUksjh9jZzEH",
      "execution_count": 6,
      "outputs": [
        {
          "output_type": "execute_result",
          "data": {
            "text/plain": [
              "(tensor([1.1471, 0.3282, 1.2540, 1.3529, 1.2225, 1.8218, 2.9557, 2.4972, 3.1746,\n",
              "         3.6633, 3.1770, 3.0505, 3.8384, 3.6855, 3.0612, 3.5785, 3.6161, 3.2114,\n",
              "         3.9261, 2.9324, 3.3442, 3.0581, 3.6384, 3.7687, 2.0920, 2.6958, 3.0203,\n",
              "         2.9352, 2.5902, 1.9800, 2.2555, 2.9504, 1.6798, 2.3904, 2.0070, 0.6702,\n",
              "         1.8529, 0.4925, 1.5029, 1.1471, 1.2677, 1.9191, 1.7137, 1.8183, 0.8846,\n",
              "         2.0679, 1.1011, 2.0329, 1.6110, 1.8932]),\n",
              " torch.Size([50]))"
            ]
          },
          "metadata": {},
          "execution_count": 6
        }
      ]
    },
    {
      "cell_type": "code",
      "source": [
        "x_test = torch.arange(0, 5, 0.1)  # 测试样本\n",
        "x_test,x_test.shape"
      ],
      "metadata": {
        "id": "_TJR37-lZ3GT",
        "outputId": "02ada321-3070-487b-82c9-b54e31b2fbd2",
        "colab": {
          "base_uri": "https://localhost:8080/"
        }
      },
      "id": "_TJR37-lZ3GT",
      "execution_count": 7,
      "outputs": [
        {
          "output_type": "execute_result",
          "data": {
            "text/plain": [
              "(tensor([0.0000, 0.1000, 0.2000, 0.3000, 0.4000, 0.5000, 0.6000, 0.7000, 0.8000,\n",
              "         0.9000, 1.0000, 1.1000, 1.2000, 1.3000, 1.4000, 1.5000, 1.6000, 1.7000,\n",
              "         1.8000, 1.9000, 2.0000, 2.1000, 2.2000, 2.3000, 2.4000, 2.5000, 2.6000,\n",
              "         2.7000, 2.8000, 2.9000, 3.0000, 3.1000, 3.2000, 3.3000, 3.4000, 3.5000,\n",
              "         3.6000, 3.7000, 3.8000, 3.9000, 4.0000, 4.1000, 4.2000, 4.3000, 4.4000,\n",
              "         4.5000, 4.6000, 4.7000, 4.8000, 4.9000]),\n",
              " torch.Size([50]))"
            ]
          },
          "metadata": {},
          "execution_count": 7
        }
      ]
    },
    {
      "cell_type": "code",
      "source": [
        "y_truth = f(x_test)  # 测试样本的真实输出\n",
        "n_test = len(x_test)  # 测试样本数\n",
        "y_truth,y_truth.shape,n_test"
      ],
      "metadata": {
        "id": "ex75wbZlZ-Qs",
        "outputId": "7bf95e0f-2ab1-47e3-e758-0f85ae613d8b",
        "colab": {
          "base_uri": "https://localhost:8080/"
        }
      },
      "id": "ex75wbZlZ-Qs",
      "execution_count": 8,
      "outputs": [
        {
          "output_type": "execute_result",
          "data": {
            "text/plain": [
              "(tensor([0.0000, 0.3582, 0.6733, 0.9727, 1.2593, 1.5332, 1.7938, 2.0402, 2.2712,\n",
              "         2.4858, 2.6829, 2.8616, 3.0211, 3.1607, 3.2798, 3.3782, 3.4556, 3.5122,\n",
              "         3.5481, 3.5637, 3.5597, 3.5368, 3.4960, 3.4385, 3.3654, 3.2783, 3.1787,\n",
              "         3.0683, 2.9489, 2.8223, 2.6905, 2.5554, 2.4191, 2.2835, 2.1508, 2.0227,\n",
              "         1.9013, 1.7885, 1.6858, 1.5951, 1.5178, 1.4554, 1.4089, 1.3797, 1.3684,\n",
              "         1.3759, 1.4027, 1.4490, 1.5151, 1.6009]),\n",
              " torch.Size([50]),\n",
              " 50)"
            ]
          },
          "metadata": {},
          "execution_count": 8
        }
      ]
    },
    {
      "cell_type": "markdown",
      "id": "a8cd762c",
      "metadata": {
        "origin_pos": 14,
        "id": "a8cd762c"
      },
      "source": [
        "下面的函数将绘制所有的训练样本（样本由圆圈表示），\n",
        "不带噪声项的真实数据生成函数$f$（标记为“Truth”），\n",
        "以及学习得到的预测函数（标记为“Pred”）。\n"
      ]
    },
    {
      "cell_type": "code",
      "execution_count": 12,
      "id": "84166e26",
      "metadata": {
        "execution": {
          "iopub.execute_input": "2023-08-18T07:07:16.738117Z",
          "iopub.status.busy": "2023-08-18T07:07:16.737614Z",
          "iopub.status.idle": "2023-08-18T07:07:16.742118Z",
          "shell.execute_reply": "2023-08-18T07:07:16.741332Z"
        },
        "origin_pos": 15,
        "tab": [
          "pytorch"
        ],
        "id": "84166e26"
      },
      "outputs": [],
      "source": [
        "def plot_kernel_reg(y_hat):\n",
        "    d2l.plot(x_test, [y_truth, y_hat], 'x', 'y', legend=['Truth', 'Pred'],\n",
        "             xlim=[0, 5], ylim=[-1, 5]) #曲线连接\n",
        "    d2l.plt.plot(x_train, y_train, 'o', alpha=0.5);  #散点图"
      ]
    },
    {
      "cell_type": "markdown",
      "id": "83acd3e5",
      "metadata": {
        "origin_pos": 16,
        "id": "83acd3e5"
      },
      "source": [
        "## 平均汇聚\n",
        "\n",
        "先使用最简单的估计器来解决回归问题。\n",
        "基于平均汇聚来计算所有训练样本输出值的平均值：\n",
        "\n",
        "$$f(x) = \\frac{1}{n}\\sum_{i=1}^n y_i,$$\n",
        ":eqlabel:`eq_avg-pooling`\n",
        "\n",
        "如下图所示，这个估计器确实不够聪明。\n",
        "真实函数$f$（“Truth”）和预测函数（“Pred”）相差很大。\n"
      ]
    },
    {
      "cell_type": "code",
      "execution_count": 13,
      "id": "b5227412",
      "metadata": {
        "execution": {
          "iopub.execute_input": "2023-08-18T07:07:16.745659Z",
          "iopub.status.busy": "2023-08-18T07:07:16.745145Z",
          "iopub.status.idle": "2023-08-18T07:07:16.921666Z",
          "shell.execute_reply": "2023-08-18T07:07:16.920767Z"
        },
        "origin_pos": 18,
        "tab": [
          "pytorch"
        ],
        "id": "b5227412",
        "outputId": "3b970ae7-f72d-4452-d57c-aa1576a2d779",
        "colab": {
          "base_uri": "https://localhost:8080/",
          "height": 270
        }
      },
      "outputs": [
        {
          "output_type": "display_data",
          "data": {
            "text/plain": [
              "<Figure size 350x250 with 1 Axes>"
            ],
            "image/svg+xml": "<?xml version=\"1.0\" encoding=\"utf-8\" standalone=\"no\"?>\n<!DOCTYPE svg PUBLIC \"-//W3C//DTD SVG 1.1//EN\"\n  \"http://www.w3.org/Graphics/SVG/1.1/DTD/svg11.dtd\">\n<svg xmlns:xlink=\"http://www.w3.org/1999/xlink\" width=\"248.301563pt\" height=\"187.155469pt\" viewBox=\"0 0 248.301563 187.155469\" xmlns=\"http://www.w3.org/2000/svg\" version=\"1.1\">\n <metadata>\n  <rdf:RDF xmlns:dc=\"http://purl.org/dc/elements/1.1/\" xmlns:cc=\"http://creativecommons.org/ns#\" xmlns:rdf=\"http://www.w3.org/1999/02/22-rdf-syntax-ns#\">\n   <cc:Work>\n    <dc:type rdf:resource=\"http://purl.org/dc/dcmitype/StillImage\"/>\n    <dc:date>2025-10-14T01:50:51.023238</dc:date>\n    <dc:format>image/svg+xml</dc:format>\n    <dc:creator>\n     <cc:Agent>\n      <dc:title>Matplotlib v3.10.0, https://matplotlib.org/</dc:title>\n     </cc:Agent>\n    </dc:creator>\n   </cc:Work>\n  </rdf:RDF>\n </metadata>\n <defs>\n  <style type=\"text/css\">*{stroke-linejoin: round; stroke-linecap: butt}</style>\n </defs>\n <g id=\"figure_1\">\n  <g id=\"patch_1\">\n   <path d=\"M 0 187.155469 \nL 248.301563 187.155469 \nL 248.301563 0 \nL 0 0 \nz\n\" style=\"fill: #ffffff\"/>\n  </g>\n  <g id=\"axes_1\">\n   <g id=\"patch_2\">\n    <path d=\"M 42.620312 149.599219 \nL 237.920313 149.599219 \nL 237.920313 10.999219 \nL 42.620312 10.999219 \nz\n\" style=\"fill: #ffffff\"/>\n   </g>\n   <g id=\"matplotlib.axis_1\">\n    <g id=\"xtick_1\">\n     <g id=\"line2d_1\">\n      <path d=\"M 42.620312 149.599219 \nL 42.620312 10.999219 \n\" clip-path=\"url(#p3663aef1b1)\" style=\"fill: none; stroke: #b0b0b0; stroke-width: 0.8; stroke-linecap: square\"/>\n     </g>\n     <g id=\"line2d_2\">\n      <defs>\n       <path id=\"m0c07b78145\" d=\"M 0 0 \nL 0 3.5 \n\" style=\"stroke: #000000; stroke-width: 0.8\"/>\n      </defs>\n      <g>\n       <use xlink:href=\"#m0c07b78145\" x=\"42.620312\" y=\"149.599219\" style=\"stroke: #000000; stroke-width: 0.8\"/>\n      </g>\n     </g>\n     <g id=\"text_1\">\n      <!-- 0 -->\n      <g transform=\"translate(39.439062 164.197656) scale(0.1 -0.1)\">\n       <defs>\n        <path id=\"DejaVuSans-30\" d=\"M 2034 4250 \nQ 1547 4250 1301 3770 \nQ 1056 3291 1056 2328 \nQ 1056 1369 1301 889 \nQ 1547 409 2034 409 \nQ 2525 409 2770 889 \nQ 3016 1369 3016 2328 \nQ 3016 3291 2770 3770 \nQ 2525 4250 2034 4250 \nz\nM 2034 4750 \nQ 2819 4750 3233 4129 \nQ 3647 3509 3647 2328 \nQ 3647 1150 3233 529 \nQ 2819 -91 2034 -91 \nQ 1250 -91 836 529 \nQ 422 1150 422 2328 \nQ 422 3509 836 4129 \nQ 1250 4750 2034 4750 \nz\n\" transform=\"scale(0.015625)\"/>\n       </defs>\n       <use xlink:href=\"#DejaVuSans-30\"/>\n      </g>\n     </g>\n    </g>\n    <g id=\"xtick_2\">\n     <g id=\"line2d_3\">\n      <path d=\"M 81.680312 149.599219 \nL 81.680312 10.999219 \n\" clip-path=\"url(#p3663aef1b1)\" style=\"fill: none; stroke: #b0b0b0; stroke-width: 0.8; stroke-linecap: square\"/>\n     </g>\n     <g id=\"line2d_4\">\n      <g>\n       <use xlink:href=\"#m0c07b78145\" x=\"81.680312\" y=\"149.599219\" style=\"stroke: #000000; stroke-width: 0.8\"/>\n      </g>\n     </g>\n     <g id=\"text_2\">\n      <!-- 1 -->\n      <g transform=\"translate(78.499062 164.197656) scale(0.1 -0.1)\">\n       <defs>\n        <path id=\"DejaVuSans-31\" d=\"M 794 531 \nL 1825 531 \nL 1825 4091 \nL 703 3866 \nL 703 4441 \nL 1819 4666 \nL 2450 4666 \nL 2450 531 \nL 3481 531 \nL 3481 0 \nL 794 0 \nL 794 531 \nz\n\" transform=\"scale(0.015625)\"/>\n       </defs>\n       <use xlink:href=\"#DejaVuSans-31\"/>\n      </g>\n     </g>\n    </g>\n    <g id=\"xtick_3\">\n     <g id=\"line2d_5\">\n      <path d=\"M 120.740313 149.599219 \nL 120.740313 10.999219 \n\" clip-path=\"url(#p3663aef1b1)\" style=\"fill: none; stroke: #b0b0b0; stroke-width: 0.8; stroke-linecap: square\"/>\n     </g>\n     <g id=\"line2d_6\">\n      <g>\n       <use xlink:href=\"#m0c07b78145\" x=\"120.740313\" y=\"149.599219\" style=\"stroke: #000000; stroke-width: 0.8\"/>\n      </g>\n     </g>\n     <g id=\"text_3\">\n      <!-- 2 -->\n      <g transform=\"translate(117.559062 164.197656) scale(0.1 -0.1)\">\n       <defs>\n        <path id=\"DejaVuSans-32\" d=\"M 1228 531 \nL 3431 531 \nL 3431 0 \nL 469 0 \nL 469 531 \nQ 828 903 1448 1529 \nQ 2069 2156 2228 2338 \nQ 2531 2678 2651 2914 \nQ 2772 3150 2772 3378 \nQ 2772 3750 2511 3984 \nQ 2250 4219 1831 4219 \nQ 1534 4219 1204 4116 \nQ 875 4013 500 3803 \nL 500 4441 \nQ 881 4594 1212 4672 \nQ 1544 4750 1819 4750 \nQ 2544 4750 2975 4387 \nQ 3406 4025 3406 3419 \nQ 3406 3131 3298 2873 \nQ 3191 2616 2906 2266 \nQ 2828 2175 2409 1742 \nQ 1991 1309 1228 531 \nz\n\" transform=\"scale(0.015625)\"/>\n       </defs>\n       <use xlink:href=\"#DejaVuSans-32\"/>\n      </g>\n     </g>\n    </g>\n    <g id=\"xtick_4\">\n     <g id=\"line2d_7\">\n      <path d=\"M 159.800313 149.599219 \nL 159.800313 10.999219 \n\" clip-path=\"url(#p3663aef1b1)\" style=\"fill: none; stroke: #b0b0b0; stroke-width: 0.8; stroke-linecap: square\"/>\n     </g>\n     <g id=\"line2d_8\">\n      <g>\n       <use xlink:href=\"#m0c07b78145\" x=\"159.800313\" y=\"149.599219\" style=\"stroke: #000000; stroke-width: 0.8\"/>\n      </g>\n     </g>\n     <g id=\"text_4\">\n      <!-- 3 -->\n      <g transform=\"translate(156.619063 164.197656) scale(0.1 -0.1)\">\n       <defs>\n        <path id=\"DejaVuSans-33\" d=\"M 2597 2516 \nQ 3050 2419 3304 2112 \nQ 3559 1806 3559 1356 \nQ 3559 666 3084 287 \nQ 2609 -91 1734 -91 \nQ 1441 -91 1130 -33 \nQ 819 25 488 141 \nL 488 750 \nQ 750 597 1062 519 \nQ 1375 441 1716 441 \nQ 2309 441 2620 675 \nQ 2931 909 2931 1356 \nQ 2931 1769 2642 2001 \nQ 2353 2234 1838 2234 \nL 1294 2234 \nL 1294 2753 \nL 1863 2753 \nQ 2328 2753 2575 2939 \nQ 2822 3125 2822 3475 \nQ 2822 3834 2567 4026 \nQ 2313 4219 1838 4219 \nQ 1578 4219 1281 4162 \nQ 984 4106 628 3988 \nL 628 4550 \nQ 988 4650 1302 4700 \nQ 1616 4750 1894 4750 \nQ 2613 4750 3031 4423 \nQ 3450 4097 3450 3541 \nQ 3450 3153 3228 2886 \nQ 3006 2619 2597 2516 \nz\n\" transform=\"scale(0.015625)\"/>\n       </defs>\n       <use xlink:href=\"#DejaVuSans-33\"/>\n      </g>\n     </g>\n    </g>\n    <g id=\"xtick_5\">\n     <g id=\"line2d_9\">\n      <path d=\"M 198.860313 149.599219 \nL 198.860313 10.999219 \n\" clip-path=\"url(#p3663aef1b1)\" style=\"fill: none; stroke: #b0b0b0; stroke-width: 0.8; stroke-linecap: square\"/>\n     </g>\n     <g id=\"line2d_10\">\n      <g>\n       <use xlink:href=\"#m0c07b78145\" x=\"198.860313\" y=\"149.599219\" style=\"stroke: #000000; stroke-width: 0.8\"/>\n      </g>\n     </g>\n     <g id=\"text_5\">\n      <!-- 4 -->\n      <g transform=\"translate(195.679063 164.197656) scale(0.1 -0.1)\">\n       <defs>\n        <path id=\"DejaVuSans-34\" d=\"M 2419 4116 \nL 825 1625 \nL 2419 1625 \nL 2419 4116 \nz\nM 2253 4666 \nL 3047 4666 \nL 3047 1625 \nL 3713 1625 \nL 3713 1100 \nL 3047 1100 \nL 3047 0 \nL 2419 0 \nL 2419 1100 \nL 313 1100 \nL 313 1709 \nL 2253 4666 \nz\n\" transform=\"scale(0.015625)\"/>\n       </defs>\n       <use xlink:href=\"#DejaVuSans-34\"/>\n      </g>\n     </g>\n    </g>\n    <g id=\"xtick_6\">\n     <g id=\"line2d_11\">\n      <path d=\"M 237.920313 149.599219 \nL 237.920313 10.999219 \n\" clip-path=\"url(#p3663aef1b1)\" style=\"fill: none; stroke: #b0b0b0; stroke-width: 0.8; stroke-linecap: square\"/>\n     </g>\n     <g id=\"line2d_12\">\n      <g>\n       <use xlink:href=\"#m0c07b78145\" x=\"237.920313\" y=\"149.599219\" style=\"stroke: #000000; stroke-width: 0.8\"/>\n      </g>\n     </g>\n     <g id=\"text_6\">\n      <!-- 5 -->\n      <g transform=\"translate(234.739063 164.197656) scale(0.1 -0.1)\">\n       <defs>\n        <path id=\"DejaVuSans-35\" d=\"M 691 4666 \nL 3169 4666 \nL 3169 4134 \nL 1269 4134 \nL 1269 2991 \nQ 1406 3038 1543 3061 \nQ 1681 3084 1819 3084 \nQ 2600 3084 3056 2656 \nQ 3513 2228 3513 1497 \nQ 3513 744 3044 326 \nQ 2575 -91 1722 -91 \nQ 1428 -91 1123 -41 \nQ 819 9 494 109 \nL 494 744 \nQ 775 591 1075 516 \nQ 1375 441 1709 441 \nQ 2250 441 2565 725 \nQ 2881 1009 2881 1497 \nQ 2881 1984 2565 2268 \nQ 2250 2553 1709 2553 \nQ 1456 2553 1204 2497 \nQ 953 2441 691 2322 \nL 691 4666 \nz\n\" transform=\"scale(0.015625)\"/>\n       </defs>\n       <use xlink:href=\"#DejaVuSans-35\"/>\n      </g>\n     </g>\n    </g>\n    <g id=\"text_7\">\n     <!-- x -->\n     <g transform=\"translate(137.310937 177.875781) scale(0.1 -0.1)\">\n      <defs>\n       <path id=\"DejaVuSans-78\" d=\"M 3513 3500 \nL 2247 1797 \nL 3578 0 \nL 2900 0 \nL 1881 1375 \nL 863 0 \nL 184 0 \nL 1544 1831 \nL 300 3500 \nL 978 3500 \nL 1906 2253 \nL 2834 3500 \nL 3513 3500 \nz\n\" transform=\"scale(0.015625)\"/>\n      </defs>\n      <use xlink:href=\"#DejaVuSans-78\"/>\n     </g>\n    </g>\n   </g>\n   <g id=\"matplotlib.axis_2\">\n    <g id=\"ytick_1\">\n     <g id=\"line2d_13\">\n      <path d=\"M 42.620312 149.599219 \nL 237.920313 149.599219 \n\" clip-path=\"url(#p3663aef1b1)\" style=\"fill: none; stroke: #b0b0b0; stroke-width: 0.8; stroke-linecap: square\"/>\n     </g>\n     <g id=\"line2d_14\">\n      <defs>\n       <path id=\"md3a6f920ce\" d=\"M 0 0 \nL -3.5 0 \n\" style=\"stroke: #000000; stroke-width: 0.8\"/>\n      </defs>\n      <g>\n       <use xlink:href=\"#md3a6f920ce\" x=\"42.620312\" y=\"149.599219\" style=\"stroke: #000000; stroke-width: 0.8\"/>\n      </g>\n     </g>\n     <g id=\"text_8\">\n      <!-- −1 -->\n      <g transform=\"translate(20.878125 153.398437) scale(0.1 -0.1)\">\n       <defs>\n        <path id=\"DejaVuSans-2212\" d=\"M 678 2272 \nL 4684 2272 \nL 4684 1741 \nL 678 1741 \nL 678 2272 \nz\n\" transform=\"scale(0.015625)\"/>\n       </defs>\n       <use xlink:href=\"#DejaVuSans-2212\"/>\n       <use xlink:href=\"#DejaVuSans-31\" transform=\"translate(83.789062 0)\"/>\n      </g>\n     </g>\n    </g>\n    <g id=\"ytick_2\">\n     <g id=\"line2d_15\">\n      <path d=\"M 42.620312 126.499219 \nL 237.920313 126.499219 \n\" clip-path=\"url(#p3663aef1b1)\" style=\"fill: none; stroke: #b0b0b0; stroke-width: 0.8; stroke-linecap: square\"/>\n     </g>\n     <g id=\"line2d_16\">\n      <g>\n       <use xlink:href=\"#md3a6f920ce\" x=\"42.620312\" y=\"126.499219\" style=\"stroke: #000000; stroke-width: 0.8\"/>\n      </g>\n     </g>\n     <g id=\"text_9\">\n      <!-- 0 -->\n      <g transform=\"translate(29.257812 130.298437) scale(0.1 -0.1)\">\n       <use xlink:href=\"#DejaVuSans-30\"/>\n      </g>\n     </g>\n    </g>\n    <g id=\"ytick_3\">\n     <g id=\"line2d_17\">\n      <path d=\"M 42.620312 103.399219 \nL 237.920313 103.399219 \n\" clip-path=\"url(#p3663aef1b1)\" style=\"fill: none; stroke: #b0b0b0; stroke-width: 0.8; stroke-linecap: square\"/>\n     </g>\n     <g id=\"line2d_18\">\n      <g>\n       <use xlink:href=\"#md3a6f920ce\" x=\"42.620312\" y=\"103.399219\" style=\"stroke: #000000; stroke-width: 0.8\"/>\n      </g>\n     </g>\n     <g id=\"text_10\">\n      <!-- 1 -->\n      <g transform=\"translate(29.257812 107.198437) scale(0.1 -0.1)\">\n       <use xlink:href=\"#DejaVuSans-31\"/>\n      </g>\n     </g>\n    </g>\n    <g id=\"ytick_4\">\n     <g id=\"line2d_19\">\n      <path d=\"M 42.620312 80.299219 \nL 237.920313 80.299219 \n\" clip-path=\"url(#p3663aef1b1)\" style=\"fill: none; stroke: #b0b0b0; stroke-width: 0.8; stroke-linecap: square\"/>\n     </g>\n     <g id=\"line2d_20\">\n      <g>\n       <use xlink:href=\"#md3a6f920ce\" x=\"42.620312\" y=\"80.299219\" style=\"stroke: #000000; stroke-width: 0.8\"/>\n      </g>\n     </g>\n     <g id=\"text_11\">\n      <!-- 2 -->\n      <g transform=\"translate(29.257812 84.098437) scale(0.1 -0.1)\">\n       <use xlink:href=\"#DejaVuSans-32\"/>\n      </g>\n     </g>\n    </g>\n    <g id=\"ytick_5\">\n     <g id=\"line2d_21\">\n      <path d=\"M 42.620312 57.199219 \nL 237.920313 57.199219 \n\" clip-path=\"url(#p3663aef1b1)\" style=\"fill: none; stroke: #b0b0b0; stroke-width: 0.8; stroke-linecap: square\"/>\n     </g>\n     <g id=\"line2d_22\">\n      <g>\n       <use xlink:href=\"#md3a6f920ce\" x=\"42.620312\" y=\"57.199219\" style=\"stroke: #000000; stroke-width: 0.8\"/>\n      </g>\n     </g>\n     <g id=\"text_12\">\n      <!-- 3 -->\n      <g transform=\"translate(29.257812 60.998437) scale(0.1 -0.1)\">\n       <use xlink:href=\"#DejaVuSans-33\"/>\n      </g>\n     </g>\n    </g>\n    <g id=\"ytick_6\">\n     <g id=\"line2d_23\">\n      <path d=\"M 42.620312 34.099219 \nL 237.920313 34.099219 \n\" clip-path=\"url(#p3663aef1b1)\" style=\"fill: none; stroke: #b0b0b0; stroke-width: 0.8; stroke-linecap: square\"/>\n     </g>\n     <g id=\"line2d_24\">\n      <g>\n       <use xlink:href=\"#md3a6f920ce\" x=\"42.620312\" y=\"34.099219\" style=\"stroke: #000000; stroke-width: 0.8\"/>\n      </g>\n     </g>\n     <g id=\"text_13\">\n      <!-- 4 -->\n      <g transform=\"translate(29.257812 37.898438) scale(0.1 -0.1)\">\n       <use xlink:href=\"#DejaVuSans-34\"/>\n      </g>\n     </g>\n    </g>\n    <g id=\"ytick_7\">\n     <g id=\"line2d_25\">\n      <path d=\"M 42.620312 10.999219 \nL 237.920313 10.999219 \n\" clip-path=\"url(#p3663aef1b1)\" style=\"fill: none; stroke: #b0b0b0; stroke-width: 0.8; stroke-linecap: square\"/>\n     </g>\n     <g id=\"line2d_26\">\n      <g>\n       <use xlink:href=\"#md3a6f920ce\" x=\"42.620312\" y=\"10.999219\" style=\"stroke: #000000; stroke-width: 0.8\"/>\n      </g>\n     </g>\n     <g id=\"text_14\">\n      <!-- 5 -->\n      <g transform=\"translate(29.257812 14.798437) scale(0.1 -0.1)\">\n       <use xlink:href=\"#DejaVuSans-35\"/>\n      </g>\n     </g>\n    </g>\n    <g id=\"text_15\">\n     <!-- y -->\n     <g transform=\"translate(14.798437 83.258594) rotate(-90) scale(0.1 -0.1)\">\n      <defs>\n       <path id=\"DejaVuSans-79\" d=\"M 2059 -325 \nQ 1816 -950 1584 -1140 \nQ 1353 -1331 966 -1331 \nL 506 -1331 \nL 506 -850 \nL 844 -850 \nQ 1081 -850 1212 -737 \nQ 1344 -625 1503 -206 \nL 1606 56 \nL 191 3500 \nL 800 3500 \nL 1894 763 \nL 2988 3500 \nL 3597 3500 \nL 2059 -325 \nz\n\" transform=\"scale(0.015625)\"/>\n      </defs>\n      <use xlink:href=\"#DejaVuSans-79\"/>\n     </g>\n    </g>\n   </g>\n   <g id=\"line2d_27\">\n    <path d=\"M 42.620312 126.499219 \nL 46.526313 118.225812 \nL 50.432313 110.946345 \nL 54.338313 104.029425 \nL 58.244313 97.4097 \nL 62.150312 91.082293 \nL 66.056313 85.061866 \nL 69.962312 79.370737 \nL 73.868313 74.033949 \nL 77.774314 69.076775 \nL 81.680312 64.523261 \nL 85.586313 60.395214 \nL 89.492314 56.711598 \nL 93.398311 53.487961 \nL 97.304312 50.736132 \nL 101.210313 48.46391 \nL 105.116313 46.674891 \nL 109.022314 45.368338 \nL 112.928315 44.539111 \nL 116.834312 44.177706 \nL 120.740313 44.270242 \nL 124.646309 44.798618 \nL 128.552314 45.740654 \nL 132.458311 47.070245 \nL 136.364316 48.757689 \nL 140.270312 50.76986 \nL 144.176318 53.070611 \nL 148.082314 55.621064 \nL 151.98832 58.380042 \nL 155.894316 61.304393 \nL 159.800313 64.349483 \nL 163.706318 67.469619 \nL 167.612314 70.618454 \nL 171.518311 73.749494 \nL 175.424316 76.816549 \nL 179.330312 79.774142 \nL 183.236318 82.578044 \nL 187.142314 85.185605 \nL 191.048311 87.556281 \nL 194.954316 89.651973 \nL 198.860313 91.437389 \nL 202.766309 92.880457 \nL 206.672305 93.952601 \nL 210.57832 94.629017 \nL 214.484316 94.888934 \nL 218.390312 94.715829 \nL 222.296309 94.097555 \nL 226.202305 93.026506 \nL 230.10832 91.499643 \nL 234.014316 89.518571 \n\" clip-path=\"url(#p3663aef1b1)\" style=\"fill: none; stroke: #1f77b4; stroke-width: 1.5; stroke-linecap: square\"/>\n   </g>\n   <g id=\"line2d_28\">\n    <path d=\"M 42.620312 72.9649 \nL 46.526313 72.9649 \nL 50.432313 72.9649 \nL 54.338313 72.9649 \nL 58.244313 72.9649 \nL 62.150312 72.9649 \nL 66.056313 72.9649 \nL 69.962312 72.9649 \nL 73.868313 72.9649 \nL 77.774314 72.9649 \nL 81.680312 72.9649 \nL 85.586313 72.9649 \nL 89.492314 72.9649 \nL 93.398311 72.9649 \nL 97.304312 72.9649 \nL 101.210313 72.9649 \nL 105.116313 72.9649 \nL 109.022314 72.9649 \nL 112.928315 72.9649 \nL 116.834312 72.9649 \nL 120.740313 72.9649 \nL 124.646309 72.9649 \nL 128.552314 72.9649 \nL 132.458311 72.9649 \nL 136.364316 72.9649 \nL 140.270312 72.9649 \nL 144.176318 72.9649 \nL 148.082314 72.9649 \nL 151.98832 72.9649 \nL 155.894316 72.9649 \nL 159.800313 72.9649 \nL 163.706318 72.9649 \nL 167.612314 72.9649 \nL 171.518311 72.9649 \nL 175.424316 72.9649 \nL 179.330312 72.9649 \nL 183.236318 72.9649 \nL 187.142314 72.9649 \nL 191.048311 72.9649 \nL 194.954316 72.9649 \nL 198.860313 72.9649 \nL 202.766309 72.9649 \nL 206.672305 72.9649 \nL 210.57832 72.9649 \nL 214.484316 72.9649 \nL 218.390312 72.9649 \nL 222.296309 72.9649 \nL 226.202305 72.9649 \nL 230.10832 72.9649 \nL 234.014316 72.9649 \n\" clip-path=\"url(#p3663aef1b1)\" style=\"fill: none; stroke-dasharray: 5.55,2.4; stroke-dashoffset: 0; stroke: #bf00bf; stroke-width: 1.5\"/>\n   </g>\n   <g id=\"line2d_29\">\n    <defs>\n     <path id=\"md3627dfb2f\" d=\"M 0 3 \nC 0.795609 3 1.55874 2.683901 2.12132 2.12132 \nC 2.683901 1.55874 3 0.795609 3 0 \nC 3 -0.795609 2.683901 -1.55874 2.12132 -2.12132 \nC 1.55874 -2.683901 0.795609 -3 0 -3 \nC -0.795609 -3 -1.55874 -2.683901 -2.12132 -2.12132 \nC -2.683901 -1.55874 -3 -0.795609 -3 0 \nC -3 0.795609 -2.683901 1.55874 -2.12132 2.12132 \nC -1.55874 2.683901 -0.795609 3 0 3 \nz\n\" style=\"stroke: #ff7f0e; stroke-opacity: 0.5\"/>\n    </defs>\n    <g clip-path=\"url(#p3663aef1b1)\">\n     <use xlink:href=\"#md3627dfb2f\" x=\"47.345692\" y=\"100.001815\" style=\"fill: #ff7f0e; fill-opacity: 0.5; stroke: #ff7f0e; stroke-opacity: 0.5\"/>\n     <use xlink:href=\"#md3627dfb2f\" x=\"48.195062\" y=\"118.918406\" style=\"fill: #ff7f0e; fill-opacity: 0.5; stroke: #ff7f0e; stroke-opacity: 0.5\"/>\n     <use xlink:href=\"#md3627dfb2f\" x=\"49.76523\" y=\"97.532302\" style=\"fill: #ff7f0e; fill-opacity: 0.5; stroke: #ff7f0e; stroke-opacity: 0.5\"/>\n     <use xlink:href=\"#md3627dfb2f\" x=\"60.119663\" y=\"95.246914\" style=\"fill: #ff7f0e; fill-opacity: 0.5; stroke: #ff7f0e; stroke-opacity: 0.5\"/>\n     <use xlink:href=\"#md3627dfb2f\" x=\"64.611762\" y=\"98.260128\" style=\"fill: #ff7f0e; fill-opacity: 0.5; stroke: #ff7f0e; stroke-opacity: 0.5\"/>\n     <use xlink:href=\"#md3627dfb2f\" x=\"74.13318\" y=\"84.414609\" style=\"fill: #ff7f0e; fill-opacity: 0.5; stroke: #ff7f0e; stroke-opacity: 0.5\"/>\n     <use xlink:href=\"#md3627dfb2f\" x=\"74.99759\" y=\"58.223123\" style=\"fill: #ff7f0e; fill-opacity: 0.5; stroke: #ff7f0e; stroke-opacity: 0.5\"/>\n     <use xlink:href=\"#md3627dfb2f\" x=\"79.309827\" y=\"68.813618\" style=\"fill: #ff7f0e; fill-opacity: 0.5; stroke: #ff7f0e; stroke-opacity: 0.5\"/>\n     <use xlink:href=\"#md3627dfb2f\" x=\"84.893635\" y=\"53.165262\" style=\"fill: #ff7f0e; fill-opacity: 0.5; stroke: #ff7f0e; stroke-opacity: 0.5\"/>\n     <use xlink:href=\"#md3627dfb2f\" x=\"86.031136\" y=\"41.877329\" style=\"fill: #ff7f0e; fill-opacity: 0.5; stroke: #ff7f0e; stroke-opacity: 0.5\"/>\n     <use xlink:href=\"#md3627dfb2f\" x=\"86.962362\" y=\"53.109714\" style=\"fill: #ff7f0e; fill-opacity: 0.5; stroke: #ff7f0e; stroke-opacity: 0.5\"/>\n     <use xlink:href=\"#md3627dfb2f\" x=\"90.713829\" y=\"56.033629\" style=\"fill: #ff7f0e; fill-opacity: 0.5; stroke: #ff7f0e; stroke-opacity: 0.5\"/>\n     <use xlink:href=\"#md3627dfb2f\" x=\"104.179486\" y=\"37.832429\" style=\"fill: #ff7f0e; fill-opacity: 0.5; stroke: #ff7f0e; stroke-opacity: 0.5\"/>\n     <use xlink:href=\"#md3627dfb2f\" x=\"104.566878\" y=\"41.364992\" style=\"fill: #ff7f0e; fill-opacity: 0.5; stroke: #ff7f0e; stroke-opacity: 0.5\"/>\n     <use xlink:href=\"#md3627dfb2f\" x=\"108.352522\" y=\"55.786112\" style=\"fill: #ff7f0e; fill-opacity: 0.5; stroke: #ff7f0e; stroke-opacity: 0.5\"/>\n     <use xlink:href=\"#md3627dfb2f\" x=\"109.187027\" y=\"43.835973\" style=\"fill: #ff7f0e; fill-opacity: 0.5; stroke: #ff7f0e; stroke-opacity: 0.5\"/>\n     <use xlink:href=\"#md3627dfb2f\" x=\"109.760657\" y=\"42.966156\" style=\"fill: #ff7f0e; fill-opacity: 0.5; stroke: #ff7f0e; stroke-opacity: 0.5\"/>\n     <use xlink:href=\"#md3627dfb2f\" x=\"109.919917\" y=\"52.31492\" style=\"fill: #ff7f0e; fill-opacity: 0.5; stroke: #ff7f0e; stroke-opacity: 0.5\"/>\n     <use xlink:href=\"#md3627dfb2f\" x=\"115.177516\" y=\"35.806766\" style=\"fill: #ff7f0e; fill-opacity: 0.5; stroke: #ff7f0e; stroke-opacity: 0.5\"/>\n     <use xlink:href=\"#md3627dfb2f\" x=\"122.478291\" y=\"58.761192\" style=\"fill: #ff7f0e; fill-opacity: 0.5; stroke: #ff7f0e; stroke-opacity: 0.5\"/>\n     <use xlink:href=\"#md3627dfb2f\" x=\"130.765507\" y=\"49.248207\" style=\"fill: #ff7f0e; fill-opacity: 0.5; stroke: #ff7f0e; stroke-opacity: 0.5\"/>\n     <use xlink:href=\"#md3627dfb2f\" x=\"133.249623\" y=\"55.857473\" style=\"fill: #ff7f0e; fill-opacity: 0.5; stroke: #ff7f0e; stroke-opacity: 0.5\"/>\n     <use xlink:href=\"#md3627dfb2f\" x=\"141.300243\" y=\"42.451164\" style=\"fill: #ff7f0e; fill-opacity: 0.5; stroke: #ff7f0e; stroke-opacity: 0.5\"/>\n     <use xlink:href=\"#md3627dfb2f\" x=\"142.332576\" y=\"39.443028\" style=\"fill: #ff7f0e; fill-opacity: 0.5; stroke: #ff7f0e; stroke-opacity: 0.5\"/>\n     <use xlink:href=\"#md3627dfb2f\" x=\"148.574701\" y=\"78.174668\" style=\"fill: #ff7f0e; fill-opacity: 0.5; stroke: #ff7f0e; stroke-opacity: 0.5\"/>\n     <use xlink:href=\"#md3627dfb2f\" x=\"162.325507\" y=\"64.226727\" style=\"fill: #ff7f0e; fill-opacity: 0.5; stroke: #ff7f0e; stroke-opacity: 0.5\"/>\n     <use xlink:href=\"#md3627dfb2f\" x=\"163.264788\" y=\"56.729404\" style=\"fill: #ff7f0e; fill-opacity: 0.5; stroke: #ff7f0e; stroke-opacity: 0.5\"/>\n     <use xlink:href=\"#md3627dfb2f\" x=\"164.574777\" y=\"58.697118\" style=\"fill: #ff7f0e; fill-opacity: 0.5; stroke: #ff7f0e; stroke-opacity: 0.5\"/>\n     <use xlink:href=\"#md3627dfb2f\" x=\"171.327802\" y=\"66.666399\" style=\"fill: #ff7f0e; fill-opacity: 0.5; stroke: #ff7f0e; stroke-opacity: 0.5\"/>\n     <use xlink:href=\"#md3627dfb2f\" x=\"171.900734\" y=\"80.760822\" style=\"fill: #ff7f0e; fill-opacity: 0.5; stroke: #ff7f0e; stroke-opacity: 0.5\"/>\n     <use xlink:href=\"#md3627dfb2f\" x=\"175.046559\" y=\"74.398202\" style=\"fill: #ff7f0e; fill-opacity: 0.5; stroke: #ff7f0e; stroke-opacity: 0.5\"/>\n     <use xlink:href=\"#md3627dfb2f\" x=\"180.350567\" y=\"58.345923\" style=\"fill: #ff7f0e; fill-opacity: 0.5; stroke: #ff7f0e; stroke-opacity: 0.5\"/>\n     <use xlink:href=\"#md3627dfb2f\" x=\"181.830567\" y=\"87.696917\" style=\"fill: #ff7f0e; fill-opacity: 0.5; stroke: #ff7f0e; stroke-opacity: 0.5\"/>\n     <use xlink:href=\"#md3627dfb2f\" x=\"185.101498\" y=\"71.282131\" style=\"fill: #ff7f0e; fill-opacity: 0.5; stroke: #ff7f0e; stroke-opacity: 0.5\"/>\n     <use xlink:href=\"#md3627dfb2f\" x=\"185.270932\" y=\"80.136925\" style=\"fill: #ff7f0e; fill-opacity: 0.5; stroke: #ff7f0e; stroke-opacity: 0.5\"/>\n     <use xlink:href=\"#md3627dfb2f\" x=\"189.09453\" y=\"111.018059\" style=\"fill: #ff7f0e; fill-opacity: 0.5; stroke: #ff7f0e; stroke-opacity: 0.5\"/>\n     <use xlink:href=\"#md3627dfb2f\" x=\"192.145301\" y=\"83.696463\" style=\"fill: #ff7f0e; fill-opacity: 0.5; stroke: #ff7f0e; stroke-opacity: 0.5\"/>\n     <use xlink:href=\"#md3627dfb2f\" x=\"200.75316\" y=\"115.121732\" style=\"fill: #ff7f0e; fill-opacity: 0.5; stroke: #ff7f0e; stroke-opacity: 0.5\"/>\n     <use xlink:href=\"#md3627dfb2f\" x=\"209.996038\" y=\"91.782983\" style=\"fill: #ff7f0e; fill-opacity: 0.5; stroke: #ff7f0e; stroke-opacity: 0.5\"/>\n     <use xlink:href=\"#md3627dfb2f\" x=\"212.098625\" y=\"100.001446\" style=\"fill: #ff7f0e; fill-opacity: 0.5; stroke: #ff7f0e; stroke-opacity: 0.5\"/>\n     <use xlink:href=\"#md3627dfb2f\" x=\"212.125204\" y=\"97.216074\" style=\"fill: #ff7f0e; fill-opacity: 0.5; stroke: #ff7f0e; stroke-opacity: 0.5\"/>\n     <use xlink:href=\"#md3627dfb2f\" x=\"214.060014\" y=\"82.168352\" style=\"fill: #ff7f0e; fill-opacity: 0.5; stroke: #ff7f0e; stroke-opacity: 0.5\"/>\n     <use xlink:href=\"#md3627dfb2f\" x=\"215.19582\" y=\"86.912527\" style=\"fill: #ff7f0e; fill-opacity: 0.5; stroke: #ff7f0e; stroke-opacity: 0.5\"/>\n     <use xlink:href=\"#md3627dfb2f\" x=\"215.935447\" y=\"84.496632\" style=\"fill: #ff7f0e; fill-opacity: 0.5; stroke: #ff7f0e; stroke-opacity: 0.5\"/>\n     <use xlink:href=\"#md3627dfb2f\" x=\"216.490033\" y=\"106.066023\" style=\"fill: #ff7f0e; fill-opacity: 0.5; stroke: #ff7f0e; stroke-opacity: 0.5\"/>\n     <use xlink:href=\"#md3627dfb2f\" x=\"224.101525\" y=\"78.730356\" style=\"fill: #ff7f0e; fill-opacity: 0.5; stroke: #ff7f0e; stroke-opacity: 0.5\"/>\n     <use xlink:href=\"#md3627dfb2f\" x=\"224.708168\" y=\"101.064583\" style=\"fill: #ff7f0e; fill-opacity: 0.5; stroke: #ff7f0e; stroke-opacity: 0.5\"/>\n     <use xlink:href=\"#md3627dfb2f\" x=\"229.083279\" y=\"79.539331\" style=\"fill: #ff7f0e; fill-opacity: 0.5; stroke: #ff7f0e; stroke-opacity: 0.5\"/>\n     <use xlink:href=\"#md3627dfb2f\" x=\"229.838608\" y=\"89.284572\" style=\"fill: #ff7f0e; fill-opacity: 0.5; stroke: #ff7f0e; stroke-opacity: 0.5\"/>\n     <use xlink:href=\"#md3627dfb2f\" x=\"230.400681\" y=\"82.765262\" style=\"fill: #ff7f0e; fill-opacity: 0.5; stroke: #ff7f0e; stroke-opacity: 0.5\"/>\n    </g>\n   </g>\n   <g id=\"patch_3\">\n    <path d=\"M 42.620312 149.599219 \nL 42.620312 10.999219 \n\" style=\"fill: none; stroke: #000000; stroke-width: 0.8; stroke-linejoin: miter; stroke-linecap: square\"/>\n   </g>\n   <g id=\"patch_4\">\n    <path d=\"M 237.920313 149.599219 \nL 237.920313 10.999219 \n\" style=\"fill: none; stroke: #000000; stroke-width: 0.8; stroke-linejoin: miter; stroke-linecap: square\"/>\n   </g>\n   <g id=\"patch_5\">\n    <path d=\"M 42.620312 149.599219 \nL 237.920313 149.599219 \n\" style=\"fill: none; stroke: #000000; stroke-width: 0.8; stroke-linejoin: miter; stroke-linecap: square\"/>\n   </g>\n   <g id=\"patch_6\">\n    <path d=\"M 42.620312 10.999219 \nL 237.920313 10.999219 \n\" style=\"fill: none; stroke: #000000; stroke-width: 0.8; stroke-linejoin: miter; stroke-linecap: square\"/>\n   </g>\n   <g id=\"legend_1\">\n    <g id=\"patch_7\">\n     <path d=\"M 173.58125 48.355469 \nL 230.920313 48.355469 \nQ 232.920313 48.355469 232.920313 46.355469 \nL 232.920313 17.999219 \nQ 232.920313 15.999219 230.920313 15.999219 \nL 173.58125 15.999219 \nQ 171.58125 15.999219 171.58125 17.999219 \nL 171.58125 46.355469 \nQ 171.58125 48.355469 173.58125 48.355469 \nz\n\" style=\"fill: #ffffff; opacity: 0.8; stroke: #cccccc; stroke-linejoin: miter\"/>\n    </g>\n    <g id=\"line2d_30\">\n     <path d=\"M 175.58125 24.097656 \nL 185.58125 24.097656 \nL 195.58125 24.097656 \n\" style=\"fill: none; stroke: #1f77b4; stroke-width: 1.5; stroke-linecap: square\"/>\n    </g>\n    <g id=\"text_16\">\n     <!-- Truth -->\n     <g transform=\"translate(203.58125 27.597656) scale(0.1 -0.1)\">\n      <defs>\n       <path id=\"DejaVuSans-54\" d=\"M -19 4666 \nL 3928 4666 \nL 3928 4134 \nL 2272 4134 \nL 2272 0 \nL 1638 0 \nL 1638 4134 \nL -19 4134 \nL -19 4666 \nz\n\" transform=\"scale(0.015625)\"/>\n       <path id=\"DejaVuSans-72\" d=\"M 2631 2963 \nQ 2534 3019 2420 3045 \nQ 2306 3072 2169 3072 \nQ 1681 3072 1420 2755 \nQ 1159 2438 1159 1844 \nL 1159 0 \nL 581 0 \nL 581 3500 \nL 1159 3500 \nL 1159 2956 \nQ 1341 3275 1631 3429 \nQ 1922 3584 2338 3584 \nQ 2397 3584 2469 3576 \nQ 2541 3569 2628 3553 \nL 2631 2963 \nz\n\" transform=\"scale(0.015625)\"/>\n       <path id=\"DejaVuSans-75\" d=\"M 544 1381 \nL 544 3500 \nL 1119 3500 \nL 1119 1403 \nQ 1119 906 1312 657 \nQ 1506 409 1894 409 \nQ 2359 409 2629 706 \nQ 2900 1003 2900 1516 \nL 2900 3500 \nL 3475 3500 \nL 3475 0 \nL 2900 0 \nL 2900 538 \nQ 2691 219 2414 64 \nQ 2138 -91 1772 -91 \nQ 1169 -91 856 284 \nQ 544 659 544 1381 \nz\nM 1991 3584 \nL 1991 3584 \nz\n\" transform=\"scale(0.015625)\"/>\n       <path id=\"DejaVuSans-74\" d=\"M 1172 4494 \nL 1172 3500 \nL 2356 3500 \nL 2356 3053 \nL 1172 3053 \nL 1172 1153 \nQ 1172 725 1289 603 \nQ 1406 481 1766 481 \nL 2356 481 \nL 2356 0 \nL 1766 0 \nQ 1100 0 847 248 \nQ 594 497 594 1153 \nL 594 3053 \nL 172 3053 \nL 172 3500 \nL 594 3500 \nL 594 4494 \nL 1172 4494 \nz\n\" transform=\"scale(0.015625)\"/>\n       <path id=\"DejaVuSans-68\" d=\"M 3513 2113 \nL 3513 0 \nL 2938 0 \nL 2938 2094 \nQ 2938 2591 2744 2837 \nQ 2550 3084 2163 3084 \nQ 1697 3084 1428 2787 \nQ 1159 2491 1159 1978 \nL 1159 0 \nL 581 0 \nL 581 4863 \nL 1159 4863 \nL 1159 2956 \nQ 1366 3272 1645 3428 \nQ 1925 3584 2291 3584 \nQ 2894 3584 3203 3211 \nQ 3513 2838 3513 2113 \nz\n\" transform=\"scale(0.015625)\"/>\n      </defs>\n      <use xlink:href=\"#DejaVuSans-54\"/>\n      <use xlink:href=\"#DejaVuSans-72\" transform=\"translate(46.333984 0)\"/>\n      <use xlink:href=\"#DejaVuSans-75\" transform=\"translate(87.447266 0)\"/>\n      <use xlink:href=\"#DejaVuSans-74\" transform=\"translate(150.826172 0)\"/>\n      <use xlink:href=\"#DejaVuSans-68\" transform=\"translate(190.035156 0)\"/>\n     </g>\n    </g>\n    <g id=\"line2d_31\">\n     <path d=\"M 175.58125 38.775781 \nL 185.58125 38.775781 \nL 195.58125 38.775781 \n\" style=\"fill: none; stroke-dasharray: 5.55,2.4; stroke-dashoffset: 0; stroke: #bf00bf; stroke-width: 1.5\"/>\n    </g>\n    <g id=\"text_17\">\n     <!-- Pred -->\n     <g transform=\"translate(203.58125 42.275781) scale(0.1 -0.1)\">\n      <defs>\n       <path id=\"DejaVuSans-50\" d=\"M 1259 4147 \nL 1259 2394 \nL 2053 2394 \nQ 2494 2394 2734 2622 \nQ 2975 2850 2975 3272 \nQ 2975 3691 2734 3919 \nQ 2494 4147 2053 4147 \nL 1259 4147 \nz\nM 628 4666 \nL 2053 4666 \nQ 2838 4666 3239 4311 \nQ 3641 3956 3641 3272 \nQ 3641 2581 3239 2228 \nQ 2838 1875 2053 1875 \nL 1259 1875 \nL 1259 0 \nL 628 0 \nL 628 4666 \nz\n\" transform=\"scale(0.015625)\"/>\n       <path id=\"DejaVuSans-65\" d=\"M 3597 1894 \nL 3597 1613 \nL 953 1613 \nQ 991 1019 1311 708 \nQ 1631 397 2203 397 \nQ 2534 397 2845 478 \nQ 3156 559 3463 722 \nL 3463 178 \nQ 3153 47 2828 -22 \nQ 2503 -91 2169 -91 \nQ 1331 -91 842 396 \nQ 353 884 353 1716 \nQ 353 2575 817 3079 \nQ 1281 3584 2069 3584 \nQ 2775 3584 3186 3129 \nQ 3597 2675 3597 1894 \nz\nM 3022 2063 \nQ 3016 2534 2758 2815 \nQ 2500 3097 2075 3097 \nQ 1594 3097 1305 2825 \nQ 1016 2553 972 2059 \nL 3022 2063 \nz\n\" transform=\"scale(0.015625)\"/>\n       <path id=\"DejaVuSans-64\" d=\"M 2906 2969 \nL 2906 4863 \nL 3481 4863 \nL 3481 0 \nL 2906 0 \nL 2906 525 \nQ 2725 213 2448 61 \nQ 2172 -91 1784 -91 \nQ 1150 -91 751 415 \nQ 353 922 353 1747 \nQ 353 2572 751 3078 \nQ 1150 3584 1784 3584 \nQ 2172 3584 2448 3432 \nQ 2725 3281 2906 2969 \nz\nM 947 1747 \nQ 947 1113 1208 752 \nQ 1469 391 1925 391 \nQ 2381 391 2643 752 \nQ 2906 1113 2906 1747 \nQ 2906 2381 2643 2742 \nQ 2381 3103 1925 3103 \nQ 1469 3103 1208 2742 \nQ 947 2381 947 1747 \nz\n\" transform=\"scale(0.015625)\"/>\n      </defs>\n      <use xlink:href=\"#DejaVuSans-50\"/>\n      <use xlink:href=\"#DejaVuSans-72\" transform=\"translate(58.552734 0)\"/>\n      <use xlink:href=\"#DejaVuSans-65\" transform=\"translate(97.416016 0)\"/>\n      <use xlink:href=\"#DejaVuSans-64\" transform=\"translate(158.939453 0)\"/>\n     </g>\n    </g>\n   </g>\n  </g>\n </g>\n <defs>\n  <clipPath id=\"p3663aef1b1\">\n   <rect x=\"42.620312\" y=\"10.999219\" width=\"195.3\" height=\"138.6\"/>\n  </clipPath>\n </defs>\n</svg>\n"
          },
          "metadata": {}
        }
      ],
      "source": [
        "y_hat = torch.repeat_interleave(y_train.mean(), n_test)\n",
        "plot_kernel_reg(y_hat)"
      ]
    },
    {
      "cell_type": "code",
      "source": [
        "y_hat"
      ],
      "metadata": {
        "id": "-B4CGe0oaXxR",
        "outputId": "7e9c672e-297e-4279-a77c-e5be4192e2d1",
        "colab": {
          "base_uri": "https://localhost:8080/"
        }
      },
      "id": "-B4CGe0oaXxR",
      "execution_count": 11,
      "outputs": [
        {
          "output_type": "execute_result",
          "data": {
            "text/plain": [
              "tensor([2.3175, 2.3175, 2.3175, 2.3175, 2.3175, 2.3175, 2.3175, 2.3175, 2.3175,\n",
              "        2.3175, 2.3175, 2.3175, 2.3175, 2.3175, 2.3175, 2.3175, 2.3175, 2.3175,\n",
              "        2.3175, 2.3175, 2.3175, 2.3175, 2.3175, 2.3175, 2.3175, 2.3175, 2.3175,\n",
              "        2.3175, 2.3175, 2.3175, 2.3175, 2.3175, 2.3175, 2.3175, 2.3175, 2.3175,\n",
              "        2.3175, 2.3175, 2.3175, 2.3175, 2.3175, 2.3175, 2.3175, 2.3175, 2.3175,\n",
              "        2.3175, 2.3175, 2.3175, 2.3175, 2.3175])"
            ]
          },
          "metadata": {},
          "execution_count": 11
        }
      ]
    },
    {
      "cell_type": "markdown",
      "id": "2d4155fa",
      "metadata": {
        "origin_pos": 21,
        "id": "2d4155fa"
      },
      "source": [
        "## [**非参数注意力汇聚**]\n",
        "\n",
        "显然，平均汇聚忽略了输入$x_i$。\n",
        "于是Nadaraya :cite:`Nadaraya.1964`和\n",
        "Watson :cite:`Watson.1964`提出了一个更好的想法，\n",
        "根据输入的位置对输出$y_i$进行加权：\n",
        "\n",
        "$$f(x) = \\sum_{i=1}^n \\frac{K(x - x_i)}{\\sum_{j=1}^n K(x - x_j)} y_i,$$\n",
        ":eqlabel:`eq_nadaraya-watson`\n",
        "\n",
        "其中$K$是*核*（kernel）。\n",
        "公式 :eqref:`eq_nadaraya-watson`所描述的估计器被称为\n",
        "*Nadaraya-Watson核回归*（Nadaraya-Watson kernel regression）。\n",
        "这里不会深入讨论核函数的细节，\n",
        "但受此启发，\n",
        "我们可以从 :numref:`fig_qkv`中的注意力机制框架的角度\n",
        "重写 :eqref:`eq_nadaraya-watson`，\n",
        "成为一个更加通用的*注意力汇聚*（attention pooling）公式：\n",
        "\n",
        "$$f(x) = \\sum_{i=1}^n \\alpha(x, x_i) y_i,$$\n",
        ":eqlabel:`eq_attn-pooling`\n",
        "\n",
        "其中$x$是查询，$(x_i, y_i)$是键值对。\n",
        "比较 :eqref:`eq_attn-pooling`和 :eqref:`eq_avg-pooling`，\n",
        "注意力汇聚是$y_i$的加权平均。\n",
        "将查询$x$和键$x_i$之间的关系建模为\n",
        "*注意力权重*（attention weight）$\\alpha(x, x_i)$，\n",
        "如 :eqref:`eq_attn-pooling`所示，\n",
        "这个权重将被分配给每一个对应值$y_i$。\n",
        "对于任何查询，模型在所有键值对注意力权重都是一个有效的概率分布：\n",
        "它们是非负的，并且总和为1。\n",
        "\n",
        "为了更好地理解注意力汇聚，\n",
        "下面考虑一个*高斯核*（Gaussian kernel），其定义为：\n",
        "\n",
        "$$K(u) = \\frac{1}{\\sqrt{2\\pi}} \\exp(-\\frac{u^2}{2}).$$\n",
        "\n",
        "将高斯核代入 :eqref:`eq_attn-pooling`和\n",
        " :eqref:`eq_nadaraya-watson`可以得到：\n",
        "\n",
        "$$\\begin{aligned} f(x) &=\\sum_{i=1}^n \\alpha(x, x_i) y_i\\\\ &= \\sum_{i=1}^n \\frac{\\exp\\left(-\\frac{1}{2}(x - x_i)^2\\right)}{\\sum_{j=1}^n \\exp\\left(-\\frac{1}{2}(x - x_j)^2\\right)} y_i \\\\&= \\sum_{i=1}^n \\mathrm{softmax}\\left(-\\frac{1}{2}(x - x_i)^2\\right) y_i. \\end{aligned}$$\n",
        ":eqlabel:`eq_nadaraya-watson-gaussian`\n",
        "\n",
        "在 :eqref:`eq_nadaraya-watson-gaussian`中，\n",
        "如果一个键$x_i$越是接近给定的查询$x$，\n",
        "那么分配给这个键对应值$y_i$的注意力权重就会越大，\n",
        "也就“获得了更多的注意力”。\n",
        "\n",
        "值得注意的是，Nadaraya-Watson核回归是一个非参数模型。\n",
        "因此， :eqref:`eq_nadaraya-watson-gaussian`是\n",
        "*非参数的注意力汇聚*（nonparametric attention pooling）模型。\n",
        "接下来，我们将基于这个非参数的注意力汇聚模型来绘制预测结果。\n",
        "从绘制的结果会发现新的模型预测线是平滑的，并且比平均汇聚的预测更接近真实。\n"
      ]
    },
    {
      "cell_type": "code",
      "execution_count": 15,
      "id": "892e92a9",
      "metadata": {
        "execution": {
          "iopub.execute_input": "2023-08-18T07:07:16.925532Z",
          "iopub.status.busy": "2023-08-18T07:07:16.924886Z",
          "iopub.status.idle": "2023-08-18T07:07:17.137585Z",
          "shell.execute_reply": "2023-08-18T07:07:17.136490Z"
        },
        "origin_pos": 23,
        "tab": [
          "pytorch"
        ],
        "id": "892e92a9",
        "outputId": "67d8772b-b669-4f14-f9b7-93ba3bcf11d0",
        "colab": {
          "base_uri": "https://localhost:8080/"
        }
      },
      "outputs": [
        {
          "output_type": "execute_result",
          "data": {
            "text/plain": [
              "(tensor([[0.0000, 0.0000, 0.0000,  ..., 0.0000, 0.0000, 0.0000],\n",
              "         [0.1000, 0.1000, 0.1000,  ..., 0.1000, 0.1000, 0.1000],\n",
              "         [0.2000, 0.2000, 0.2000,  ..., 0.2000, 0.2000, 0.2000],\n",
              "         ...,\n",
              "         [4.7000, 4.7000, 4.7000,  ..., 4.7000, 4.7000, 4.7000],\n",
              "         [4.8000, 4.8000, 4.8000,  ..., 4.8000, 4.8000, 4.8000],\n",
              "         [4.9000, 4.9000, 4.9000,  ..., 4.9000, 4.9000, 4.9000]]),\n",
              " torch.Size([50, 50]))"
            ]
          },
          "metadata": {},
          "execution_count": 15
        }
      ],
      "source": [
        "# X_repeat的形状:(n_test,n_train),\n",
        "# 每一行都包含着相同的测试输入（例如：同样的查询）\n",
        "X_repeat = x_test.repeat_interleave(n_train).reshape((-1, n_train))  #测试点输入作为查询query\n",
        "X_repeat,X_repeat.shape"
      ]
    },
    {
      "cell_type": "code",
      "source": [
        "x_train,x_train.shape"
      ],
      "metadata": {
        "id": "8daoVAx1bCD2",
        "outputId": "e585a16c-da67-4f4f-beaf-78363b8b7fba",
        "colab": {
          "base_uri": "https://localhost:8080/"
        }
      },
      "id": "8daoVAx1bCD2",
      "execution_count": 18,
      "outputs": [
        {
          "output_type": "execute_result",
          "data": {
            "text/plain": [
              "(tensor([0.1210, 0.1427, 0.1829, 0.4480, 0.5630, 0.8068, 0.8289, 0.9393, 1.0823,\n",
              "         1.1114, 1.1352, 1.2313, 1.5760, 1.5859, 1.6829, 1.7042, 1.7189, 1.7230,\n",
              "         1.8576, 2.0445, 2.2567, 2.3203, 2.5264, 2.5528, 2.7126, 3.0646, 3.0887,\n",
              "         3.1222, 3.2951, 3.3098, 3.3903, 3.5261, 3.5640, 3.6478, 3.6521, 3.7500,\n",
              "         3.8281, 4.0485, 4.2851, 4.3389, 4.3396, 4.3891, 4.4182, 4.4372, 4.4513,\n",
              "         4.6462, 4.6617, 4.7738, 4.7931, 4.8075]),\n",
              " torch.Size([50]))"
            ]
          },
          "metadata": {},
          "execution_count": 18
        }
      ]
    },
    {
      "cell_type": "code",
      "source": [
        "X_repeat-x_train"
      ],
      "metadata": {
        "id": "phHSmnB-bHdY",
        "outputId": "6da936ee-628f-416d-a8c1-3c14d543ec95",
        "colab": {
          "base_uri": "https://localhost:8080/"
        }
      },
      "id": "phHSmnB-bHdY",
      "execution_count": 19,
      "outputs": [
        {
          "output_type": "execute_result",
          "data": {
            "text/plain": [
              "tensor([[-0.1210, -0.1427, -0.1829,  ..., -4.7738, -4.7931, -4.8075],\n",
              "        [-0.0210, -0.0427, -0.0829,  ..., -4.6738, -4.6931, -4.7075],\n",
              "        [ 0.0790,  0.0573,  0.0171,  ..., -4.5738, -4.5931, -4.6075],\n",
              "        ...,\n",
              "        [ 4.5790,  4.5573,  4.5171,  ..., -0.0738, -0.0931, -0.1075],\n",
              "        [ 4.6790,  4.6573,  4.6171,  ...,  0.0262,  0.0069, -0.0075],\n",
              "        [ 4.7790,  4.7573,  4.7171,  ...,  0.1262,  0.1069,  0.0925]])"
            ]
          },
          "metadata": {},
          "execution_count": 19
        }
      ]
    },
    {
      "cell_type": "code",
      "source": [
        "# x_train包含着键。attention_weights的形状：(n_test,n_train),\n",
        "# 每一行都包含着要在给定的每个查询的值（y_train）之间分配的注意力权重\n",
        "attention_weights = nn.functional.softmax(-(X_repeat - x_train)**2 / 2, dim=1)\n",
        "attention_weights,attention_weights.shape"
      ],
      "metadata": {
        "id": "uR9taRZoamCK",
        "outputId": "5ac93c62-4c94-44d0-f974-83413e008107",
        "colab": {
          "base_uri": "https://localhost:8080/"
        }
      },
      "id": "uR9taRZoamCK",
      "execution_count": 16,
      "outputs": [
        {
          "output_type": "execute_result",
          "data": {
            "text/plain": [
              "(tensor([[9.0316e-02, 9.0057e-02, 8.9470e-02,  ..., 1.0243e-06, 9.3380e-07,\n",
              "          8.7147e-07],\n",
              "         [8.3832e-02, 8.3774e-02, 8.3563e-02,  ..., 1.5140e-06, 1.3830e-06,\n",
              "          1.2925e-06],\n",
              "         [7.7511e-02, 7.7626e-02, 7.7742e-02,  ..., 2.2293e-06, 2.0402e-06,\n",
              "          1.9095e-06],\n",
              "         ...,\n",
              "         [1.5133e-06, 1.6713e-06, 2.0057e-06,  ..., 5.3921e-02, 5.3835e-02,\n",
              "          5.3757e-02],\n",
              "         [1.0104e-06, 1.1183e-06, 1.3475e-06,  ..., 5.7332e-02, 5.7351e-02,\n",
              "          5.7350e-02],\n",
              "         [6.7240e-07, 7.4586e-07, 9.0232e-07,  ..., 6.0758e-02, 6.0895e-02,\n",
              "          6.0983e-02]]),\n",
              " torch.Size([50, 50]))"
            ]
          },
          "metadata": {},
          "execution_count": 16
        }
      ]
    },
    {
      "cell_type": "code",
      "source": [
        "# y_hat的每个元素都是值的加权平均值，其中的权重是注意力权重\n",
        "y_hat = torch.matmul(attention_weights, y_train)\n",
        "plot_kernel_reg(y_hat)"
      ],
      "metadata": {
        "id": "HKfPQsABa6Wu",
        "outputId": "2ef57c00-68ef-424c-fef5-506e94ae0afc",
        "colab": {
          "base_uri": "https://localhost:8080/",
          "height": 270
        }
      },
      "id": "HKfPQsABa6Wu",
      "execution_count": 20,
      "outputs": [
        {
          "output_type": "display_data",
          "data": {
            "text/plain": [
              "<Figure size 350x250 with 1 Axes>"
            ],
            "image/svg+xml": "<?xml version=\"1.0\" encoding=\"utf-8\" standalone=\"no\"?>\n<!DOCTYPE svg PUBLIC \"-//W3C//DTD SVG 1.1//EN\"\n  \"http://www.w3.org/Graphics/SVG/1.1/DTD/svg11.dtd\">\n<svg xmlns:xlink=\"http://www.w3.org/1999/xlink\" width=\"248.301563pt\" height=\"187.155469pt\" viewBox=\"0 0 248.301563 187.155469\" xmlns=\"http://www.w3.org/2000/svg\" version=\"1.1\">\n <metadata>\n  <rdf:RDF xmlns:dc=\"http://purl.org/dc/elements/1.1/\" xmlns:cc=\"http://creativecommons.org/ns#\" xmlns:rdf=\"http://www.w3.org/1999/02/22-rdf-syntax-ns#\">\n   <cc:Work>\n    <dc:type rdf:resource=\"http://purl.org/dc/dcmitype/StillImage\"/>\n    <dc:date>2025-10-14T01:55:25.414848</dc:date>\n    <dc:format>image/svg+xml</dc:format>\n    <dc:creator>\n     <cc:Agent>\n      <dc:title>Matplotlib v3.10.0, https://matplotlib.org/</dc:title>\n     </cc:Agent>\n    </dc:creator>\n   </cc:Work>\n  </rdf:RDF>\n </metadata>\n <defs>\n  <style type=\"text/css\">*{stroke-linejoin: round; stroke-linecap: butt}</style>\n </defs>\n <g id=\"figure_1\">\n  <g id=\"patch_1\">\n   <path d=\"M 0 187.155469 \nL 248.301563 187.155469 \nL 248.301563 0 \nL 0 0 \nz\n\" style=\"fill: #ffffff\"/>\n  </g>\n  <g id=\"axes_1\">\n   <g id=\"patch_2\">\n    <path d=\"M 42.620312 149.599219 \nL 237.920313 149.599219 \nL 237.920313 10.999219 \nL 42.620312 10.999219 \nz\n\" style=\"fill: #ffffff\"/>\n   </g>\n   <g id=\"matplotlib.axis_1\">\n    <g id=\"xtick_1\">\n     <g id=\"line2d_1\">\n      <path d=\"M 42.620312 149.599219 \nL 42.620312 10.999219 \n\" clip-path=\"url(#p6715da2be3)\" style=\"fill: none; stroke: #b0b0b0; stroke-width: 0.8; stroke-linecap: square\"/>\n     </g>\n     <g id=\"line2d_2\">\n      <defs>\n       <path id=\"m9f4f3f10b9\" d=\"M 0 0 \nL 0 3.5 \n\" style=\"stroke: #000000; stroke-width: 0.8\"/>\n      </defs>\n      <g>\n       <use xlink:href=\"#m9f4f3f10b9\" x=\"42.620312\" y=\"149.599219\" style=\"stroke: #000000; stroke-width: 0.8\"/>\n      </g>\n     </g>\n     <g id=\"text_1\">\n      <!-- 0 -->\n      <g transform=\"translate(39.439062 164.197656) scale(0.1 -0.1)\">\n       <defs>\n        <path id=\"DejaVuSans-30\" d=\"M 2034 4250 \nQ 1547 4250 1301 3770 \nQ 1056 3291 1056 2328 \nQ 1056 1369 1301 889 \nQ 1547 409 2034 409 \nQ 2525 409 2770 889 \nQ 3016 1369 3016 2328 \nQ 3016 3291 2770 3770 \nQ 2525 4250 2034 4250 \nz\nM 2034 4750 \nQ 2819 4750 3233 4129 \nQ 3647 3509 3647 2328 \nQ 3647 1150 3233 529 \nQ 2819 -91 2034 -91 \nQ 1250 -91 836 529 \nQ 422 1150 422 2328 \nQ 422 3509 836 4129 \nQ 1250 4750 2034 4750 \nz\n\" transform=\"scale(0.015625)\"/>\n       </defs>\n       <use xlink:href=\"#DejaVuSans-30\"/>\n      </g>\n     </g>\n    </g>\n    <g id=\"xtick_2\">\n     <g id=\"line2d_3\">\n      <path d=\"M 81.680312 149.599219 \nL 81.680312 10.999219 \n\" clip-path=\"url(#p6715da2be3)\" style=\"fill: none; stroke: #b0b0b0; stroke-width: 0.8; stroke-linecap: square\"/>\n     </g>\n     <g id=\"line2d_4\">\n      <g>\n       <use xlink:href=\"#m9f4f3f10b9\" x=\"81.680312\" y=\"149.599219\" style=\"stroke: #000000; stroke-width: 0.8\"/>\n      </g>\n     </g>\n     <g id=\"text_2\">\n      <!-- 1 -->\n      <g transform=\"translate(78.499062 164.197656) scale(0.1 -0.1)\">\n       <defs>\n        <path id=\"DejaVuSans-31\" d=\"M 794 531 \nL 1825 531 \nL 1825 4091 \nL 703 3866 \nL 703 4441 \nL 1819 4666 \nL 2450 4666 \nL 2450 531 \nL 3481 531 \nL 3481 0 \nL 794 0 \nL 794 531 \nz\n\" transform=\"scale(0.015625)\"/>\n       </defs>\n       <use xlink:href=\"#DejaVuSans-31\"/>\n      </g>\n     </g>\n    </g>\n    <g id=\"xtick_3\">\n     <g id=\"line2d_5\">\n      <path d=\"M 120.740313 149.599219 \nL 120.740313 10.999219 \n\" clip-path=\"url(#p6715da2be3)\" style=\"fill: none; stroke: #b0b0b0; stroke-width: 0.8; stroke-linecap: square\"/>\n     </g>\n     <g id=\"line2d_6\">\n      <g>\n       <use xlink:href=\"#m9f4f3f10b9\" x=\"120.740313\" y=\"149.599219\" style=\"stroke: #000000; stroke-width: 0.8\"/>\n      </g>\n     </g>\n     <g id=\"text_3\">\n      <!-- 2 -->\n      <g transform=\"translate(117.559062 164.197656) scale(0.1 -0.1)\">\n       <defs>\n        <path id=\"DejaVuSans-32\" d=\"M 1228 531 \nL 3431 531 \nL 3431 0 \nL 469 0 \nL 469 531 \nQ 828 903 1448 1529 \nQ 2069 2156 2228 2338 \nQ 2531 2678 2651 2914 \nQ 2772 3150 2772 3378 \nQ 2772 3750 2511 3984 \nQ 2250 4219 1831 4219 \nQ 1534 4219 1204 4116 \nQ 875 4013 500 3803 \nL 500 4441 \nQ 881 4594 1212 4672 \nQ 1544 4750 1819 4750 \nQ 2544 4750 2975 4387 \nQ 3406 4025 3406 3419 \nQ 3406 3131 3298 2873 \nQ 3191 2616 2906 2266 \nQ 2828 2175 2409 1742 \nQ 1991 1309 1228 531 \nz\n\" transform=\"scale(0.015625)\"/>\n       </defs>\n       <use xlink:href=\"#DejaVuSans-32\"/>\n      </g>\n     </g>\n    </g>\n    <g id=\"xtick_4\">\n     <g id=\"line2d_7\">\n      <path d=\"M 159.800313 149.599219 \nL 159.800313 10.999219 \n\" clip-path=\"url(#p6715da2be3)\" style=\"fill: none; stroke: #b0b0b0; stroke-width: 0.8; stroke-linecap: square\"/>\n     </g>\n     <g id=\"line2d_8\">\n      <g>\n       <use xlink:href=\"#m9f4f3f10b9\" x=\"159.800313\" y=\"149.599219\" style=\"stroke: #000000; stroke-width: 0.8\"/>\n      </g>\n     </g>\n     <g id=\"text_4\">\n      <!-- 3 -->\n      <g transform=\"translate(156.619063 164.197656) scale(0.1 -0.1)\">\n       <defs>\n        <path id=\"DejaVuSans-33\" d=\"M 2597 2516 \nQ 3050 2419 3304 2112 \nQ 3559 1806 3559 1356 \nQ 3559 666 3084 287 \nQ 2609 -91 1734 -91 \nQ 1441 -91 1130 -33 \nQ 819 25 488 141 \nL 488 750 \nQ 750 597 1062 519 \nQ 1375 441 1716 441 \nQ 2309 441 2620 675 \nQ 2931 909 2931 1356 \nQ 2931 1769 2642 2001 \nQ 2353 2234 1838 2234 \nL 1294 2234 \nL 1294 2753 \nL 1863 2753 \nQ 2328 2753 2575 2939 \nQ 2822 3125 2822 3475 \nQ 2822 3834 2567 4026 \nQ 2313 4219 1838 4219 \nQ 1578 4219 1281 4162 \nQ 984 4106 628 3988 \nL 628 4550 \nQ 988 4650 1302 4700 \nQ 1616 4750 1894 4750 \nQ 2613 4750 3031 4423 \nQ 3450 4097 3450 3541 \nQ 3450 3153 3228 2886 \nQ 3006 2619 2597 2516 \nz\n\" transform=\"scale(0.015625)\"/>\n       </defs>\n       <use xlink:href=\"#DejaVuSans-33\"/>\n      </g>\n     </g>\n    </g>\n    <g id=\"xtick_5\">\n     <g id=\"line2d_9\">\n      <path d=\"M 198.860313 149.599219 \nL 198.860313 10.999219 \n\" clip-path=\"url(#p6715da2be3)\" style=\"fill: none; stroke: #b0b0b0; stroke-width: 0.8; stroke-linecap: square\"/>\n     </g>\n     <g id=\"line2d_10\">\n      <g>\n       <use xlink:href=\"#m9f4f3f10b9\" x=\"198.860313\" y=\"149.599219\" style=\"stroke: #000000; stroke-width: 0.8\"/>\n      </g>\n     </g>\n     <g id=\"text_5\">\n      <!-- 4 -->\n      <g transform=\"translate(195.679063 164.197656) scale(0.1 -0.1)\">\n       <defs>\n        <path id=\"DejaVuSans-34\" d=\"M 2419 4116 \nL 825 1625 \nL 2419 1625 \nL 2419 4116 \nz\nM 2253 4666 \nL 3047 4666 \nL 3047 1625 \nL 3713 1625 \nL 3713 1100 \nL 3047 1100 \nL 3047 0 \nL 2419 0 \nL 2419 1100 \nL 313 1100 \nL 313 1709 \nL 2253 4666 \nz\n\" transform=\"scale(0.015625)\"/>\n       </defs>\n       <use xlink:href=\"#DejaVuSans-34\"/>\n      </g>\n     </g>\n    </g>\n    <g id=\"xtick_6\">\n     <g id=\"line2d_11\">\n      <path d=\"M 237.920313 149.599219 \nL 237.920313 10.999219 \n\" clip-path=\"url(#p6715da2be3)\" style=\"fill: none; stroke: #b0b0b0; stroke-width: 0.8; stroke-linecap: square\"/>\n     </g>\n     <g id=\"line2d_12\">\n      <g>\n       <use xlink:href=\"#m9f4f3f10b9\" x=\"237.920313\" y=\"149.599219\" style=\"stroke: #000000; stroke-width: 0.8\"/>\n      </g>\n     </g>\n     <g id=\"text_6\">\n      <!-- 5 -->\n      <g transform=\"translate(234.739063 164.197656) scale(0.1 -0.1)\">\n       <defs>\n        <path id=\"DejaVuSans-35\" d=\"M 691 4666 \nL 3169 4666 \nL 3169 4134 \nL 1269 4134 \nL 1269 2991 \nQ 1406 3038 1543 3061 \nQ 1681 3084 1819 3084 \nQ 2600 3084 3056 2656 \nQ 3513 2228 3513 1497 \nQ 3513 744 3044 326 \nQ 2575 -91 1722 -91 \nQ 1428 -91 1123 -41 \nQ 819 9 494 109 \nL 494 744 \nQ 775 591 1075 516 \nQ 1375 441 1709 441 \nQ 2250 441 2565 725 \nQ 2881 1009 2881 1497 \nQ 2881 1984 2565 2268 \nQ 2250 2553 1709 2553 \nQ 1456 2553 1204 2497 \nQ 953 2441 691 2322 \nL 691 4666 \nz\n\" transform=\"scale(0.015625)\"/>\n       </defs>\n       <use xlink:href=\"#DejaVuSans-35\"/>\n      </g>\n     </g>\n    </g>\n    <g id=\"text_7\">\n     <!-- x -->\n     <g transform=\"translate(137.310937 177.875781) scale(0.1 -0.1)\">\n      <defs>\n       <path id=\"DejaVuSans-78\" d=\"M 3513 3500 \nL 2247 1797 \nL 3578 0 \nL 2900 0 \nL 1881 1375 \nL 863 0 \nL 184 0 \nL 1544 1831 \nL 300 3500 \nL 978 3500 \nL 1906 2253 \nL 2834 3500 \nL 3513 3500 \nz\n\" transform=\"scale(0.015625)\"/>\n      </defs>\n      <use xlink:href=\"#DejaVuSans-78\"/>\n     </g>\n    </g>\n   </g>\n   <g id=\"matplotlib.axis_2\">\n    <g id=\"ytick_1\">\n     <g id=\"line2d_13\">\n      <path d=\"M 42.620312 149.599219 \nL 237.920313 149.599219 \n\" clip-path=\"url(#p6715da2be3)\" style=\"fill: none; stroke: #b0b0b0; stroke-width: 0.8; stroke-linecap: square\"/>\n     </g>\n     <g id=\"line2d_14\">\n      <defs>\n       <path id=\"md83d21bc3b\" d=\"M 0 0 \nL -3.5 0 \n\" style=\"stroke: #000000; stroke-width: 0.8\"/>\n      </defs>\n      <g>\n       <use xlink:href=\"#md83d21bc3b\" x=\"42.620312\" y=\"149.599219\" style=\"stroke: #000000; stroke-width: 0.8\"/>\n      </g>\n     </g>\n     <g id=\"text_8\">\n      <!-- −1 -->\n      <g transform=\"translate(20.878125 153.398437) scale(0.1 -0.1)\">\n       <defs>\n        <path id=\"DejaVuSans-2212\" d=\"M 678 2272 \nL 4684 2272 \nL 4684 1741 \nL 678 1741 \nL 678 2272 \nz\n\" transform=\"scale(0.015625)\"/>\n       </defs>\n       <use xlink:href=\"#DejaVuSans-2212\"/>\n       <use xlink:href=\"#DejaVuSans-31\" transform=\"translate(83.789062 0)\"/>\n      </g>\n     </g>\n    </g>\n    <g id=\"ytick_2\">\n     <g id=\"line2d_15\">\n      <path d=\"M 42.620312 126.499219 \nL 237.920313 126.499219 \n\" clip-path=\"url(#p6715da2be3)\" style=\"fill: none; stroke: #b0b0b0; stroke-width: 0.8; stroke-linecap: square\"/>\n     </g>\n     <g id=\"line2d_16\">\n      <g>\n       <use xlink:href=\"#md83d21bc3b\" x=\"42.620312\" y=\"126.499219\" style=\"stroke: #000000; stroke-width: 0.8\"/>\n      </g>\n     </g>\n     <g id=\"text_9\">\n      <!-- 0 -->\n      <g transform=\"translate(29.257812 130.298437) scale(0.1 -0.1)\">\n       <use xlink:href=\"#DejaVuSans-30\"/>\n      </g>\n     </g>\n    </g>\n    <g id=\"ytick_3\">\n     <g id=\"line2d_17\">\n      <path d=\"M 42.620312 103.399219 \nL 237.920313 103.399219 \n\" clip-path=\"url(#p6715da2be3)\" style=\"fill: none; stroke: #b0b0b0; stroke-width: 0.8; stroke-linecap: square\"/>\n     </g>\n     <g id=\"line2d_18\">\n      <g>\n       <use xlink:href=\"#md83d21bc3b\" x=\"42.620312\" y=\"103.399219\" style=\"stroke: #000000; stroke-width: 0.8\"/>\n      </g>\n     </g>\n     <g id=\"text_10\">\n      <!-- 1 -->\n      <g transform=\"translate(29.257812 107.198437) scale(0.1 -0.1)\">\n       <use xlink:href=\"#DejaVuSans-31\"/>\n      </g>\n     </g>\n    </g>\n    <g id=\"ytick_4\">\n     <g id=\"line2d_19\">\n      <path d=\"M 42.620312 80.299219 \nL 237.920313 80.299219 \n\" clip-path=\"url(#p6715da2be3)\" style=\"fill: none; stroke: #b0b0b0; stroke-width: 0.8; stroke-linecap: square\"/>\n     </g>\n     <g id=\"line2d_20\">\n      <g>\n       <use xlink:href=\"#md83d21bc3b\" x=\"42.620312\" y=\"80.299219\" style=\"stroke: #000000; stroke-width: 0.8\"/>\n      </g>\n     </g>\n     <g id=\"text_11\">\n      <!-- 2 -->\n      <g transform=\"translate(29.257812 84.098437) scale(0.1 -0.1)\">\n       <use xlink:href=\"#DejaVuSans-32\"/>\n      </g>\n     </g>\n    </g>\n    <g id=\"ytick_5\">\n     <g id=\"line2d_21\">\n      <path d=\"M 42.620312 57.199219 \nL 237.920313 57.199219 \n\" clip-path=\"url(#p6715da2be3)\" style=\"fill: none; stroke: #b0b0b0; stroke-width: 0.8; stroke-linecap: square\"/>\n     </g>\n     <g id=\"line2d_22\">\n      <g>\n       <use xlink:href=\"#md83d21bc3b\" x=\"42.620312\" y=\"57.199219\" style=\"stroke: #000000; stroke-width: 0.8\"/>\n      </g>\n     </g>\n     <g id=\"text_12\">\n      <!-- 3 -->\n      <g transform=\"translate(29.257812 60.998437) scale(0.1 -0.1)\">\n       <use xlink:href=\"#DejaVuSans-33\"/>\n      </g>\n     </g>\n    </g>\n    <g id=\"ytick_6\">\n     <g id=\"line2d_23\">\n      <path d=\"M 42.620312 34.099219 \nL 237.920313 34.099219 \n\" clip-path=\"url(#p6715da2be3)\" style=\"fill: none; stroke: #b0b0b0; stroke-width: 0.8; stroke-linecap: square\"/>\n     </g>\n     <g id=\"line2d_24\">\n      <g>\n       <use xlink:href=\"#md83d21bc3b\" x=\"42.620312\" y=\"34.099219\" style=\"stroke: #000000; stroke-width: 0.8\"/>\n      </g>\n     </g>\n     <g id=\"text_13\">\n      <!-- 4 -->\n      <g transform=\"translate(29.257812 37.898438) scale(0.1 -0.1)\">\n       <use xlink:href=\"#DejaVuSans-34\"/>\n      </g>\n     </g>\n    </g>\n    <g id=\"ytick_7\">\n     <g id=\"line2d_25\">\n      <path d=\"M 42.620312 10.999219 \nL 237.920313 10.999219 \n\" clip-path=\"url(#p6715da2be3)\" style=\"fill: none; stroke: #b0b0b0; stroke-width: 0.8; stroke-linecap: square\"/>\n     </g>\n     <g id=\"line2d_26\">\n      <g>\n       <use xlink:href=\"#md83d21bc3b\" x=\"42.620312\" y=\"10.999219\" style=\"stroke: #000000; stroke-width: 0.8\"/>\n      </g>\n     </g>\n     <g id=\"text_14\">\n      <!-- 5 -->\n      <g transform=\"translate(29.257812 14.798437) scale(0.1 -0.1)\">\n       <use xlink:href=\"#DejaVuSans-35\"/>\n      </g>\n     </g>\n    </g>\n    <g id=\"text_15\">\n     <!-- y -->\n     <g transform=\"translate(14.798437 83.258594) rotate(-90) scale(0.1 -0.1)\">\n      <defs>\n       <path id=\"DejaVuSans-79\" d=\"M 2059 -325 \nQ 1816 -950 1584 -1140 \nQ 1353 -1331 966 -1331 \nL 506 -1331 \nL 506 -850 \nL 844 -850 \nQ 1081 -850 1212 -737 \nQ 1344 -625 1503 -206 \nL 1606 56 \nL 191 3500 \nL 800 3500 \nL 1894 763 \nL 2988 3500 \nL 3597 3500 \nL 2059 -325 \nz\n\" transform=\"scale(0.015625)\"/>\n      </defs>\n      <use xlink:href=\"#DejaVuSans-79\"/>\n     </g>\n    </g>\n   </g>\n   <g id=\"line2d_27\">\n    <path d=\"M 42.620312 126.499219 \nL 46.526313 118.225812 \nL 50.432313 110.946345 \nL 54.338313 104.029425 \nL 58.244313 97.4097 \nL 62.150312 91.082293 \nL 66.056313 85.061866 \nL 69.962312 79.370737 \nL 73.868313 74.033949 \nL 77.774314 69.076775 \nL 81.680312 64.523261 \nL 85.586313 60.395214 \nL 89.492314 56.711598 \nL 93.398311 53.487961 \nL 97.304312 50.736132 \nL 101.210313 48.46391 \nL 105.116313 46.674891 \nL 109.022314 45.368338 \nL 112.928315 44.539111 \nL 116.834312 44.177706 \nL 120.740313 44.270242 \nL 124.646309 44.798618 \nL 128.552314 45.740654 \nL 132.458311 47.070245 \nL 136.364316 48.757689 \nL 140.270312 50.76986 \nL 144.176318 53.070611 \nL 148.082314 55.621064 \nL 151.98832 58.380042 \nL 155.894316 61.304393 \nL 159.800313 64.349483 \nL 163.706318 67.469619 \nL 167.612314 70.618454 \nL 171.518311 73.749494 \nL 175.424316 76.816549 \nL 179.330312 79.774142 \nL 183.236318 82.578044 \nL 187.142314 85.185605 \nL 191.048311 87.556281 \nL 194.954316 89.651973 \nL 198.860313 91.437389 \nL 202.766309 92.880457 \nL 206.672305 93.952601 \nL 210.57832 94.629017 \nL 214.484316 94.888934 \nL 218.390312 94.715829 \nL 222.296309 94.097555 \nL 226.202305 93.026506 \nL 230.10832 91.499643 \nL 234.014316 89.518571 \n\" clip-path=\"url(#p6715da2be3)\" style=\"fill: none; stroke: #1f77b4; stroke-width: 1.5; stroke-linecap: square\"/>\n   </g>\n   <g id=\"line2d_28\">\n    <path d=\"M 42.620312 75.833008 \nL 46.526313 74.496615 \nL 50.432313 73.154522 \nL 54.338313 71.813944 \nL 58.244313 70.482783 \nL 62.150312 69.169549 \nL 66.056313 67.883367 \nL 69.962312 66.634015 \nL 73.868313 65.431762 \nL 77.774314 64.287409 \nL 81.680312 63.212257 \nL 85.586313 62.217966 \nL 89.492314 61.316515 \nL 93.398311 60.520035 \nL 97.304312 59.840662 \nL 101.210313 59.290234 \nL 105.116313 58.880043 \nL 109.022314 58.620355 \nL 112.928315 58.520026 \nL 116.834312 58.5859 \nL 120.740313 58.822314 \nL 124.646309 59.230462 \nL 128.552314 59.808112 \nL 132.458311 60.549071 \nL 136.364316 61.443297 \nL 140.270312 62.476861 \nL 144.176318 63.632505 \nL 148.082314 64.890179 \nL 151.98832 66.227982 \nL 155.894316 67.623084 \nL 159.800313 69.052719 \nL 163.706318 70.495109 \nL 167.612314 71.930168 \nL 171.518311 73.340146 \nL 175.424316 74.709936 \nL 179.330312 76.027207 \nL 183.236318 77.282359 \nL 187.142314 78.468448 \nL 191.048311 79.580813 \nL 194.954316 80.616857 \nL 198.860313 81.575668 \nL 202.766309 82.457756 \nL 206.672305 83.264705 \nL 210.57832 83.998966 \nL 214.484316 84.663591 \nL 218.390312 85.262076 \nL 222.296309 85.798215 \nL 226.202305 86.275922 \nL 230.10832 86.699201 \nL 234.014316 87.072034 \n\" clip-path=\"url(#p6715da2be3)\" style=\"fill: none; stroke-dasharray: 5.55,2.4; stroke-dashoffset: 0; stroke: #bf00bf; stroke-width: 1.5\"/>\n   </g>\n   <g id=\"line2d_29\">\n    <defs>\n     <path id=\"mde61b1124e\" d=\"M 0 3 \nC 0.795609 3 1.55874 2.683901 2.12132 2.12132 \nC 2.683901 1.55874 3 0.795609 3 0 \nC 3 -0.795609 2.683901 -1.55874 2.12132 -2.12132 \nC 1.55874 -2.683901 0.795609 -3 0 -3 \nC -0.795609 -3 -1.55874 -2.683901 -2.12132 -2.12132 \nC -2.683901 -1.55874 -3 -0.795609 -3 0 \nC -3 0.795609 -2.683901 1.55874 -2.12132 2.12132 \nC -1.55874 2.683901 -0.795609 3 0 3 \nz\n\" style=\"stroke: #ff7f0e; stroke-opacity: 0.5\"/>\n    </defs>\n    <g clip-path=\"url(#p6715da2be3)\">\n     <use xlink:href=\"#mde61b1124e\" x=\"47.345692\" y=\"100.001815\" style=\"fill: #ff7f0e; fill-opacity: 0.5; stroke: #ff7f0e; stroke-opacity: 0.5\"/>\n     <use xlink:href=\"#mde61b1124e\" x=\"48.195062\" y=\"118.918406\" style=\"fill: #ff7f0e; fill-opacity: 0.5; stroke: #ff7f0e; stroke-opacity: 0.5\"/>\n     <use xlink:href=\"#mde61b1124e\" x=\"49.76523\" y=\"97.532302\" style=\"fill: #ff7f0e; fill-opacity: 0.5; stroke: #ff7f0e; stroke-opacity: 0.5\"/>\n     <use xlink:href=\"#mde61b1124e\" x=\"60.119663\" y=\"95.246914\" style=\"fill: #ff7f0e; fill-opacity: 0.5; stroke: #ff7f0e; stroke-opacity: 0.5\"/>\n     <use xlink:href=\"#mde61b1124e\" x=\"64.611762\" y=\"98.260128\" style=\"fill: #ff7f0e; fill-opacity: 0.5; stroke: #ff7f0e; stroke-opacity: 0.5\"/>\n     <use xlink:href=\"#mde61b1124e\" x=\"74.13318\" y=\"84.414609\" style=\"fill: #ff7f0e; fill-opacity: 0.5; stroke: #ff7f0e; stroke-opacity: 0.5\"/>\n     <use xlink:href=\"#mde61b1124e\" x=\"74.99759\" y=\"58.223123\" style=\"fill: #ff7f0e; fill-opacity: 0.5; stroke: #ff7f0e; stroke-opacity: 0.5\"/>\n     <use xlink:href=\"#mde61b1124e\" x=\"79.309827\" y=\"68.813618\" style=\"fill: #ff7f0e; fill-opacity: 0.5; stroke: #ff7f0e; stroke-opacity: 0.5\"/>\n     <use xlink:href=\"#mde61b1124e\" x=\"84.893635\" y=\"53.165262\" style=\"fill: #ff7f0e; fill-opacity: 0.5; stroke: #ff7f0e; stroke-opacity: 0.5\"/>\n     <use xlink:href=\"#mde61b1124e\" x=\"86.031136\" y=\"41.877329\" style=\"fill: #ff7f0e; fill-opacity: 0.5; stroke: #ff7f0e; stroke-opacity: 0.5\"/>\n     <use xlink:href=\"#mde61b1124e\" x=\"86.962362\" y=\"53.109714\" style=\"fill: #ff7f0e; fill-opacity: 0.5; stroke: #ff7f0e; stroke-opacity: 0.5\"/>\n     <use xlink:href=\"#mde61b1124e\" x=\"90.713829\" y=\"56.033629\" style=\"fill: #ff7f0e; fill-opacity: 0.5; stroke: #ff7f0e; stroke-opacity: 0.5\"/>\n     <use xlink:href=\"#mde61b1124e\" x=\"104.179486\" y=\"37.832429\" style=\"fill: #ff7f0e; fill-opacity: 0.5; stroke: #ff7f0e; stroke-opacity: 0.5\"/>\n     <use xlink:href=\"#mde61b1124e\" x=\"104.566878\" y=\"41.364992\" style=\"fill: #ff7f0e; fill-opacity: 0.5; stroke: #ff7f0e; stroke-opacity: 0.5\"/>\n     <use xlink:href=\"#mde61b1124e\" x=\"108.352522\" y=\"55.786112\" style=\"fill: #ff7f0e; fill-opacity: 0.5; stroke: #ff7f0e; stroke-opacity: 0.5\"/>\n     <use xlink:href=\"#mde61b1124e\" x=\"109.187027\" y=\"43.835973\" style=\"fill: #ff7f0e; fill-opacity: 0.5; stroke: #ff7f0e; stroke-opacity: 0.5\"/>\n     <use xlink:href=\"#mde61b1124e\" x=\"109.760657\" y=\"42.966156\" style=\"fill: #ff7f0e; fill-opacity: 0.5; stroke: #ff7f0e; stroke-opacity: 0.5\"/>\n     <use xlink:href=\"#mde61b1124e\" x=\"109.919917\" y=\"52.31492\" style=\"fill: #ff7f0e; fill-opacity: 0.5; stroke: #ff7f0e; stroke-opacity: 0.5\"/>\n     <use xlink:href=\"#mde61b1124e\" x=\"115.177516\" y=\"35.806766\" style=\"fill: #ff7f0e; fill-opacity: 0.5; stroke: #ff7f0e; stroke-opacity: 0.5\"/>\n     <use xlink:href=\"#mde61b1124e\" x=\"122.478291\" y=\"58.761192\" style=\"fill: #ff7f0e; fill-opacity: 0.5; stroke: #ff7f0e; stroke-opacity: 0.5\"/>\n     <use xlink:href=\"#mde61b1124e\" x=\"130.765507\" y=\"49.248207\" style=\"fill: #ff7f0e; fill-opacity: 0.5; stroke: #ff7f0e; stroke-opacity: 0.5\"/>\n     <use xlink:href=\"#mde61b1124e\" x=\"133.249623\" y=\"55.857473\" style=\"fill: #ff7f0e; fill-opacity: 0.5; stroke: #ff7f0e; stroke-opacity: 0.5\"/>\n     <use xlink:href=\"#mde61b1124e\" x=\"141.300243\" y=\"42.451164\" style=\"fill: #ff7f0e; fill-opacity: 0.5; stroke: #ff7f0e; stroke-opacity: 0.5\"/>\n     <use xlink:href=\"#mde61b1124e\" x=\"142.332576\" y=\"39.443028\" style=\"fill: #ff7f0e; fill-opacity: 0.5; stroke: #ff7f0e; stroke-opacity: 0.5\"/>\n     <use xlink:href=\"#mde61b1124e\" x=\"148.574701\" y=\"78.174668\" style=\"fill: #ff7f0e; fill-opacity: 0.5; stroke: #ff7f0e; stroke-opacity: 0.5\"/>\n     <use xlink:href=\"#mde61b1124e\" x=\"162.325507\" y=\"64.226727\" style=\"fill: #ff7f0e; fill-opacity: 0.5; stroke: #ff7f0e; stroke-opacity: 0.5\"/>\n     <use xlink:href=\"#mde61b1124e\" x=\"163.264788\" y=\"56.729404\" style=\"fill: #ff7f0e; fill-opacity: 0.5; stroke: #ff7f0e; stroke-opacity: 0.5\"/>\n     <use xlink:href=\"#mde61b1124e\" x=\"164.574777\" y=\"58.697118\" style=\"fill: #ff7f0e; fill-opacity: 0.5; stroke: #ff7f0e; stroke-opacity: 0.5\"/>\n     <use xlink:href=\"#mde61b1124e\" x=\"171.327802\" y=\"66.666399\" style=\"fill: #ff7f0e; fill-opacity: 0.5; stroke: #ff7f0e; stroke-opacity: 0.5\"/>\n     <use xlink:href=\"#mde61b1124e\" x=\"171.900734\" y=\"80.760822\" style=\"fill: #ff7f0e; fill-opacity: 0.5; stroke: #ff7f0e; stroke-opacity: 0.5\"/>\n     <use xlink:href=\"#mde61b1124e\" x=\"175.046559\" y=\"74.398202\" style=\"fill: #ff7f0e; fill-opacity: 0.5; stroke: #ff7f0e; stroke-opacity: 0.5\"/>\n     <use xlink:href=\"#mde61b1124e\" x=\"180.350567\" y=\"58.345923\" style=\"fill: #ff7f0e; fill-opacity: 0.5; stroke: #ff7f0e; stroke-opacity: 0.5\"/>\n     <use xlink:href=\"#mde61b1124e\" x=\"181.830567\" y=\"87.696917\" style=\"fill: #ff7f0e; fill-opacity: 0.5; stroke: #ff7f0e; stroke-opacity: 0.5\"/>\n     <use xlink:href=\"#mde61b1124e\" x=\"185.101498\" y=\"71.282131\" style=\"fill: #ff7f0e; fill-opacity: 0.5; stroke: #ff7f0e; stroke-opacity: 0.5\"/>\n     <use xlink:href=\"#mde61b1124e\" x=\"185.270932\" y=\"80.136925\" style=\"fill: #ff7f0e; fill-opacity: 0.5; stroke: #ff7f0e; stroke-opacity: 0.5\"/>\n     <use xlink:href=\"#mde61b1124e\" x=\"189.09453\" y=\"111.018059\" style=\"fill: #ff7f0e; fill-opacity: 0.5; stroke: #ff7f0e; stroke-opacity: 0.5\"/>\n     <use xlink:href=\"#mde61b1124e\" x=\"192.145301\" y=\"83.696463\" style=\"fill: #ff7f0e; fill-opacity: 0.5; stroke: #ff7f0e; stroke-opacity: 0.5\"/>\n     <use xlink:href=\"#mde61b1124e\" x=\"200.75316\" y=\"115.121732\" style=\"fill: #ff7f0e; fill-opacity: 0.5; stroke: #ff7f0e; stroke-opacity: 0.5\"/>\n     <use xlink:href=\"#mde61b1124e\" x=\"209.996038\" y=\"91.782983\" style=\"fill: #ff7f0e; fill-opacity: 0.5; stroke: #ff7f0e; stroke-opacity: 0.5\"/>\n     <use xlink:href=\"#mde61b1124e\" x=\"212.098625\" y=\"100.001446\" style=\"fill: #ff7f0e; fill-opacity: 0.5; stroke: #ff7f0e; stroke-opacity: 0.5\"/>\n     <use xlink:href=\"#mde61b1124e\" x=\"212.125204\" y=\"97.216074\" style=\"fill: #ff7f0e; fill-opacity: 0.5; stroke: #ff7f0e; stroke-opacity: 0.5\"/>\n     <use xlink:href=\"#mde61b1124e\" x=\"214.060014\" y=\"82.168352\" style=\"fill: #ff7f0e; fill-opacity: 0.5; stroke: #ff7f0e; stroke-opacity: 0.5\"/>\n     <use xlink:href=\"#mde61b1124e\" x=\"215.19582\" y=\"86.912527\" style=\"fill: #ff7f0e; fill-opacity: 0.5; stroke: #ff7f0e; stroke-opacity: 0.5\"/>\n     <use xlink:href=\"#mde61b1124e\" x=\"215.935447\" y=\"84.496632\" style=\"fill: #ff7f0e; fill-opacity: 0.5; stroke: #ff7f0e; stroke-opacity: 0.5\"/>\n     <use xlink:href=\"#mde61b1124e\" x=\"216.490033\" y=\"106.066023\" style=\"fill: #ff7f0e; fill-opacity: 0.5; stroke: #ff7f0e; stroke-opacity: 0.5\"/>\n     <use xlink:href=\"#mde61b1124e\" x=\"224.101525\" y=\"78.730356\" style=\"fill: #ff7f0e; fill-opacity: 0.5; stroke: #ff7f0e; stroke-opacity: 0.5\"/>\n     <use xlink:href=\"#mde61b1124e\" x=\"224.708168\" y=\"101.064583\" style=\"fill: #ff7f0e; fill-opacity: 0.5; stroke: #ff7f0e; stroke-opacity: 0.5\"/>\n     <use xlink:href=\"#mde61b1124e\" x=\"229.083279\" y=\"79.539331\" style=\"fill: #ff7f0e; fill-opacity: 0.5; stroke: #ff7f0e; stroke-opacity: 0.5\"/>\n     <use xlink:href=\"#mde61b1124e\" x=\"229.838608\" y=\"89.284572\" style=\"fill: #ff7f0e; fill-opacity: 0.5; stroke: #ff7f0e; stroke-opacity: 0.5\"/>\n     <use xlink:href=\"#mde61b1124e\" x=\"230.400681\" y=\"82.765262\" style=\"fill: #ff7f0e; fill-opacity: 0.5; stroke: #ff7f0e; stroke-opacity: 0.5\"/>\n    </g>\n   </g>\n   <g id=\"patch_3\">\n    <path d=\"M 42.620312 149.599219 \nL 42.620312 10.999219 \n\" style=\"fill: none; stroke: #000000; stroke-width: 0.8; stroke-linejoin: miter; stroke-linecap: square\"/>\n   </g>\n   <g id=\"patch_4\">\n    <path d=\"M 237.920313 149.599219 \nL 237.920313 10.999219 \n\" style=\"fill: none; stroke: #000000; stroke-width: 0.8; stroke-linejoin: miter; stroke-linecap: square\"/>\n   </g>\n   <g id=\"patch_5\">\n    <path d=\"M 42.620312 149.599219 \nL 237.920313 149.599219 \n\" style=\"fill: none; stroke: #000000; stroke-width: 0.8; stroke-linejoin: miter; stroke-linecap: square\"/>\n   </g>\n   <g id=\"patch_6\">\n    <path d=\"M 42.620312 10.999219 \nL 237.920313 10.999219 \n\" style=\"fill: none; stroke: #000000; stroke-width: 0.8; stroke-linejoin: miter; stroke-linecap: square\"/>\n   </g>\n   <g id=\"legend_1\">\n    <g id=\"patch_7\">\n     <path d=\"M 173.58125 48.355469 \nL 230.920313 48.355469 \nQ 232.920313 48.355469 232.920313 46.355469 \nL 232.920313 17.999219 \nQ 232.920313 15.999219 230.920313 15.999219 \nL 173.58125 15.999219 \nQ 171.58125 15.999219 171.58125 17.999219 \nL 171.58125 46.355469 \nQ 171.58125 48.355469 173.58125 48.355469 \nz\n\" style=\"fill: #ffffff; opacity: 0.8; stroke: #cccccc; stroke-linejoin: miter\"/>\n    </g>\n    <g id=\"line2d_30\">\n     <path d=\"M 175.58125 24.097656 \nL 185.58125 24.097656 \nL 195.58125 24.097656 \n\" style=\"fill: none; stroke: #1f77b4; stroke-width: 1.5; stroke-linecap: square\"/>\n    </g>\n    <g id=\"text_16\">\n     <!-- Truth -->\n     <g transform=\"translate(203.58125 27.597656) scale(0.1 -0.1)\">\n      <defs>\n       <path id=\"DejaVuSans-54\" d=\"M -19 4666 \nL 3928 4666 \nL 3928 4134 \nL 2272 4134 \nL 2272 0 \nL 1638 0 \nL 1638 4134 \nL -19 4134 \nL -19 4666 \nz\n\" transform=\"scale(0.015625)\"/>\n       <path id=\"DejaVuSans-72\" d=\"M 2631 2963 \nQ 2534 3019 2420 3045 \nQ 2306 3072 2169 3072 \nQ 1681 3072 1420 2755 \nQ 1159 2438 1159 1844 \nL 1159 0 \nL 581 0 \nL 581 3500 \nL 1159 3500 \nL 1159 2956 \nQ 1341 3275 1631 3429 \nQ 1922 3584 2338 3584 \nQ 2397 3584 2469 3576 \nQ 2541 3569 2628 3553 \nL 2631 2963 \nz\n\" transform=\"scale(0.015625)\"/>\n       <path id=\"DejaVuSans-75\" d=\"M 544 1381 \nL 544 3500 \nL 1119 3500 \nL 1119 1403 \nQ 1119 906 1312 657 \nQ 1506 409 1894 409 \nQ 2359 409 2629 706 \nQ 2900 1003 2900 1516 \nL 2900 3500 \nL 3475 3500 \nL 3475 0 \nL 2900 0 \nL 2900 538 \nQ 2691 219 2414 64 \nQ 2138 -91 1772 -91 \nQ 1169 -91 856 284 \nQ 544 659 544 1381 \nz\nM 1991 3584 \nL 1991 3584 \nz\n\" transform=\"scale(0.015625)\"/>\n       <path id=\"DejaVuSans-74\" d=\"M 1172 4494 \nL 1172 3500 \nL 2356 3500 \nL 2356 3053 \nL 1172 3053 \nL 1172 1153 \nQ 1172 725 1289 603 \nQ 1406 481 1766 481 \nL 2356 481 \nL 2356 0 \nL 1766 0 \nQ 1100 0 847 248 \nQ 594 497 594 1153 \nL 594 3053 \nL 172 3053 \nL 172 3500 \nL 594 3500 \nL 594 4494 \nL 1172 4494 \nz\n\" transform=\"scale(0.015625)\"/>\n       <path id=\"DejaVuSans-68\" d=\"M 3513 2113 \nL 3513 0 \nL 2938 0 \nL 2938 2094 \nQ 2938 2591 2744 2837 \nQ 2550 3084 2163 3084 \nQ 1697 3084 1428 2787 \nQ 1159 2491 1159 1978 \nL 1159 0 \nL 581 0 \nL 581 4863 \nL 1159 4863 \nL 1159 2956 \nQ 1366 3272 1645 3428 \nQ 1925 3584 2291 3584 \nQ 2894 3584 3203 3211 \nQ 3513 2838 3513 2113 \nz\n\" transform=\"scale(0.015625)\"/>\n      </defs>\n      <use xlink:href=\"#DejaVuSans-54\"/>\n      <use xlink:href=\"#DejaVuSans-72\" transform=\"translate(46.333984 0)\"/>\n      <use xlink:href=\"#DejaVuSans-75\" transform=\"translate(87.447266 0)\"/>\n      <use xlink:href=\"#DejaVuSans-74\" transform=\"translate(150.826172 0)\"/>\n      <use xlink:href=\"#DejaVuSans-68\" transform=\"translate(190.035156 0)\"/>\n     </g>\n    </g>\n    <g id=\"line2d_31\">\n     <path d=\"M 175.58125 38.775781 \nL 185.58125 38.775781 \nL 195.58125 38.775781 \n\" style=\"fill: none; stroke-dasharray: 5.55,2.4; stroke-dashoffset: 0; stroke: #bf00bf; stroke-width: 1.5\"/>\n    </g>\n    <g id=\"text_17\">\n     <!-- Pred -->\n     <g transform=\"translate(203.58125 42.275781) scale(0.1 -0.1)\">\n      <defs>\n       <path id=\"DejaVuSans-50\" d=\"M 1259 4147 \nL 1259 2394 \nL 2053 2394 \nQ 2494 2394 2734 2622 \nQ 2975 2850 2975 3272 \nQ 2975 3691 2734 3919 \nQ 2494 4147 2053 4147 \nL 1259 4147 \nz\nM 628 4666 \nL 2053 4666 \nQ 2838 4666 3239 4311 \nQ 3641 3956 3641 3272 \nQ 3641 2581 3239 2228 \nQ 2838 1875 2053 1875 \nL 1259 1875 \nL 1259 0 \nL 628 0 \nL 628 4666 \nz\n\" transform=\"scale(0.015625)\"/>\n       <path id=\"DejaVuSans-65\" d=\"M 3597 1894 \nL 3597 1613 \nL 953 1613 \nQ 991 1019 1311 708 \nQ 1631 397 2203 397 \nQ 2534 397 2845 478 \nQ 3156 559 3463 722 \nL 3463 178 \nQ 3153 47 2828 -22 \nQ 2503 -91 2169 -91 \nQ 1331 -91 842 396 \nQ 353 884 353 1716 \nQ 353 2575 817 3079 \nQ 1281 3584 2069 3584 \nQ 2775 3584 3186 3129 \nQ 3597 2675 3597 1894 \nz\nM 3022 2063 \nQ 3016 2534 2758 2815 \nQ 2500 3097 2075 3097 \nQ 1594 3097 1305 2825 \nQ 1016 2553 972 2059 \nL 3022 2063 \nz\n\" transform=\"scale(0.015625)\"/>\n       <path id=\"DejaVuSans-64\" d=\"M 2906 2969 \nL 2906 4863 \nL 3481 4863 \nL 3481 0 \nL 2906 0 \nL 2906 525 \nQ 2725 213 2448 61 \nQ 2172 -91 1784 -91 \nQ 1150 -91 751 415 \nQ 353 922 353 1747 \nQ 353 2572 751 3078 \nQ 1150 3584 1784 3584 \nQ 2172 3584 2448 3432 \nQ 2725 3281 2906 2969 \nz\nM 947 1747 \nQ 947 1113 1208 752 \nQ 1469 391 1925 391 \nQ 2381 391 2643 752 \nQ 2906 1113 2906 1747 \nQ 2906 2381 2643 2742 \nQ 2381 3103 1925 3103 \nQ 1469 3103 1208 2742 \nQ 947 2381 947 1747 \nz\n\" transform=\"scale(0.015625)\"/>\n      </defs>\n      <use xlink:href=\"#DejaVuSans-50\"/>\n      <use xlink:href=\"#DejaVuSans-72\" transform=\"translate(58.552734 0)\"/>\n      <use xlink:href=\"#DejaVuSans-65\" transform=\"translate(97.416016 0)\"/>\n      <use xlink:href=\"#DejaVuSans-64\" transform=\"translate(158.939453 0)\"/>\n     </g>\n    </g>\n   </g>\n  </g>\n </g>\n <defs>\n  <clipPath id=\"p6715da2be3\">\n   <rect x=\"42.620312\" y=\"10.999219\" width=\"195.3\" height=\"138.6\"/>\n  </clipPath>\n </defs>\n</svg>\n"
          },
          "metadata": {}
        }
      ]
    },
    {
      "cell_type": "markdown",
      "id": "60a40ebc",
      "metadata": {
        "origin_pos": 26,
        "id": "60a40ebc"
      },
      "source": [
        "现在来观察注意力的权重。\n",
        "这里测试数据的输入相当于查询，而训练数据的输入相当于键。\n",
        "因为两个输入都是经过排序的，因此由观察可知“查询-键”对越接近，\n",
        "注意力汇聚的[**注意力权重**]就越高。\n"
      ]
    },
    {
      "cell_type": "code",
      "source": [
        "attention_weights.shape,attention_weights.unsqueeze(0).shape,attention_weights.unsqueeze(0).unsqueeze(0).shape"
      ],
      "metadata": {
        "id": "DKeq6yzDblv4",
        "outputId": "c87ff942-15d5-4fe2-da8d-0256c9de5997",
        "colab": {
          "base_uri": "https://localhost:8080/"
        }
      },
      "id": "DKeq6yzDblv4",
      "execution_count": 21,
      "outputs": [
        {
          "output_type": "execute_result",
          "data": {
            "text/plain": [
              "(torch.Size([50, 50]), torch.Size([1, 50, 50]), torch.Size([1, 1, 50, 50]))"
            ]
          },
          "metadata": {},
          "execution_count": 21
        }
      ]
    },
    {
      "cell_type": "code",
      "execution_count": 22,
      "id": "5068c7e7",
      "metadata": {
        "execution": {
          "iopub.execute_input": "2023-08-18T07:07:17.141869Z",
          "iopub.status.busy": "2023-08-18T07:07:17.141398Z",
          "iopub.status.idle": "2023-08-18T07:07:17.325925Z",
          "shell.execute_reply": "2023-08-18T07:07:17.325070Z"
        },
        "origin_pos": 28,
        "tab": [
          "pytorch"
        ],
        "id": "5068c7e7",
        "outputId": "edf2b44d-5367-4318-c918-477cad8cf47a",
        "colab": {
          "base_uri": "https://localhost:8080/",
          "height": 233
        }
      },
      "outputs": [
        {
          "output_type": "display_data",
          "data": {
            "text/plain": [
              "<Figure size 250x250 with 2 Axes>"
            ],
            "image/svg+xml": "<?xml version=\"1.0\" encoding=\"utf-8\" standalone=\"no\"?>\n<!DOCTYPE svg PUBLIC \"-//W3C//DTD SVG 1.1//EN\"\n  \"http://www.w3.org/Graphics/SVG/1.1/DTD/svg11.dtd\">\n<svg xmlns:xlink=\"http://www.w3.org/1999/xlink\" width=\"206.16425pt\" height=\"159.039469pt\" viewBox=\"0 0 206.16425 159.039469\" xmlns=\"http://www.w3.org/2000/svg\" version=\"1.1\">\n <metadata>\n  <rdf:RDF xmlns:dc=\"http://purl.org/dc/elements/1.1/\" xmlns:cc=\"http://creativecommons.org/ns#\" xmlns:rdf=\"http://www.w3.org/1999/02/22-rdf-syntax-ns#\">\n   <cc:Work>\n    <dc:type rdf:resource=\"http://purl.org/dc/dcmitype/StillImage\"/>\n    <dc:date>2025-10-14T01:58:12.594292</dc:date>\n    <dc:format>image/svg+xml</dc:format>\n    <dc:creator>\n     <cc:Agent>\n      <dc:title>Matplotlib v3.10.0, https://matplotlib.org/</dc:title>\n     </cc:Agent>\n    </dc:creator>\n   </cc:Work>\n  </rdf:RDF>\n </metadata>\n <defs>\n  <style type=\"text/css\">*{stroke-linejoin: round; stroke-linecap: butt}</style>\n </defs>\n <g id=\"figure_1\">\n  <g id=\"patch_1\">\n   <path d=\"M 0 159.039469 \nL 206.16425 159.039469 \nL 206.16425 0 \nL 0 0 \nz\n\" style=\"fill: #ffffff\"/>\n  </g>\n  <g id=\"axes_1\">\n   <g id=\"patch_2\">\n    <path d=\"M 40.603125 121.483219 \nL 152.203125 121.483219 \nL 152.203125 9.883219 \nL 40.603125 9.883219 \nz\n\" style=\"fill: #ffffff\"/>\n   </g>\n   <g clip-path=\"url(#p5ae3a6547e)\">\n    <image xlink:href=\"data:image/png;base64,\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\" id=\"imagec44c0acd72\" transform=\"scale(1 -1) translate(0 -111.6)\" x=\"40.603125\" y=\"-9.883219\" width=\"111.6\" height=\"111.6\"/>\n   </g>\n   <g id=\"matplotlib.axis_1\">\n    <g id=\"xtick_1\">\n     <g id=\"line2d_1\">\n      <defs>\n       <path id=\"m19d522abe5\" d=\"M 0 0 \nL 0 3.5 \n\" style=\"stroke: #000000; stroke-width: 0.8\"/>\n      </defs>\n      <g>\n       <use xlink:href=\"#m19d522abe5\" x=\"41.719125\" y=\"121.483219\" style=\"stroke: #000000; stroke-width: 0.8\"/>\n      </g>\n     </g>\n     <g id=\"text_1\">\n      <!-- 0 -->\n      <g transform=\"translate(38.537875 136.081656) scale(0.1 -0.1)\">\n       <defs>\n        <path id=\"DejaVuSans-30\" d=\"M 2034 4250 \nQ 1547 4250 1301 3770 \nQ 1056 3291 1056 2328 \nQ 1056 1369 1301 889 \nQ 1547 409 2034 409 \nQ 2525 409 2770 889 \nQ 3016 1369 3016 2328 \nQ 3016 3291 2770 3770 \nQ 2525 4250 2034 4250 \nz\nM 2034 4750 \nQ 2819 4750 3233 4129 \nQ 3647 3509 3647 2328 \nQ 3647 1150 3233 529 \nQ 2819 -91 2034 -91 \nQ 1250 -91 836 529 \nQ 422 1150 422 2328 \nQ 422 3509 836 4129 \nQ 1250 4750 2034 4750 \nz\n\" transform=\"scale(0.015625)\"/>\n       </defs>\n       <use xlink:href=\"#DejaVuSans-30\"/>\n      </g>\n     </g>\n    </g>\n    <g id=\"xtick_2\">\n     <g id=\"line2d_2\">\n      <g>\n       <use xlink:href=\"#m19d522abe5\" x=\"86.359125\" y=\"121.483219\" style=\"stroke: #000000; stroke-width: 0.8\"/>\n      </g>\n     </g>\n     <g id=\"text_2\">\n      <!-- 20 -->\n      <g transform=\"translate(79.996625 136.081656) scale(0.1 -0.1)\">\n       <defs>\n        <path id=\"DejaVuSans-32\" d=\"M 1228 531 \nL 3431 531 \nL 3431 0 \nL 469 0 \nL 469 531 \nQ 828 903 1448 1529 \nQ 2069 2156 2228 2338 \nQ 2531 2678 2651 2914 \nQ 2772 3150 2772 3378 \nQ 2772 3750 2511 3984 \nQ 2250 4219 1831 4219 \nQ 1534 4219 1204 4116 \nQ 875 4013 500 3803 \nL 500 4441 \nQ 881 4594 1212 4672 \nQ 1544 4750 1819 4750 \nQ 2544 4750 2975 4387 \nQ 3406 4025 3406 3419 \nQ 3406 3131 3298 2873 \nQ 3191 2616 2906 2266 \nQ 2828 2175 2409 1742 \nQ 1991 1309 1228 531 \nz\n\" transform=\"scale(0.015625)\"/>\n       </defs>\n       <use xlink:href=\"#DejaVuSans-32\"/>\n       <use xlink:href=\"#DejaVuSans-30\" transform=\"translate(63.623047 0)\"/>\n      </g>\n     </g>\n    </g>\n    <g id=\"xtick_3\">\n     <g id=\"line2d_3\">\n      <g>\n       <use xlink:href=\"#m19d522abe5\" x=\"130.999125\" y=\"121.483219\" style=\"stroke: #000000; stroke-width: 0.8\"/>\n      </g>\n     </g>\n     <g id=\"text_3\">\n      <!-- 40 -->\n      <g transform=\"translate(124.636625 136.081656) scale(0.1 -0.1)\">\n       <defs>\n        <path id=\"DejaVuSans-34\" d=\"M 2419 4116 \nL 825 1625 \nL 2419 1625 \nL 2419 4116 \nz\nM 2253 4666 \nL 3047 4666 \nL 3047 1625 \nL 3713 1625 \nL 3713 1100 \nL 3047 1100 \nL 3047 0 \nL 2419 0 \nL 2419 1100 \nL 313 1100 \nL 313 1709 \nL 2253 4666 \nz\n\" transform=\"scale(0.015625)\"/>\n       </defs>\n       <use xlink:href=\"#DejaVuSans-34\"/>\n       <use xlink:href=\"#DejaVuSans-30\" transform=\"translate(63.623047 0)\"/>\n      </g>\n     </g>\n    </g>\n    <g id=\"text_4\">\n     <!-- Sorted training inputs -->\n     <g transform=\"translate(41.889844 149.759781) scale(0.1 -0.1)\">\n      <defs>\n       <path id=\"DejaVuSans-53\" d=\"M 3425 4513 \nL 3425 3897 \nQ 3066 4069 2747 4153 \nQ 2428 4238 2131 4238 \nQ 1616 4238 1336 4038 \nQ 1056 3838 1056 3469 \nQ 1056 3159 1242 3001 \nQ 1428 2844 1947 2747 \nL 2328 2669 \nQ 3034 2534 3370 2195 \nQ 3706 1856 3706 1288 \nQ 3706 609 3251 259 \nQ 2797 -91 1919 -91 \nQ 1588 -91 1214 -16 \nQ 841 59 441 206 \nL 441 856 \nQ 825 641 1194 531 \nQ 1563 422 1919 422 \nQ 2459 422 2753 634 \nQ 3047 847 3047 1241 \nQ 3047 1584 2836 1778 \nQ 2625 1972 2144 2069 \nL 1759 2144 \nQ 1053 2284 737 2584 \nQ 422 2884 422 3419 \nQ 422 4038 858 4394 \nQ 1294 4750 2059 4750 \nQ 2388 4750 2728 4690 \nQ 3069 4631 3425 4513 \nz\n\" transform=\"scale(0.015625)\"/>\n       <path id=\"DejaVuSans-6f\" d=\"M 1959 3097 \nQ 1497 3097 1228 2736 \nQ 959 2375 959 1747 \nQ 959 1119 1226 758 \nQ 1494 397 1959 397 \nQ 2419 397 2687 759 \nQ 2956 1122 2956 1747 \nQ 2956 2369 2687 2733 \nQ 2419 3097 1959 3097 \nz\nM 1959 3584 \nQ 2709 3584 3137 3096 \nQ 3566 2609 3566 1747 \nQ 3566 888 3137 398 \nQ 2709 -91 1959 -91 \nQ 1206 -91 779 398 \nQ 353 888 353 1747 \nQ 353 2609 779 3096 \nQ 1206 3584 1959 3584 \nz\n\" transform=\"scale(0.015625)\"/>\n       <path id=\"DejaVuSans-72\" d=\"M 2631 2963 \nQ 2534 3019 2420 3045 \nQ 2306 3072 2169 3072 \nQ 1681 3072 1420 2755 \nQ 1159 2438 1159 1844 \nL 1159 0 \nL 581 0 \nL 581 3500 \nL 1159 3500 \nL 1159 2956 \nQ 1341 3275 1631 3429 \nQ 1922 3584 2338 3584 \nQ 2397 3584 2469 3576 \nQ 2541 3569 2628 3553 \nL 2631 2963 \nz\n\" transform=\"scale(0.015625)\"/>\n       <path id=\"DejaVuSans-74\" d=\"M 1172 4494 \nL 1172 3500 \nL 2356 3500 \nL 2356 3053 \nL 1172 3053 \nL 1172 1153 \nQ 1172 725 1289 603 \nQ 1406 481 1766 481 \nL 2356 481 \nL 2356 0 \nL 1766 0 \nQ 1100 0 847 248 \nQ 594 497 594 1153 \nL 594 3053 \nL 172 3053 \nL 172 3500 \nL 594 3500 \nL 594 4494 \nL 1172 4494 \nz\n\" transform=\"scale(0.015625)\"/>\n       <path id=\"DejaVuSans-65\" d=\"M 3597 1894 \nL 3597 1613 \nL 953 1613 \nQ 991 1019 1311 708 \nQ 1631 397 2203 397 \nQ 2534 397 2845 478 \nQ 3156 559 3463 722 \nL 3463 178 \nQ 3153 47 2828 -22 \nQ 2503 -91 2169 -91 \nQ 1331 -91 842 396 \nQ 353 884 353 1716 \nQ 353 2575 817 3079 \nQ 1281 3584 2069 3584 \nQ 2775 3584 3186 3129 \nQ 3597 2675 3597 1894 \nz\nM 3022 2063 \nQ 3016 2534 2758 2815 \nQ 2500 3097 2075 3097 \nQ 1594 3097 1305 2825 \nQ 1016 2553 972 2059 \nL 3022 2063 \nz\n\" transform=\"scale(0.015625)\"/>\n       <path id=\"DejaVuSans-64\" d=\"M 2906 2969 \nL 2906 4863 \nL 3481 4863 \nL 3481 0 \nL 2906 0 \nL 2906 525 \nQ 2725 213 2448 61 \nQ 2172 -91 1784 -91 \nQ 1150 -91 751 415 \nQ 353 922 353 1747 \nQ 353 2572 751 3078 \nQ 1150 3584 1784 3584 \nQ 2172 3584 2448 3432 \nQ 2725 3281 2906 2969 \nz\nM 947 1747 \nQ 947 1113 1208 752 \nQ 1469 391 1925 391 \nQ 2381 391 2643 752 \nQ 2906 1113 2906 1747 \nQ 2906 2381 2643 2742 \nQ 2381 3103 1925 3103 \nQ 1469 3103 1208 2742 \nQ 947 2381 947 1747 \nz\n\" transform=\"scale(0.015625)\"/>\n       <path id=\"DejaVuSans-20\" transform=\"scale(0.015625)\"/>\n       <path id=\"DejaVuSans-61\" d=\"M 2194 1759 \nQ 1497 1759 1228 1600 \nQ 959 1441 959 1056 \nQ 959 750 1161 570 \nQ 1363 391 1709 391 \nQ 2188 391 2477 730 \nQ 2766 1069 2766 1631 \nL 2766 1759 \nL 2194 1759 \nz\nM 3341 1997 \nL 3341 0 \nL 2766 0 \nL 2766 531 \nQ 2569 213 2275 61 \nQ 1981 -91 1556 -91 \nQ 1019 -91 701 211 \nQ 384 513 384 1019 \nQ 384 1609 779 1909 \nQ 1175 2209 1959 2209 \nL 2766 2209 \nL 2766 2266 \nQ 2766 2663 2505 2880 \nQ 2244 3097 1772 3097 \nQ 1472 3097 1187 3025 \nQ 903 2953 641 2809 \nL 641 3341 \nQ 956 3463 1253 3523 \nQ 1550 3584 1831 3584 \nQ 2591 3584 2966 3190 \nQ 3341 2797 3341 1997 \nz\n\" transform=\"scale(0.015625)\"/>\n       <path id=\"DejaVuSans-69\" d=\"M 603 3500 \nL 1178 3500 \nL 1178 0 \nL 603 0 \nL 603 3500 \nz\nM 603 4863 \nL 1178 4863 \nL 1178 4134 \nL 603 4134 \nL 603 4863 \nz\n\" transform=\"scale(0.015625)\"/>\n       <path id=\"DejaVuSans-6e\" d=\"M 3513 2113 \nL 3513 0 \nL 2938 0 \nL 2938 2094 \nQ 2938 2591 2744 2837 \nQ 2550 3084 2163 3084 \nQ 1697 3084 1428 2787 \nQ 1159 2491 1159 1978 \nL 1159 0 \nL 581 0 \nL 581 3500 \nL 1159 3500 \nL 1159 2956 \nQ 1366 3272 1645 3428 \nQ 1925 3584 2291 3584 \nQ 2894 3584 3203 3211 \nQ 3513 2838 3513 2113 \nz\n\" transform=\"scale(0.015625)\"/>\n       <path id=\"DejaVuSans-67\" d=\"M 2906 1791 \nQ 2906 2416 2648 2759 \nQ 2391 3103 1925 3103 \nQ 1463 3103 1205 2759 \nQ 947 2416 947 1791 \nQ 947 1169 1205 825 \nQ 1463 481 1925 481 \nQ 2391 481 2648 825 \nQ 2906 1169 2906 1791 \nz\nM 3481 434 \nQ 3481 -459 3084 -895 \nQ 2688 -1331 1869 -1331 \nQ 1566 -1331 1297 -1286 \nQ 1028 -1241 775 -1147 \nL 775 -588 \nQ 1028 -725 1275 -790 \nQ 1522 -856 1778 -856 \nQ 2344 -856 2625 -561 \nQ 2906 -266 2906 331 \nL 2906 616 \nQ 2728 306 2450 153 \nQ 2172 0 1784 0 \nQ 1141 0 747 490 \nQ 353 981 353 1791 \nQ 353 2603 747 3093 \nQ 1141 3584 1784 3584 \nQ 2172 3584 2450 3431 \nQ 2728 3278 2906 2969 \nL 2906 3500 \nL 3481 3500 \nL 3481 434 \nz\n\" transform=\"scale(0.015625)\"/>\n       <path id=\"DejaVuSans-70\" d=\"M 1159 525 \nL 1159 -1331 \nL 581 -1331 \nL 581 3500 \nL 1159 3500 \nL 1159 2969 \nQ 1341 3281 1617 3432 \nQ 1894 3584 2278 3584 \nQ 2916 3584 3314 3078 \nQ 3713 2572 3713 1747 \nQ 3713 922 3314 415 \nQ 2916 -91 2278 -91 \nQ 1894 -91 1617 61 \nQ 1341 213 1159 525 \nz\nM 3116 1747 \nQ 3116 2381 2855 2742 \nQ 2594 3103 2138 3103 \nQ 1681 3103 1420 2742 \nQ 1159 2381 1159 1747 \nQ 1159 1113 1420 752 \nQ 1681 391 2138 391 \nQ 2594 391 2855 752 \nQ 3116 1113 3116 1747 \nz\n\" transform=\"scale(0.015625)\"/>\n       <path id=\"DejaVuSans-75\" d=\"M 544 1381 \nL 544 3500 \nL 1119 3500 \nL 1119 1403 \nQ 1119 906 1312 657 \nQ 1506 409 1894 409 \nQ 2359 409 2629 706 \nQ 2900 1003 2900 1516 \nL 2900 3500 \nL 3475 3500 \nL 3475 0 \nL 2900 0 \nL 2900 538 \nQ 2691 219 2414 64 \nQ 2138 -91 1772 -91 \nQ 1169 -91 856 284 \nQ 544 659 544 1381 \nz\nM 1991 3584 \nL 1991 3584 \nz\n\" transform=\"scale(0.015625)\"/>\n       <path id=\"DejaVuSans-73\" d=\"M 2834 3397 \nL 2834 2853 \nQ 2591 2978 2328 3040 \nQ 2066 3103 1784 3103 \nQ 1356 3103 1142 2972 \nQ 928 2841 928 2578 \nQ 928 2378 1081 2264 \nQ 1234 2150 1697 2047 \nL 1894 2003 \nQ 2506 1872 2764 1633 \nQ 3022 1394 3022 966 \nQ 3022 478 2636 193 \nQ 2250 -91 1575 -91 \nQ 1294 -91 989 -36 \nQ 684 19 347 128 \nL 347 722 \nQ 666 556 975 473 \nQ 1284 391 1588 391 \nQ 1994 391 2212 530 \nQ 2431 669 2431 922 \nQ 2431 1156 2273 1281 \nQ 2116 1406 1581 1522 \nL 1381 1569 \nQ 847 1681 609 1914 \nQ 372 2147 372 2553 \nQ 372 3047 722 3315 \nQ 1072 3584 1716 3584 \nQ 2034 3584 2315 3537 \nQ 2597 3491 2834 3397 \nz\n\" transform=\"scale(0.015625)\"/>\n      </defs>\n      <use xlink:href=\"#DejaVuSans-53\"/>\n      <use xlink:href=\"#DejaVuSans-6f\" transform=\"translate(63.476562 0)\"/>\n      <use xlink:href=\"#DejaVuSans-72\" transform=\"translate(124.658203 0)\"/>\n      <use xlink:href=\"#DejaVuSans-74\" transform=\"translate(165.771484 0)\"/>\n      <use xlink:href=\"#DejaVuSans-65\" transform=\"translate(204.980469 0)\"/>\n      <use xlink:href=\"#DejaVuSans-64\" transform=\"translate(266.503906 0)\"/>\n      <use xlink:href=\"#DejaVuSans-20\" transform=\"translate(329.980469 0)\"/>\n      <use xlink:href=\"#DejaVuSans-74\" transform=\"translate(361.767578 0)\"/>\n      <use xlink:href=\"#DejaVuSans-72\" transform=\"translate(400.976562 0)\"/>\n      <use xlink:href=\"#DejaVuSans-61\" transform=\"translate(442.089844 0)\"/>\n      <use xlink:href=\"#DejaVuSans-69\" transform=\"translate(503.369141 0)\"/>\n      <use xlink:href=\"#DejaVuSans-6e\" transform=\"translate(531.152344 0)\"/>\n      <use xlink:href=\"#DejaVuSans-69\" transform=\"translate(594.53125 0)\"/>\n      <use xlink:href=\"#DejaVuSans-6e\" transform=\"translate(622.314453 0)\"/>\n      <use xlink:href=\"#DejaVuSans-67\" transform=\"translate(685.693359 0)\"/>\n      <use xlink:href=\"#DejaVuSans-20\" transform=\"translate(749.169922 0)\"/>\n      <use xlink:href=\"#DejaVuSans-69\" transform=\"translate(780.957031 0)\"/>\n      <use xlink:href=\"#DejaVuSans-6e\" transform=\"translate(808.740234 0)\"/>\n      <use xlink:href=\"#DejaVuSans-70\" transform=\"translate(872.119141 0)\"/>\n      <use xlink:href=\"#DejaVuSans-75\" transform=\"translate(935.595703 0)\"/>\n      <use xlink:href=\"#DejaVuSans-74\" transform=\"translate(998.974609 0)\"/>\n      <use xlink:href=\"#DejaVuSans-73\" transform=\"translate(1038.183594 0)\"/>\n     </g>\n    </g>\n   </g>\n   <g id=\"matplotlib.axis_2\">\n    <g id=\"ytick_1\">\n     <g id=\"line2d_4\">\n      <defs>\n       <path id=\"m6b566fc535\" d=\"M 0 0 \nL -3.5 0 \n\" style=\"stroke: #000000; stroke-width: 0.8\"/>\n      </defs>\n      <g>\n       <use xlink:href=\"#m6b566fc535\" x=\"40.603125\" y=\"10.999219\" style=\"stroke: #000000; stroke-width: 0.8\"/>\n      </g>\n     </g>\n     <g id=\"text_5\">\n      <!-- 0 -->\n      <g transform=\"translate(27.240625 14.798438) scale(0.1 -0.1)\">\n       <use xlink:href=\"#DejaVuSans-30\"/>\n      </g>\n     </g>\n    </g>\n    <g id=\"ytick_2\">\n     <g id=\"line2d_5\">\n      <g>\n       <use xlink:href=\"#m6b566fc535\" x=\"40.603125\" y=\"33.319219\" style=\"stroke: #000000; stroke-width: 0.8\"/>\n      </g>\n     </g>\n     <g id=\"text_6\">\n      <!-- 10 -->\n      <g transform=\"translate(20.878125 37.118438) scale(0.1 -0.1)\">\n       <defs>\n        <path id=\"DejaVuSans-31\" d=\"M 794 531 \nL 1825 531 \nL 1825 4091 \nL 703 3866 \nL 703 4441 \nL 1819 4666 \nL 2450 4666 \nL 2450 531 \nL 3481 531 \nL 3481 0 \nL 794 0 \nL 794 531 \nz\n\" transform=\"scale(0.015625)\"/>\n       </defs>\n       <use xlink:href=\"#DejaVuSans-31\"/>\n       <use xlink:href=\"#DejaVuSans-30\" transform=\"translate(63.623047 0)\"/>\n      </g>\n     </g>\n    </g>\n    <g id=\"ytick_3\">\n     <g id=\"line2d_6\">\n      <g>\n       <use xlink:href=\"#m6b566fc535\" x=\"40.603125\" y=\"55.639219\" style=\"stroke: #000000; stroke-width: 0.8\"/>\n      </g>\n     </g>\n     <g id=\"text_7\">\n      <!-- 20 -->\n      <g transform=\"translate(20.878125 59.438438) scale(0.1 -0.1)\">\n       <use xlink:href=\"#DejaVuSans-32\"/>\n       <use xlink:href=\"#DejaVuSans-30\" transform=\"translate(63.623047 0)\"/>\n      </g>\n     </g>\n    </g>\n    <g id=\"ytick_4\">\n     <g id=\"line2d_7\">\n      <g>\n       <use xlink:href=\"#m6b566fc535\" x=\"40.603125\" y=\"77.959219\" style=\"stroke: #000000; stroke-width: 0.8\"/>\n      </g>\n     </g>\n     <g id=\"text_8\">\n      <!-- 30 -->\n      <g transform=\"translate(20.878125 81.758438) scale(0.1 -0.1)\">\n       <defs>\n        <path id=\"DejaVuSans-33\" d=\"M 2597 2516 \nQ 3050 2419 3304 2112 \nQ 3559 1806 3559 1356 \nQ 3559 666 3084 287 \nQ 2609 -91 1734 -91 \nQ 1441 -91 1130 -33 \nQ 819 25 488 141 \nL 488 750 \nQ 750 597 1062 519 \nQ 1375 441 1716 441 \nQ 2309 441 2620 675 \nQ 2931 909 2931 1356 \nQ 2931 1769 2642 2001 \nQ 2353 2234 1838 2234 \nL 1294 2234 \nL 1294 2753 \nL 1863 2753 \nQ 2328 2753 2575 2939 \nQ 2822 3125 2822 3475 \nQ 2822 3834 2567 4026 \nQ 2313 4219 1838 4219 \nQ 1578 4219 1281 4162 \nQ 984 4106 628 3988 \nL 628 4550 \nQ 988 4650 1302 4700 \nQ 1616 4750 1894 4750 \nQ 2613 4750 3031 4423 \nQ 3450 4097 3450 3541 \nQ 3450 3153 3228 2886 \nQ 3006 2619 2597 2516 \nz\n\" transform=\"scale(0.015625)\"/>\n       </defs>\n       <use xlink:href=\"#DejaVuSans-33\"/>\n       <use xlink:href=\"#DejaVuSans-30\" transform=\"translate(63.623047 0)\"/>\n      </g>\n     </g>\n    </g>\n    <g id=\"ytick_5\">\n     <g id=\"line2d_8\">\n      <g>\n       <use xlink:href=\"#m6b566fc535\" x=\"40.603125\" y=\"100.279219\" style=\"stroke: #000000; stroke-width: 0.8\"/>\n      </g>\n     </g>\n     <g id=\"text_9\">\n      <!-- 40 -->\n      <g transform=\"translate(20.878125 104.078438) scale(0.1 -0.1)\">\n       <use xlink:href=\"#DejaVuSans-34\"/>\n       <use xlink:href=\"#DejaVuSans-30\" transform=\"translate(63.623047 0)\"/>\n      </g>\n     </g>\n    </g>\n    <g id=\"text_10\">\n     <!-- Sorted testing inputs -->\n     <g transform=\"translate(14.798438 118.160563) rotate(-90) scale(0.1 -0.1)\">\n      <use xlink:href=\"#DejaVuSans-53\"/>\n      <use xlink:href=\"#DejaVuSans-6f\" transform=\"translate(63.476562 0)\"/>\n      <use xlink:href=\"#DejaVuSans-72\" transform=\"translate(124.658203 0)\"/>\n      <use xlink:href=\"#DejaVuSans-74\" transform=\"translate(165.771484 0)\"/>\n      <use xlink:href=\"#DejaVuSans-65\" transform=\"translate(204.980469 0)\"/>\n      <use xlink:href=\"#DejaVuSans-64\" transform=\"translate(266.503906 0)\"/>\n      <use xlink:href=\"#DejaVuSans-20\" transform=\"translate(329.980469 0)\"/>\n      <use xlink:href=\"#DejaVuSans-74\" transform=\"translate(361.767578 0)\"/>\n      <use xlink:href=\"#DejaVuSans-65\" transform=\"translate(400.976562 0)\"/>\n      <use xlink:href=\"#DejaVuSans-73\" transform=\"translate(462.5 0)\"/>\n      <use xlink:href=\"#DejaVuSans-74\" transform=\"translate(514.599609 0)\"/>\n      <use xlink:href=\"#DejaVuSans-69\" transform=\"translate(553.808594 0)\"/>\n      <use xlink:href=\"#DejaVuSans-6e\" transform=\"translate(581.591797 0)\"/>\n      <use xlink:href=\"#DejaVuSans-67\" transform=\"translate(644.970703 0)\"/>\n      <use xlink:href=\"#DejaVuSans-20\" transform=\"translate(708.447266 0)\"/>\n      <use xlink:href=\"#DejaVuSans-69\" transform=\"translate(740.234375 0)\"/>\n      <use xlink:href=\"#DejaVuSans-6e\" transform=\"translate(768.017578 0)\"/>\n      <use xlink:href=\"#DejaVuSans-70\" transform=\"translate(831.396484 0)\"/>\n      <use xlink:href=\"#DejaVuSans-75\" transform=\"translate(894.873047 0)\"/>\n      <use xlink:href=\"#DejaVuSans-74\" transform=\"translate(958.251953 0)\"/>\n      <use xlink:href=\"#DejaVuSans-73\" transform=\"translate(997.460938 0)\"/>\n     </g>\n    </g>\n   </g>\n   <g id=\"patch_3\">\n    <path d=\"M 40.603125 121.483219 \nL 40.603125 9.883219 \n\" style=\"fill: none; stroke: #000000; stroke-width: 0.8; stroke-linejoin: miter; stroke-linecap: square\"/>\n   </g>\n   <g id=\"patch_4\">\n    <path d=\"M 152.203125 121.483219 \nL 152.203125 9.883219 \n\" style=\"fill: none; stroke: #000000; stroke-width: 0.8; stroke-linejoin: miter; stroke-linecap: square\"/>\n   </g>\n   <g id=\"patch_5\">\n    <path d=\"M 40.603125 121.483219 \nL 152.203125 121.483219 \n\" style=\"fill: none; stroke: #000000; stroke-width: 0.8; stroke-linejoin: miter; stroke-linecap: square\"/>\n   </g>\n   <g id=\"patch_6\">\n    <path d=\"M 40.603125 9.883219 \nL 152.203125 9.883219 \n\" style=\"fill: none; stroke: #000000; stroke-width: 0.8; stroke-linejoin: miter; stroke-linecap: square\"/>\n   </g>\n  </g>\n  <g id=\"axes_2\">\n   <g id=\"patch_7\">\n    <path d=\"M 159.178125 107.263219 \nL 163.336125 107.263219 \nL 163.336125 24.103219 \nL 159.178125 24.103219 \nz\n\" style=\"fill: #ffffff\"/>\n   </g>\n   <image xlink:href=\"data:image/png;base64,\niVBORw0KGgoAAAANSUhEUgAAAAYAAABzCAYAAAC7I3M6AAAAv0lEQVR4nNWVQQrDQAwDXfD/v9pLT1l71Q/sBBQMpTmukMbWhuSlz1txeDK0T+d3wrYFmyFm9BTjZsFjVY/g6GgSyKFaLsOHt82gKPlT+QvaJUbVWNS/waldjqKXGh24oB9lO/RL+AOBGGoSFjLsqDm4mj6W/lSFDDcK4ZvGbXTQ36BJQAa0Hlk2nAWCF081xsBKWiQcjyNykwM6jCx0nM8jO2wH74GbQ5S/IMIXMbASnAodFwllR/mOy76Puam+t3oOUronbv0AAAAASUVORK5CYII=\" id=\"image5a41c027a6\" transform=\"scale(1 -1) translate(0 -82.8)\" x=\"159.12\" y=\"-23.76\" width=\"4.32\" height=\"82.8\"/>\n   <g id=\"matplotlib.axis_3\"/>\n   <g id=\"matplotlib.axis_4\">\n    <g id=\"ytick_6\">\n     <g id=\"line2d_9\">\n      <defs>\n       <path id=\"m4b3b1171a9\" d=\"M 0 0 \nL 3.5 0 \n\" style=\"stroke: #000000; stroke-width: 0.8\"/>\n      </defs>\n      <g>\n       <use xlink:href=\"#m4b3b1171a9\" x=\"163.336125\" y=\"84.244475\" style=\"stroke: #000000; stroke-width: 0.8\"/>\n      </g>\n     </g>\n     <g id=\"text_11\">\n      <!-- 0.025 -->\n      <g transform=\"translate(170.336125 88.043694) scale(0.1 -0.1)\">\n       <defs>\n        <path id=\"DejaVuSans-2e\" d=\"M 684 794 \nL 1344 794 \nL 1344 0 \nL 684 0 \nL 684 794 \nz\n\" transform=\"scale(0.015625)\"/>\n        <path id=\"DejaVuSans-35\" d=\"M 691 4666 \nL 3169 4666 \nL 3169 4134 \nL 1269 4134 \nL 1269 2991 \nQ 1406 3038 1543 3061 \nQ 1681 3084 1819 3084 \nQ 2600 3084 3056 2656 \nQ 3513 2228 3513 1497 \nQ 3513 744 3044 326 \nQ 2575 -91 1722 -91 \nQ 1428 -91 1123 -41 \nQ 819 9 494 109 \nL 494 744 \nQ 775 591 1075 516 \nQ 1375 441 1709 441 \nQ 2250 441 2565 725 \nQ 2881 1009 2881 1497 \nQ 2881 1984 2565 2268 \nQ 2250 2553 1709 2553 \nQ 1456 2553 1204 2497 \nQ 953 2441 691 2322 \nL 691 4666 \nz\n\" transform=\"scale(0.015625)\"/>\n       </defs>\n       <use xlink:href=\"#DejaVuSans-30\"/>\n       <use xlink:href=\"#DejaVuSans-2e\" transform=\"translate(63.623047 0)\"/>\n       <use xlink:href=\"#DejaVuSans-30\" transform=\"translate(95.410156 0)\"/>\n       <use xlink:href=\"#DejaVuSans-32\" transform=\"translate(159.033203 0)\"/>\n       <use xlink:href=\"#DejaVuSans-35\" transform=\"translate(222.65625 0)\"/>\n      </g>\n     </g>\n    </g>\n    <g id=\"ytick_7\">\n     <g id=\"line2d_10\">\n      <g>\n       <use xlink:href=\"#m4b3b1171a9\" x=\"163.336125\" y=\"61.225113\" style=\"stroke: #000000; stroke-width: 0.8\"/>\n      </g>\n     </g>\n     <g id=\"text_12\">\n      <!-- 0.050 -->\n      <g transform=\"translate(170.336125 65.024332) scale(0.1 -0.1)\">\n       <use xlink:href=\"#DejaVuSans-30\"/>\n       <use xlink:href=\"#DejaVuSans-2e\" transform=\"translate(63.623047 0)\"/>\n       <use xlink:href=\"#DejaVuSans-30\" transform=\"translate(95.410156 0)\"/>\n       <use xlink:href=\"#DejaVuSans-35\" transform=\"translate(159.033203 0)\"/>\n       <use xlink:href=\"#DejaVuSans-30\" transform=\"translate(222.65625 0)\"/>\n      </g>\n     </g>\n    </g>\n    <g id=\"ytick_8\">\n     <g id=\"line2d_11\">\n      <g>\n       <use xlink:href=\"#m4b3b1171a9\" x=\"163.336125\" y=\"38.205751\" style=\"stroke: #000000; stroke-width: 0.8\"/>\n      </g>\n     </g>\n     <g id=\"text_13\">\n      <!-- 0.075 -->\n      <g transform=\"translate(170.336125 42.004969) scale(0.1 -0.1)\">\n       <defs>\n        <path id=\"DejaVuSans-37\" d=\"M 525 4666 \nL 3525 4666 \nL 3525 4397 \nL 1831 0 \nL 1172 0 \nL 2766 4134 \nL 525 4134 \nL 525 4666 \nz\n\" transform=\"scale(0.015625)\"/>\n       </defs>\n       <use xlink:href=\"#DejaVuSans-30\"/>\n       <use xlink:href=\"#DejaVuSans-2e\" transform=\"translate(63.623047 0)\"/>\n       <use xlink:href=\"#DejaVuSans-30\" transform=\"translate(95.410156 0)\"/>\n       <use xlink:href=\"#DejaVuSans-37\" transform=\"translate(159.033203 0)\"/>\n       <use xlink:href=\"#DejaVuSans-35\" transform=\"translate(222.65625 0)\"/>\n      </g>\n     </g>\n    </g>\n   </g>\n   <g id=\"LineCollection_1\"/>\n   <g id=\"patch_8\">\n    <path d=\"M 159.178125 107.263219 \nL 161.257125 107.263219 \nL 163.336125 107.263219 \nL 163.336125 24.103219 \nL 161.257125 24.103219 \nL 159.178125 24.103219 \nL 159.178125 107.263219 \nz\n\" style=\"fill: none; stroke: #000000; stroke-width: 0.8; stroke-linejoin: miter; stroke-linecap: square\"/>\n   </g>\n  </g>\n </g>\n <defs>\n  <clipPath id=\"p5ae3a6547e\">\n   <rect x=\"40.603125\" y=\"9.883219\" width=\"111.6\" height=\"111.6\"/>\n  </clipPath>\n </defs>\n</svg>\n"
          },
          "metadata": {}
        }
      ],
      "source": [
        "d2l.show_heatmaps(attention_weights.unsqueeze(0).unsqueeze(0),   #参数1:(显示的行数，显示的列数，查询的个数，键的个数)\n",
        "                  xlabel='Sorted training inputs',\n",
        "                  ylabel='Sorted testing inputs')"
      ]
    },
    {
      "cell_type": "markdown",
      "id": "73a72797",
      "metadata": {
        "origin_pos": 31,
        "id": "73a72797"
      },
      "source": [
        "## [**带参数注意力汇聚**]\n",
        "\n",
        "非参数的Nadaraya-Watson核回归具有*一致性*（consistency）的优点：\n",
        "如果有足够的数据，此模型会收敛到最优结果。\n",
        "尽管如此，我们还是可以轻松地将可学习的参数集成到注意力汇聚中。\n",
        "\n",
        "例如，与 :eqref:`eq_nadaraya-watson-gaussian`略有不同，\n",
        "在下面的查询$x$和键$x_i$之间的距离乘以可学习参数$w$：\n",
        "\n",
        "$$\\begin{aligned}f(x) &= \\sum_{i=1}^n \\alpha(x, x_i) y_i \\\\&= \\sum_{i=1}^n \\frac{\\exp\\left(-\\frac{1}{2}((x - x_i)w)^2\\right)}{\\sum_{j=1}^n \\exp\\left(-\\frac{1}{2}((x - x_j)w)^2\\right)} y_i \\\\&= \\sum_{i=1}^n \\mathrm{softmax}\\left(-\\frac{1}{2}((x - x_i)w)^2\\right) y_i.\\end{aligned}$$\n",
        ":eqlabel:`eq_nadaraya-watson-gaussian-para`\n",
        "\n",
        "本节的余下部分将通过训练这个模型\n",
        " :eqref:`eq_nadaraya-watson-gaussian-para`来学习注意力汇聚的参数。\n",
        "\n",
        "### 批量矩阵乘法\n",
        "\n",
        ":label:`subsec_batch_dot`\n",
        "\n",
        "为了更有效地计算小批量数据的注意力，\n",
        "我们可以利用深度学习开发框架中提供的批量矩阵乘法。\n",
        "\n",
        "假设第一个小批量数据包含$n$个矩阵$\\mathbf{X}_1,\\ldots, \\mathbf{X}_n$，\n",
        "形状为$a\\times b$，\n",
        "第二个小批量包含$n$个矩阵$\\mathbf{Y}_1, \\ldots, \\mathbf{Y}_n$，\n",
        "形状为$b\\times c$。\n",
        "它们的批量矩阵乘法得到$n$个矩阵\n",
        "$\\mathbf{X}_1\\mathbf{Y}_1, \\ldots, \\mathbf{X}_n\\mathbf{Y}_n$，\n",
        "形状为$a\\times c$。\n",
        "因此，[**假定两个张量的形状分别是$(n,a,b)$和$(n,b,c)$，\n",
        "它们的批量矩阵乘法输出的形状为$(n,a,c)$**]。\n"
      ]
    },
    {
      "cell_type": "code",
      "execution_count": 23,
      "id": "c5a4dc9e",
      "metadata": {
        "execution": {
          "iopub.execute_input": "2023-08-18T07:07:17.329873Z",
          "iopub.status.busy": "2023-08-18T07:07:17.329293Z",
          "iopub.status.idle": "2023-08-18T07:07:17.336079Z",
          "shell.execute_reply": "2023-08-18T07:07:17.335148Z"
        },
        "origin_pos": 33,
        "tab": [
          "pytorch"
        ],
        "id": "c5a4dc9e",
        "outputId": "b2e2a4e7-8e8a-49b7-ab4a-7137e2763da2",
        "colab": {
          "base_uri": "https://localhost:8080/"
        }
      },
      "outputs": [
        {
          "output_type": "execute_result",
          "data": {
            "text/plain": [
              "torch.Size([2, 1, 6])"
            ]
          },
          "metadata": {},
          "execution_count": 23
        }
      ],
      "source": [
        "X = torch.ones((2, 1, 4))\n",
        "Y = torch.ones((2, 4, 6))\n",
        "torch.bmm(X, Y).shape"
      ]
    },
    {
      "cell_type": "markdown",
      "id": "acac0804",
      "metadata": {
        "origin_pos": 36,
        "id": "acac0804"
      },
      "source": [
        "在注意力机制的背景中，我们可以[**使用小批量矩阵乘法来计算小批量数据中的加权平均值**]。\n"
      ]
    },
    {
      "cell_type": "code",
      "execution_count": 47,
      "id": "7161cf35",
      "metadata": {
        "execution": {
          "iopub.execute_input": "2023-08-18T07:07:17.341257Z",
          "iopub.status.busy": "2023-08-18T07:07:17.340341Z",
          "iopub.status.idle": "2023-08-18T07:07:17.348773Z",
          "shell.execute_reply": "2023-08-18T07:07:17.347847Z"
        },
        "origin_pos": 38,
        "tab": [
          "pytorch"
        ],
        "id": "7161cf35",
        "outputId": "fc47aae1-2079-4a04-e713-5f2d9c47a518",
        "colab": {
          "base_uri": "https://localhost:8080/"
        }
      },
      "outputs": [
        {
          "output_type": "execute_result",
          "data": {
            "text/plain": [
              "(torch.Size([2, 10]),\n",
              " torch.Size([2, 10]),\n",
              " torch.Size([2, 1, 10]),\n",
              " torch.Size([2, 10, 1]))"
            ]
          },
          "metadata": {},
          "execution_count": 47
        }
      ],
      "source": [
        "weights = torch.ones((2, 10)) * 0.1\n",
        "values = torch.arange(20.0).reshape((2, 10))\n",
        "weights.size(),values.size(),weights.unsqueeze(1).size(),values.unsqueeze(-1).size()"
      ]
    },
    {
      "cell_type": "code",
      "source": [
        "torch.bmm(weights.unsqueeze(1), values.unsqueeze(-1))"
      ],
      "metadata": {
        "id": "i46XJ-9AdGBE",
        "outputId": "5f86fc6e-cf47-47a4-a9f2-f0ca63e739f1",
        "colab": {
          "base_uri": "https://localhost:8080/"
        }
      },
      "id": "i46XJ-9AdGBE",
      "execution_count": 27,
      "outputs": [
        {
          "output_type": "execute_result",
          "data": {
            "text/plain": [
              "tensor([[[ 4.5000]],\n",
              "\n",
              "        [[14.5000]]])"
            ]
          },
          "metadata": {},
          "execution_count": 27
        }
      ]
    },
    {
      "cell_type": "markdown",
      "id": "f31cb449",
      "metadata": {
        "origin_pos": 41,
        "id": "f31cb449"
      },
      "source": [
        "### 定义模型\n",
        "\n",
        "基于 :eqref:`eq_nadaraya-watson-gaussian-para`中的\n",
        "[**带参数的注意力汇聚**]，使用小批量矩阵乘法，\n",
        "定义Nadaraya-Watson核回归的带参数版本为：\n"
      ]
    },
    {
      "cell_type": "code",
      "execution_count": 33,
      "id": "e7aee504",
      "metadata": {
        "execution": {
          "iopub.execute_input": "2023-08-18T07:07:17.353382Z",
          "iopub.status.busy": "2023-08-18T07:07:17.353094Z",
          "iopub.status.idle": "2023-08-18T07:07:17.359677Z",
          "shell.execute_reply": "2023-08-18T07:07:17.358720Z"
        },
        "origin_pos": 43,
        "tab": [
          "pytorch"
        ],
        "id": "e7aee504"
      },
      "outputs": [],
      "source": [
        "class NWKernelRegression(nn.Module):\n",
        "    def __init__(self, **kwargs):\n",
        "        super().__init__(**kwargs)\n",
        "        self.w = nn.Parameter(torch.rand((1,), requires_grad=True))\n",
        "\n",
        "    def forward(self, queries, keys, values):\n",
        "        # queries和attention_weights的形状为(查询个数，“键－值”对个数)\n",
        "        queries = queries.repeat_interleave(keys.shape[1]).reshape((-1, keys.shape[1]))\n",
        "        self.attention_weights = nn.functional.softmax(\n",
        "            -((queries - keys) * self.w)**2 / 2, dim=1)\n",
        "        # values的形状为(查询个数，“键－值”对个数)\n",
        "        return torch.bmm(self.attention_weights.unsqueeze(1),\n",
        "                         values.unsqueeze(-1)).reshape(-1)"
      ]
    },
    {
      "cell_type": "markdown",
      "id": "192a922f",
      "metadata": {
        "origin_pos": 46,
        "id": "192a922f"
      },
      "source": [
        "### 训练\n",
        "\n",
        "接下来，[**将训练数据集变换为键和值**]用于训练注意力模型。\n",
        "在带参数的注意力汇聚模型中，\n",
        "任何一个训练样本的输入都会和除自己以外的所有训练样本的“键－值”对进行计算，\n",
        "从而得到其对应的预测输出。\n"
      ]
    },
    {
      "cell_type": "code",
      "execution_count": 28,
      "id": "c738e178",
      "metadata": {
        "execution": {
          "iopub.execute_input": "2023-08-18T07:07:17.363589Z",
          "iopub.status.busy": "2023-08-18T07:07:17.362749Z",
          "iopub.status.idle": "2023-08-18T07:07:17.369359Z",
          "shell.execute_reply": "2023-08-18T07:07:17.368357Z"
        },
        "origin_pos": 48,
        "tab": [
          "pytorch"
        ],
        "id": "c738e178",
        "outputId": "bf172990-5e16-4921-e00a-37303bcfede2",
        "colab": {
          "base_uri": "https://localhost:8080/"
        }
      },
      "outputs": [
        {
          "output_type": "execute_result",
          "data": {
            "text/plain": [
              "(tensor([[0.1210, 0.1427, 0.1829,  ..., 4.7738, 4.7931, 4.8075],\n",
              "         [0.1210, 0.1427, 0.1829,  ..., 4.7738, 4.7931, 4.8075],\n",
              "         [0.1210, 0.1427, 0.1829,  ..., 4.7738, 4.7931, 4.8075],\n",
              "         ...,\n",
              "         [0.1210, 0.1427, 0.1829,  ..., 4.7738, 4.7931, 4.8075],\n",
              "         [0.1210, 0.1427, 0.1829,  ..., 4.7738, 4.7931, 4.8075],\n",
              "         [0.1210, 0.1427, 0.1829,  ..., 4.7738, 4.7931, 4.8075]]),\n",
              " torch.Size([50, 50]))"
            ]
          },
          "metadata": {},
          "execution_count": 28
        }
      ],
      "source": [
        "# X_tile的形状:(n_train，n_train)，每一行都包含着相同的训练输入\n",
        "X_tile = x_train.repeat((n_train, 1))\n",
        "X_tile,X_tile.shape"
      ]
    },
    {
      "cell_type": "code",
      "source": [
        "# Y_tile的形状:(n_train，n_train)，每一行都包含着相同的训练输出\n",
        "Y_tile = y_train.repeat((n_train, 1))\n",
        "Y_tile,Y_tile.shape"
      ],
      "metadata": {
        "id": "UYPkO9t1egqu",
        "outputId": "4dba30c2-7e08-4798-c919-b43721b01f3b",
        "colab": {
          "base_uri": "https://localhost:8080/"
        }
      },
      "id": "UYPkO9t1egqu",
      "execution_count": 29,
      "outputs": [
        {
          "output_type": "execute_result",
          "data": {
            "text/plain": [
              "(tensor([[1.1471, 0.3282, 1.2540,  ..., 2.0329, 1.6110, 1.8932],\n",
              "         [1.1471, 0.3282, 1.2540,  ..., 2.0329, 1.6110, 1.8932],\n",
              "         [1.1471, 0.3282, 1.2540,  ..., 2.0329, 1.6110, 1.8932],\n",
              "         ...,\n",
              "         [1.1471, 0.3282, 1.2540,  ..., 2.0329, 1.6110, 1.8932],\n",
              "         [1.1471, 0.3282, 1.2540,  ..., 2.0329, 1.6110, 1.8932],\n",
              "         [1.1471, 0.3282, 1.2540,  ..., 2.0329, 1.6110, 1.8932]]),\n",
              " torch.Size([50, 50]))"
            ]
          },
          "metadata": {},
          "execution_count": 29
        }
      ]
    },
    {
      "cell_type": "code",
      "source": [
        "# keys的形状:('n_train'，'n_train'-1)\n",
        "keys = X_tile[(1 - torch.eye(n_train)).type(torch.bool)].reshape((n_train, -1))\n",
        "keys,keys.shape"
      ],
      "metadata": {
        "id": "oEbhRjjHeoEP",
        "outputId": "7491869c-20e8-4219-a7e7-d32b89b22c93",
        "colab": {
          "base_uri": "https://localhost:8080/"
        }
      },
      "id": "oEbhRjjHeoEP",
      "execution_count": 30,
      "outputs": [
        {
          "output_type": "execute_result",
          "data": {
            "text/plain": [
              "(tensor([[0.1427, 0.1829, 0.4480,  ..., 4.7738, 4.7931, 4.8075],\n",
              "         [0.1210, 0.1829, 0.4480,  ..., 4.7738, 4.7931, 4.8075],\n",
              "         [0.1210, 0.1427, 0.4480,  ..., 4.7738, 4.7931, 4.8075],\n",
              "         ...,\n",
              "         [0.1210, 0.1427, 0.1829,  ..., 4.6617, 4.7931, 4.8075],\n",
              "         [0.1210, 0.1427, 0.1829,  ..., 4.6617, 4.7738, 4.8075],\n",
              "         [0.1210, 0.1427, 0.1829,  ..., 4.6617, 4.7738, 4.7931]]),\n",
              " torch.Size([50, 49]))"
            ]
          },
          "metadata": {},
          "execution_count": 30
        }
      ]
    },
    {
      "cell_type": "code",
      "source": [
        "# values的形状:('n_train'，'n_train'-1)\n",
        "values = Y_tile[(1 - torch.eye(n_train)).type(torch.bool)].reshape((n_train, -1))\n",
        "values,values.shape"
      ],
      "metadata": {
        "id": "rsL_6BIRetH5",
        "outputId": "c0c89960-00c2-43df-eccd-7dbab6455465",
        "colab": {
          "base_uri": "https://localhost:8080/"
        }
      },
      "id": "rsL_6BIRetH5",
      "execution_count": 31,
      "outputs": [
        {
          "output_type": "execute_result",
          "data": {
            "text/plain": [
              "(tensor([[0.3282, 1.2540, 1.3529,  ..., 2.0329, 1.6110, 1.8932],\n",
              "         [1.1471, 1.2540, 1.3529,  ..., 2.0329, 1.6110, 1.8932],\n",
              "         [1.1471, 0.3282, 1.3529,  ..., 2.0329, 1.6110, 1.8932],\n",
              "         ...,\n",
              "         [1.1471, 0.3282, 1.2540,  ..., 1.1011, 1.6110, 1.8932],\n",
              "         [1.1471, 0.3282, 1.2540,  ..., 1.1011, 2.0329, 1.8932],\n",
              "         [1.1471, 0.3282, 1.2540,  ..., 1.1011, 2.0329, 1.6110]]),\n",
              " torch.Size([50, 49]))"
            ]
          },
          "metadata": {},
          "execution_count": 31
        }
      ]
    },
    {
      "cell_type": "markdown",
      "id": "245d8e27",
      "metadata": {
        "origin_pos": 51,
        "id": "245d8e27"
      },
      "source": [
        "[**训练带参数的注意力汇聚模型**]时，使用平方损失函数和随机梯度下降。\n"
      ]
    },
    {
      "cell_type": "code",
      "execution_count": 34,
      "id": "37b732ff",
      "metadata": {
        "execution": {
          "iopub.execute_input": "2023-08-18T07:07:17.373285Z",
          "iopub.status.busy": "2023-08-18T07:07:17.372386Z",
          "iopub.status.idle": "2023-08-18T07:07:18.050395Z",
          "shell.execute_reply": "2023-08-18T07:07:18.049441Z"
        },
        "origin_pos": 53,
        "tab": [
          "pytorch"
        ],
        "id": "37b732ff",
        "outputId": "229b3c48-61b6-49ae-840d-3bce8b2e8853",
        "colab": {
          "base_uri": "https://localhost:8080/",
          "height": 268
        }
      },
      "outputs": [
        {
          "output_type": "display_data",
          "data": {
            "text/plain": [
              "<Figure size 350x250 with 1 Axes>"
            ],
            "image/svg+xml": "<?xml version=\"1.0\" encoding=\"utf-8\" standalone=\"no\"?>\n<!DOCTYPE svg PUBLIC \"-//W3C//DTD SVG 1.1//EN\"\n  \"http://www.w3.org/Graphics/SVG/1.1/DTD/svg11.dtd\">\n<svg xmlns:xlink=\"http://www.w3.org/1999/xlink\" width=\"246.284375pt\" height=\"185.379091pt\" viewBox=\"0 0 246.284375 185.379091\" xmlns=\"http://www.w3.org/2000/svg\" version=\"1.1\">\n <metadata>\n  <rdf:RDF xmlns:dc=\"http://purl.org/dc/elements/1.1/\" xmlns:cc=\"http://creativecommons.org/ns#\" xmlns:rdf=\"http://www.w3.org/1999/02/22-rdf-syntax-ns#\">\n   <cc:Work>\n    <dc:type rdf:resource=\"http://purl.org/dc/dcmitype/StillImage\"/>\n    <dc:date>2025-10-14T02:13:34.396567</dc:date>\n    <dc:format>image/svg+xml</dc:format>\n    <dc:creator>\n     <cc:Agent>\n      <dc:title>Matplotlib v3.10.0, https://matplotlib.org/</dc:title>\n     </cc:Agent>\n    </dc:creator>\n   </cc:Work>\n  </rdf:RDF>\n </metadata>\n <defs>\n  <style type=\"text/css\">*{stroke-linejoin: round; stroke-linecap: butt}</style>\n </defs>\n <g id=\"figure_1\">\n  <g id=\"patch_1\">\n   <path d=\"M 0 185.379091 \nL 246.284375 185.379091 \nL 246.284375 0 \nL 0 0 \nz\n\" style=\"fill: #ffffff\"/>\n  </g>\n  <g id=\"axes_1\">\n   <g id=\"patch_2\">\n    <path d=\"M 40.603125 147.822841 \nL 235.903125 147.822841 \nL 235.903125 9.222841 \nL 40.603125 9.222841 \nz\n\" style=\"fill: #ffffff\"/>\n   </g>\n   <g id=\"matplotlib.axis_1\">\n    <g id=\"xtick_1\">\n     <g id=\"line2d_1\">\n      <path d=\"M 40.603125 147.822841 \nL 40.603125 9.222841 \n\" clip-path=\"url(#pd64e0cc0c2)\" style=\"fill: none; stroke: #b0b0b0; stroke-width: 0.8; stroke-linecap: square\"/>\n     </g>\n     <g id=\"line2d_2\">\n      <defs>\n       <path id=\"mc17cedf110\" d=\"M 0 0 \nL 0 3.5 \n\" style=\"stroke: #000000; stroke-width: 0.8\"/>\n      </defs>\n      <g>\n       <use xlink:href=\"#mc17cedf110\" x=\"40.603125\" y=\"147.822841\" style=\"stroke: #000000; stroke-width: 0.8\"/>\n      </g>\n     </g>\n     <g id=\"text_1\">\n      <!-- 1 -->\n      <g transform=\"translate(37.421875 162.421279) scale(0.1 -0.1)\">\n       <defs>\n        <path id=\"DejaVuSans-31\" d=\"M 794 531 \nL 1825 531 \nL 1825 4091 \nL 703 3866 \nL 703 4441 \nL 1819 4666 \nL 2450 4666 \nL 2450 531 \nL 3481 531 \nL 3481 0 \nL 794 0 \nL 794 531 \nz\n\" transform=\"scale(0.015625)\"/>\n       </defs>\n       <use xlink:href=\"#DejaVuSans-31\"/>\n      </g>\n     </g>\n    </g>\n    <g id=\"xtick_2\">\n     <g id=\"line2d_3\">\n      <path d=\"M 89.428125 147.822841 \nL 89.428125 9.222841 \n\" clip-path=\"url(#pd64e0cc0c2)\" style=\"fill: none; stroke: #b0b0b0; stroke-width: 0.8; stroke-linecap: square\"/>\n     </g>\n     <g id=\"line2d_4\">\n      <g>\n       <use xlink:href=\"#mc17cedf110\" x=\"89.428125\" y=\"147.822841\" style=\"stroke: #000000; stroke-width: 0.8\"/>\n      </g>\n     </g>\n     <g id=\"text_2\">\n      <!-- 2 -->\n      <g transform=\"translate(86.246875 162.421279) scale(0.1 -0.1)\">\n       <defs>\n        <path id=\"DejaVuSans-32\" d=\"M 1228 531 \nL 3431 531 \nL 3431 0 \nL 469 0 \nL 469 531 \nQ 828 903 1448 1529 \nQ 2069 2156 2228 2338 \nQ 2531 2678 2651 2914 \nQ 2772 3150 2772 3378 \nQ 2772 3750 2511 3984 \nQ 2250 4219 1831 4219 \nQ 1534 4219 1204 4116 \nQ 875 4013 500 3803 \nL 500 4441 \nQ 881 4594 1212 4672 \nQ 1544 4750 1819 4750 \nQ 2544 4750 2975 4387 \nQ 3406 4025 3406 3419 \nQ 3406 3131 3298 2873 \nQ 3191 2616 2906 2266 \nQ 2828 2175 2409 1742 \nQ 1991 1309 1228 531 \nz\n\" transform=\"scale(0.015625)\"/>\n       </defs>\n       <use xlink:href=\"#DejaVuSans-32\"/>\n      </g>\n     </g>\n    </g>\n    <g id=\"xtick_3\">\n     <g id=\"line2d_5\">\n      <path d=\"M 138.253125 147.822841 \nL 138.253125 9.222841 \n\" clip-path=\"url(#pd64e0cc0c2)\" style=\"fill: none; stroke: #b0b0b0; stroke-width: 0.8; stroke-linecap: square\"/>\n     </g>\n     <g id=\"line2d_6\">\n      <g>\n       <use xlink:href=\"#mc17cedf110\" x=\"138.253125\" y=\"147.822841\" style=\"stroke: #000000; stroke-width: 0.8\"/>\n      </g>\n     </g>\n     <g id=\"text_3\">\n      <!-- 3 -->\n      <g transform=\"translate(135.071875 162.421279) scale(0.1 -0.1)\">\n       <defs>\n        <path id=\"DejaVuSans-33\" d=\"M 2597 2516 \nQ 3050 2419 3304 2112 \nQ 3559 1806 3559 1356 \nQ 3559 666 3084 287 \nQ 2609 -91 1734 -91 \nQ 1441 -91 1130 -33 \nQ 819 25 488 141 \nL 488 750 \nQ 750 597 1062 519 \nQ 1375 441 1716 441 \nQ 2309 441 2620 675 \nQ 2931 909 2931 1356 \nQ 2931 1769 2642 2001 \nQ 2353 2234 1838 2234 \nL 1294 2234 \nL 1294 2753 \nL 1863 2753 \nQ 2328 2753 2575 2939 \nQ 2822 3125 2822 3475 \nQ 2822 3834 2567 4026 \nQ 2313 4219 1838 4219 \nQ 1578 4219 1281 4162 \nQ 984 4106 628 3988 \nL 628 4550 \nQ 988 4650 1302 4700 \nQ 1616 4750 1894 4750 \nQ 2613 4750 3031 4423 \nQ 3450 4097 3450 3541 \nQ 3450 3153 3228 2886 \nQ 3006 2619 2597 2516 \nz\n\" transform=\"scale(0.015625)\"/>\n       </defs>\n       <use xlink:href=\"#DejaVuSans-33\"/>\n      </g>\n     </g>\n    </g>\n    <g id=\"xtick_4\">\n     <g id=\"line2d_7\">\n      <path d=\"M 187.078125 147.822841 \nL 187.078125 9.222841 \n\" clip-path=\"url(#pd64e0cc0c2)\" style=\"fill: none; stroke: #b0b0b0; stroke-width: 0.8; stroke-linecap: square\"/>\n     </g>\n     <g id=\"line2d_8\">\n      <g>\n       <use xlink:href=\"#mc17cedf110\" x=\"187.078125\" y=\"147.822841\" style=\"stroke: #000000; stroke-width: 0.8\"/>\n      </g>\n     </g>\n     <g id=\"text_4\">\n      <!-- 4 -->\n      <g transform=\"translate(183.896875 162.421279) scale(0.1 -0.1)\">\n       <defs>\n        <path id=\"DejaVuSans-34\" d=\"M 2419 4116 \nL 825 1625 \nL 2419 1625 \nL 2419 4116 \nz\nM 2253 4666 \nL 3047 4666 \nL 3047 1625 \nL 3713 1625 \nL 3713 1100 \nL 3047 1100 \nL 3047 0 \nL 2419 0 \nL 2419 1100 \nL 313 1100 \nL 313 1709 \nL 2253 4666 \nz\n\" transform=\"scale(0.015625)\"/>\n       </defs>\n       <use xlink:href=\"#DejaVuSans-34\"/>\n      </g>\n     </g>\n    </g>\n    <g id=\"xtick_5\">\n     <g id=\"line2d_9\">\n      <path d=\"M 235.903125 147.822841 \nL 235.903125 9.222841 \n\" clip-path=\"url(#pd64e0cc0c2)\" style=\"fill: none; stroke: #b0b0b0; stroke-width: 0.8; stroke-linecap: square\"/>\n     </g>\n     <g id=\"line2d_10\">\n      <g>\n       <use xlink:href=\"#mc17cedf110\" x=\"235.903125\" y=\"147.822841\" style=\"stroke: #000000; stroke-width: 0.8\"/>\n      </g>\n     </g>\n     <g id=\"text_5\">\n      <!-- 5 -->\n      <g transform=\"translate(232.721875 162.421279) scale(0.1 -0.1)\">\n       <defs>\n        <path id=\"DejaVuSans-35\" d=\"M 691 4666 \nL 3169 4666 \nL 3169 4134 \nL 1269 4134 \nL 1269 2991 \nQ 1406 3038 1543 3061 \nQ 1681 3084 1819 3084 \nQ 2600 3084 3056 2656 \nQ 3513 2228 3513 1497 \nQ 3513 744 3044 326 \nQ 2575 -91 1722 -91 \nQ 1428 -91 1123 -41 \nQ 819 9 494 109 \nL 494 744 \nQ 775 591 1075 516 \nQ 1375 441 1709 441 \nQ 2250 441 2565 725 \nQ 2881 1009 2881 1497 \nQ 2881 1984 2565 2268 \nQ 2250 2553 1709 2553 \nQ 1456 2553 1204 2497 \nQ 953 2441 691 2322 \nL 691 4666 \nz\n\" transform=\"scale(0.015625)\"/>\n       </defs>\n       <use xlink:href=\"#DejaVuSans-35\"/>\n      </g>\n     </g>\n    </g>\n    <g id=\"text_6\">\n     <!-- epoch -->\n     <g transform=\"translate(123.025 176.099404) scale(0.1 -0.1)\">\n      <defs>\n       <path id=\"DejaVuSans-65\" d=\"M 3597 1894 \nL 3597 1613 \nL 953 1613 \nQ 991 1019 1311 708 \nQ 1631 397 2203 397 \nQ 2534 397 2845 478 \nQ 3156 559 3463 722 \nL 3463 178 \nQ 3153 47 2828 -22 \nQ 2503 -91 2169 -91 \nQ 1331 -91 842 396 \nQ 353 884 353 1716 \nQ 353 2575 817 3079 \nQ 1281 3584 2069 3584 \nQ 2775 3584 3186 3129 \nQ 3597 2675 3597 1894 \nz\nM 3022 2063 \nQ 3016 2534 2758 2815 \nQ 2500 3097 2075 3097 \nQ 1594 3097 1305 2825 \nQ 1016 2553 972 2059 \nL 3022 2063 \nz\n\" transform=\"scale(0.015625)\"/>\n       <path id=\"DejaVuSans-70\" d=\"M 1159 525 \nL 1159 -1331 \nL 581 -1331 \nL 581 3500 \nL 1159 3500 \nL 1159 2969 \nQ 1341 3281 1617 3432 \nQ 1894 3584 2278 3584 \nQ 2916 3584 3314 3078 \nQ 3713 2572 3713 1747 \nQ 3713 922 3314 415 \nQ 2916 -91 2278 -91 \nQ 1894 -91 1617 61 \nQ 1341 213 1159 525 \nz\nM 3116 1747 \nQ 3116 2381 2855 2742 \nQ 2594 3103 2138 3103 \nQ 1681 3103 1420 2742 \nQ 1159 2381 1159 1747 \nQ 1159 1113 1420 752 \nQ 1681 391 2138 391 \nQ 2594 391 2855 752 \nQ 3116 1113 3116 1747 \nz\n\" transform=\"scale(0.015625)\"/>\n       <path id=\"DejaVuSans-6f\" d=\"M 1959 3097 \nQ 1497 3097 1228 2736 \nQ 959 2375 959 1747 \nQ 959 1119 1226 758 \nQ 1494 397 1959 397 \nQ 2419 397 2687 759 \nQ 2956 1122 2956 1747 \nQ 2956 2369 2687 2733 \nQ 2419 3097 1959 3097 \nz\nM 1959 3584 \nQ 2709 3584 3137 3096 \nQ 3566 2609 3566 1747 \nQ 3566 888 3137 398 \nQ 2709 -91 1959 -91 \nQ 1206 -91 779 398 \nQ 353 888 353 1747 \nQ 353 2609 779 3096 \nQ 1206 3584 1959 3584 \nz\n\" transform=\"scale(0.015625)\"/>\n       <path id=\"DejaVuSans-63\" d=\"M 3122 3366 \nL 3122 2828 \nQ 2878 2963 2633 3030 \nQ 2388 3097 2138 3097 \nQ 1578 3097 1268 2742 \nQ 959 2388 959 1747 \nQ 959 1106 1268 751 \nQ 1578 397 2138 397 \nQ 2388 397 2633 464 \nQ 2878 531 3122 666 \nL 3122 134 \nQ 2881 22 2623 -34 \nQ 2366 -91 2075 -91 \nQ 1284 -91 818 406 \nQ 353 903 353 1747 \nQ 353 2603 823 3093 \nQ 1294 3584 2113 3584 \nQ 2378 3584 2631 3529 \nQ 2884 3475 3122 3366 \nz\n\" transform=\"scale(0.015625)\"/>\n       <path id=\"DejaVuSans-68\" d=\"M 3513 2113 \nL 3513 0 \nL 2938 0 \nL 2938 2094 \nQ 2938 2591 2744 2837 \nQ 2550 3084 2163 3084 \nQ 1697 3084 1428 2787 \nQ 1159 2491 1159 1978 \nL 1159 0 \nL 581 0 \nL 581 4863 \nL 1159 4863 \nL 1159 2956 \nQ 1366 3272 1645 3428 \nQ 1925 3584 2291 3584 \nQ 2894 3584 3203 3211 \nQ 3513 2838 3513 2113 \nz\n\" transform=\"scale(0.015625)\"/>\n      </defs>\n      <use xlink:href=\"#DejaVuSans-65\"/>\n      <use xlink:href=\"#DejaVuSans-70\" transform=\"translate(61.523438 0)\"/>\n      <use xlink:href=\"#DejaVuSans-6f\" transform=\"translate(125 0)\"/>\n      <use xlink:href=\"#DejaVuSans-63\" transform=\"translate(186.181641 0)\"/>\n      <use xlink:href=\"#DejaVuSans-68\" transform=\"translate(241.162109 0)\"/>\n     </g>\n    </g>\n   </g>\n   <g id=\"matplotlib.axis_2\">\n    <g id=\"ytick_1\">\n     <g id=\"line2d_11\">\n      <path d=\"M 40.603125 136.379279 \nL 235.903125 136.379279 \n\" clip-path=\"url(#pd64e0cc0c2)\" style=\"fill: none; stroke: #b0b0b0; stroke-width: 0.8; stroke-linecap: square\"/>\n     </g>\n     <g id=\"line2d_12\">\n      <defs>\n       <path id=\"mf79136401f\" d=\"M 0 0 \nL -3.5 0 \n\" style=\"stroke: #000000; stroke-width: 0.8\"/>\n      </defs>\n      <g>\n       <use xlink:href=\"#mf79136401f\" x=\"40.603125\" y=\"136.379279\" style=\"stroke: #000000; stroke-width: 0.8\"/>\n      </g>\n     </g>\n     <g id=\"text_7\">\n      <!-- 20 -->\n      <g transform=\"translate(20.878125 140.178498) scale(0.1 -0.1)\">\n       <defs>\n        <path id=\"DejaVuSans-30\" d=\"M 2034 4250 \nQ 1547 4250 1301 3770 \nQ 1056 3291 1056 2328 \nQ 1056 1369 1301 889 \nQ 1547 409 2034 409 \nQ 2525 409 2770 889 \nQ 3016 1369 3016 2328 \nQ 3016 3291 2770 3770 \nQ 2525 4250 2034 4250 \nz\nM 2034 4750 \nQ 2819 4750 3233 4129 \nQ 3647 3509 3647 2328 \nQ 3647 1150 3233 529 \nQ 2819 -91 2034 -91 \nQ 1250 -91 836 529 \nQ 422 1150 422 2328 \nQ 422 3509 836 4129 \nQ 1250 4750 2034 4750 \nz\n\" transform=\"scale(0.015625)\"/>\n       </defs>\n       <use xlink:href=\"#DejaVuSans-32\"/>\n       <use xlink:href=\"#DejaVuSans-30\" transform=\"translate(63.623047 0)\"/>\n      </g>\n     </g>\n    </g>\n    <g id=\"ytick_2\">\n     <g id=\"line2d_13\">\n      <path d=\"M 40.603125 94.585926 \nL 235.903125 94.585926 \n\" clip-path=\"url(#pd64e0cc0c2)\" style=\"fill: none; stroke: #b0b0b0; stroke-width: 0.8; stroke-linecap: square\"/>\n     </g>\n     <g id=\"line2d_14\">\n      <g>\n       <use xlink:href=\"#mf79136401f\" x=\"40.603125\" y=\"94.585926\" style=\"stroke: #000000; stroke-width: 0.8\"/>\n      </g>\n     </g>\n     <g id=\"text_8\">\n      <!-- 30 -->\n      <g transform=\"translate(20.878125 98.385144) scale(0.1 -0.1)\">\n       <use xlink:href=\"#DejaVuSans-33\"/>\n       <use xlink:href=\"#DejaVuSans-30\" transform=\"translate(63.623047 0)\"/>\n      </g>\n     </g>\n    </g>\n    <g id=\"ytick_3\">\n     <g id=\"line2d_15\">\n      <path d=\"M 40.603125 52.792572 \nL 235.903125 52.792572 \n\" clip-path=\"url(#pd64e0cc0c2)\" style=\"fill: none; stroke: #b0b0b0; stroke-width: 0.8; stroke-linecap: square\"/>\n     </g>\n     <g id=\"line2d_16\">\n      <g>\n       <use xlink:href=\"#mf79136401f\" x=\"40.603125\" y=\"52.792572\" style=\"stroke: #000000; stroke-width: 0.8\"/>\n      </g>\n     </g>\n     <g id=\"text_9\">\n      <!-- 40 -->\n      <g transform=\"translate(20.878125 56.591791) scale(0.1 -0.1)\">\n       <use xlink:href=\"#DejaVuSans-34\"/>\n       <use xlink:href=\"#DejaVuSans-30\" transform=\"translate(63.623047 0)\"/>\n      </g>\n     </g>\n    </g>\n    <g id=\"ytick_4\">\n     <g id=\"line2d_17\">\n      <path d=\"M 40.603125 10.999219 \nL 235.903125 10.999219 \n\" clip-path=\"url(#pd64e0cc0c2)\" style=\"fill: none; stroke: #b0b0b0; stroke-width: 0.8; stroke-linecap: square\"/>\n     </g>\n     <g id=\"line2d_18\">\n      <g>\n       <use xlink:href=\"#mf79136401f\" x=\"40.603125\" y=\"10.999219\" style=\"stroke: #000000; stroke-width: 0.8\"/>\n      </g>\n     </g>\n     <g id=\"text_10\">\n      <!-- 50 -->\n      <g transform=\"translate(20.878125 14.798438) scale(0.1 -0.1)\">\n       <use xlink:href=\"#DejaVuSans-35\"/>\n       <use xlink:href=\"#DejaVuSans-30\" transform=\"translate(63.623047 0)\"/>\n      </g>\n     </g>\n    </g>\n    <g id=\"text_11\">\n     <!-- loss -->\n     <g transform=\"translate(14.798437 88.180654) rotate(-90) scale(0.1 -0.1)\">\n      <defs>\n       <path id=\"DejaVuSans-6c\" d=\"M 603 4863 \nL 1178 4863 \nL 1178 0 \nL 603 0 \nL 603 4863 \nz\n\" transform=\"scale(0.015625)\"/>\n       <path id=\"DejaVuSans-73\" d=\"M 2834 3397 \nL 2834 2853 \nQ 2591 2978 2328 3040 \nQ 2066 3103 1784 3103 \nQ 1356 3103 1142 2972 \nQ 928 2841 928 2578 \nQ 928 2378 1081 2264 \nQ 1234 2150 1697 2047 \nL 1894 2003 \nQ 2506 1872 2764 1633 \nQ 3022 1394 3022 966 \nQ 3022 478 2636 193 \nQ 2250 -91 1575 -91 \nQ 1294 -91 989 -36 \nQ 684 19 347 128 \nL 347 722 \nQ 666 556 975 473 \nQ 1284 391 1588 391 \nQ 1994 391 2212 530 \nQ 2431 669 2431 922 \nQ 2431 1156 2273 1281 \nQ 2116 1406 1581 1522 \nL 1381 1569 \nQ 847 1681 609 1914 \nQ 372 2147 372 2553 \nQ 372 3047 722 3315 \nQ 1072 3584 1716 3584 \nQ 2034 3584 2315 3537 \nQ 2597 3491 2834 3397 \nz\n\" transform=\"scale(0.015625)\"/>\n      </defs>\n      <use xlink:href=\"#DejaVuSans-6c\"/>\n      <use xlink:href=\"#DejaVuSans-6f\" transform=\"translate(27.783203 0)\"/>\n      <use xlink:href=\"#DejaVuSans-73\" transform=\"translate(88.964844 0)\"/>\n      <use xlink:href=\"#DejaVuSans-73\" transform=\"translate(141.064453 0)\"/>\n     </g>\n    </g>\n   </g>\n   <g id=\"line2d_19\">\n    <path d=\"M 40.603125 15.522841 \nL 89.428125 88.206422 \nL 138.253125 140.657484 \nL 187.078125 141.081844 \nL 235.903125 141.522841 \n\" clip-path=\"url(#pd64e0cc0c2)\" style=\"fill: none; stroke: #1f77b4; stroke-width: 1.5; stroke-linecap: square\"/>\n   </g>\n   <g id=\"patch_3\">\n    <path d=\"M 40.603125 147.822841 \nL 40.603125 9.222841 \n\" style=\"fill: none; stroke: #000000; stroke-width: 0.8; stroke-linejoin: miter; stroke-linecap: square\"/>\n   </g>\n   <g id=\"patch_4\">\n    <path d=\"M 235.903125 147.822841 \nL 235.903125 9.222841 \n\" style=\"fill: none; stroke: #000000; stroke-width: 0.8; stroke-linejoin: miter; stroke-linecap: square\"/>\n   </g>\n   <g id=\"patch_5\">\n    <path d=\"M 40.603125 147.822841 \nL 235.903125 147.822841 \n\" style=\"fill: none; stroke: #000000; stroke-width: 0.8; stroke-linejoin: miter; stroke-linecap: square\"/>\n   </g>\n   <g id=\"patch_6\">\n    <path d=\"M 40.603125 9.222841 \nL 235.903125 9.222841 \n\" style=\"fill: none; stroke: #000000; stroke-width: 0.8; stroke-linejoin: miter; stroke-linecap: square\"/>\n   </g>\n  </g>\n </g>\n <defs>\n  <clipPath id=\"pd64e0cc0c2\">\n   <rect x=\"40.603125\" y=\"9.222841\" width=\"195.3\" height=\"138.6\"/>\n  </clipPath>\n </defs>\n</svg>\n"
          },
          "metadata": {}
        }
      ],
      "source": [
        "net = NWKernelRegression()\n",
        "loss = nn.MSELoss(reduction='none')\n",
        "trainer = torch.optim.SGD(net.parameters(), lr=0.5)\n",
        "animator = d2l.Animator(xlabel='epoch', ylabel='loss', xlim=[1, 5])\n",
        "\n",
        "for epoch in range(5):\n",
        "    trainer.zero_grad()\n",
        "    l = loss(net(x_train, keys, values), y_train)  #net的参数:query,key,value\n",
        "    l.sum().backward()\n",
        "    trainer.step()\n",
        "    print(f'epoch {epoch + 1}, loss {float(l.sum()):.6f}')\n",
        "    animator.add(epoch + 1, float(l.sum()))"
      ]
    },
    {
      "cell_type": "markdown",
      "id": "bcd73f8a",
      "metadata": {
        "origin_pos": 56,
        "id": "bcd73f8a"
      },
      "source": [
        "如下所示，训练完带参数的注意力汇聚模型后可以发现：\n",
        "在尝试拟合带噪声的训练数据时，\n",
        "[**预测结果绘制**]的线不如之前非参数模型的平滑。\n"
      ]
    },
    {
      "cell_type": "code",
      "execution_count": 35,
      "id": "79e57e0d",
      "metadata": {
        "execution": {
          "iopub.execute_input": "2023-08-18T07:07:18.054215Z",
          "iopub.status.busy": "2023-08-18T07:07:18.053635Z",
          "iopub.status.idle": "2023-08-18T07:07:18.224763Z",
          "shell.execute_reply": "2023-08-18T07:07:18.223767Z"
        },
        "origin_pos": 58,
        "tab": [
          "pytorch"
        ],
        "id": "79e57e0d",
        "outputId": "8497479b-4b31-430d-f375-5298776e8e06",
        "colab": {
          "base_uri": "https://localhost:8080/",
          "height": 270
        }
      },
      "outputs": [
        {
          "output_type": "display_data",
          "data": {
            "text/plain": [
              "<Figure size 350x250 with 1 Axes>"
            ],
            "image/svg+xml": "<?xml version=\"1.0\" encoding=\"utf-8\" standalone=\"no\"?>\n<!DOCTYPE svg PUBLIC \"-//W3C//DTD SVG 1.1//EN\"\n  \"http://www.w3.org/Graphics/SVG/1.1/DTD/svg11.dtd\">\n<svg xmlns:xlink=\"http://www.w3.org/1999/xlink\" width=\"248.301563pt\" height=\"187.155469pt\" viewBox=\"0 0 248.301563 187.155469\" xmlns=\"http://www.w3.org/2000/svg\" version=\"1.1\">\n <metadata>\n  <rdf:RDF xmlns:dc=\"http://purl.org/dc/elements/1.1/\" xmlns:cc=\"http://creativecommons.org/ns#\" xmlns:rdf=\"http://www.w3.org/1999/02/22-rdf-syntax-ns#\">\n   <cc:Work>\n    <dc:type rdf:resource=\"http://purl.org/dc/dcmitype/StillImage\"/>\n    <dc:date>2025-10-14T02:14:07.918761</dc:date>\n    <dc:format>image/svg+xml</dc:format>\n    <dc:creator>\n     <cc:Agent>\n      <dc:title>Matplotlib v3.10.0, https://matplotlib.org/</dc:title>\n     </cc:Agent>\n    </dc:creator>\n   </cc:Work>\n  </rdf:RDF>\n </metadata>\n <defs>\n  <style type=\"text/css\">*{stroke-linejoin: round; stroke-linecap: butt}</style>\n </defs>\n <g id=\"figure_1\">\n  <g id=\"patch_1\">\n   <path d=\"M 0 187.155469 \nL 248.301563 187.155469 \nL 248.301563 0 \nL 0 0 \nz\n\" style=\"fill: #ffffff\"/>\n  </g>\n  <g id=\"axes_1\">\n   <g id=\"patch_2\">\n    <path d=\"M 42.620312 149.599219 \nL 237.920313 149.599219 \nL 237.920313 10.999219 \nL 42.620312 10.999219 \nz\n\" style=\"fill: #ffffff\"/>\n   </g>\n   <g id=\"matplotlib.axis_1\">\n    <g id=\"xtick_1\">\n     <g id=\"line2d_1\">\n      <path d=\"M 42.620312 149.599219 \nL 42.620312 10.999219 \n\" clip-path=\"url(#pac4f925f0d)\" style=\"fill: none; stroke: #b0b0b0; stroke-width: 0.8; stroke-linecap: square\"/>\n     </g>\n     <g id=\"line2d_2\">\n      <defs>\n       <path id=\"md0d09e7931\" d=\"M 0 0 \nL 0 3.5 \n\" style=\"stroke: #000000; stroke-width: 0.8\"/>\n      </defs>\n      <g>\n       <use xlink:href=\"#md0d09e7931\" x=\"42.620312\" y=\"149.599219\" style=\"stroke: #000000; stroke-width: 0.8\"/>\n      </g>\n     </g>\n     <g id=\"text_1\">\n      <!-- 0 -->\n      <g transform=\"translate(39.439062 164.197656) scale(0.1 -0.1)\">\n       <defs>\n        <path id=\"DejaVuSans-30\" d=\"M 2034 4250 \nQ 1547 4250 1301 3770 \nQ 1056 3291 1056 2328 \nQ 1056 1369 1301 889 \nQ 1547 409 2034 409 \nQ 2525 409 2770 889 \nQ 3016 1369 3016 2328 \nQ 3016 3291 2770 3770 \nQ 2525 4250 2034 4250 \nz\nM 2034 4750 \nQ 2819 4750 3233 4129 \nQ 3647 3509 3647 2328 \nQ 3647 1150 3233 529 \nQ 2819 -91 2034 -91 \nQ 1250 -91 836 529 \nQ 422 1150 422 2328 \nQ 422 3509 836 4129 \nQ 1250 4750 2034 4750 \nz\n\" transform=\"scale(0.015625)\"/>\n       </defs>\n       <use xlink:href=\"#DejaVuSans-30\"/>\n      </g>\n     </g>\n    </g>\n    <g id=\"xtick_2\">\n     <g id=\"line2d_3\">\n      <path d=\"M 81.680312 149.599219 \nL 81.680312 10.999219 \n\" clip-path=\"url(#pac4f925f0d)\" style=\"fill: none; stroke: #b0b0b0; stroke-width: 0.8; stroke-linecap: square\"/>\n     </g>\n     <g id=\"line2d_4\">\n      <g>\n       <use xlink:href=\"#md0d09e7931\" x=\"81.680312\" y=\"149.599219\" style=\"stroke: #000000; stroke-width: 0.8\"/>\n      </g>\n     </g>\n     <g id=\"text_2\">\n      <!-- 1 -->\n      <g transform=\"translate(78.499062 164.197656) scale(0.1 -0.1)\">\n       <defs>\n        <path id=\"DejaVuSans-31\" d=\"M 794 531 \nL 1825 531 \nL 1825 4091 \nL 703 3866 \nL 703 4441 \nL 1819 4666 \nL 2450 4666 \nL 2450 531 \nL 3481 531 \nL 3481 0 \nL 794 0 \nL 794 531 \nz\n\" transform=\"scale(0.015625)\"/>\n       </defs>\n       <use xlink:href=\"#DejaVuSans-31\"/>\n      </g>\n     </g>\n    </g>\n    <g id=\"xtick_3\">\n     <g id=\"line2d_5\">\n      <path d=\"M 120.740313 149.599219 \nL 120.740313 10.999219 \n\" clip-path=\"url(#pac4f925f0d)\" style=\"fill: none; stroke: #b0b0b0; stroke-width: 0.8; stroke-linecap: square\"/>\n     </g>\n     <g id=\"line2d_6\">\n      <g>\n       <use xlink:href=\"#md0d09e7931\" x=\"120.740313\" y=\"149.599219\" style=\"stroke: #000000; stroke-width: 0.8\"/>\n      </g>\n     </g>\n     <g id=\"text_3\">\n      <!-- 2 -->\n      <g transform=\"translate(117.559062 164.197656) scale(0.1 -0.1)\">\n       <defs>\n        <path id=\"DejaVuSans-32\" d=\"M 1228 531 \nL 3431 531 \nL 3431 0 \nL 469 0 \nL 469 531 \nQ 828 903 1448 1529 \nQ 2069 2156 2228 2338 \nQ 2531 2678 2651 2914 \nQ 2772 3150 2772 3378 \nQ 2772 3750 2511 3984 \nQ 2250 4219 1831 4219 \nQ 1534 4219 1204 4116 \nQ 875 4013 500 3803 \nL 500 4441 \nQ 881 4594 1212 4672 \nQ 1544 4750 1819 4750 \nQ 2544 4750 2975 4387 \nQ 3406 4025 3406 3419 \nQ 3406 3131 3298 2873 \nQ 3191 2616 2906 2266 \nQ 2828 2175 2409 1742 \nQ 1991 1309 1228 531 \nz\n\" transform=\"scale(0.015625)\"/>\n       </defs>\n       <use xlink:href=\"#DejaVuSans-32\"/>\n      </g>\n     </g>\n    </g>\n    <g id=\"xtick_4\">\n     <g id=\"line2d_7\">\n      <path d=\"M 159.800313 149.599219 \nL 159.800313 10.999219 \n\" clip-path=\"url(#pac4f925f0d)\" style=\"fill: none; stroke: #b0b0b0; stroke-width: 0.8; stroke-linecap: square\"/>\n     </g>\n     <g id=\"line2d_8\">\n      <g>\n       <use xlink:href=\"#md0d09e7931\" x=\"159.800313\" y=\"149.599219\" style=\"stroke: #000000; stroke-width: 0.8\"/>\n      </g>\n     </g>\n     <g id=\"text_4\">\n      <!-- 3 -->\n      <g transform=\"translate(156.619063 164.197656) scale(0.1 -0.1)\">\n       <defs>\n        <path id=\"DejaVuSans-33\" d=\"M 2597 2516 \nQ 3050 2419 3304 2112 \nQ 3559 1806 3559 1356 \nQ 3559 666 3084 287 \nQ 2609 -91 1734 -91 \nQ 1441 -91 1130 -33 \nQ 819 25 488 141 \nL 488 750 \nQ 750 597 1062 519 \nQ 1375 441 1716 441 \nQ 2309 441 2620 675 \nQ 2931 909 2931 1356 \nQ 2931 1769 2642 2001 \nQ 2353 2234 1838 2234 \nL 1294 2234 \nL 1294 2753 \nL 1863 2753 \nQ 2328 2753 2575 2939 \nQ 2822 3125 2822 3475 \nQ 2822 3834 2567 4026 \nQ 2313 4219 1838 4219 \nQ 1578 4219 1281 4162 \nQ 984 4106 628 3988 \nL 628 4550 \nQ 988 4650 1302 4700 \nQ 1616 4750 1894 4750 \nQ 2613 4750 3031 4423 \nQ 3450 4097 3450 3541 \nQ 3450 3153 3228 2886 \nQ 3006 2619 2597 2516 \nz\n\" transform=\"scale(0.015625)\"/>\n       </defs>\n       <use xlink:href=\"#DejaVuSans-33\"/>\n      </g>\n     </g>\n    </g>\n    <g id=\"xtick_5\">\n     <g id=\"line2d_9\">\n      <path d=\"M 198.860313 149.599219 \nL 198.860313 10.999219 \n\" clip-path=\"url(#pac4f925f0d)\" style=\"fill: none; stroke: #b0b0b0; stroke-width: 0.8; stroke-linecap: square\"/>\n     </g>\n     <g id=\"line2d_10\">\n      <g>\n       <use xlink:href=\"#md0d09e7931\" x=\"198.860313\" y=\"149.599219\" style=\"stroke: #000000; stroke-width: 0.8\"/>\n      </g>\n     </g>\n     <g id=\"text_5\">\n      <!-- 4 -->\n      <g transform=\"translate(195.679063 164.197656) scale(0.1 -0.1)\">\n       <defs>\n        <path id=\"DejaVuSans-34\" d=\"M 2419 4116 \nL 825 1625 \nL 2419 1625 \nL 2419 4116 \nz\nM 2253 4666 \nL 3047 4666 \nL 3047 1625 \nL 3713 1625 \nL 3713 1100 \nL 3047 1100 \nL 3047 0 \nL 2419 0 \nL 2419 1100 \nL 313 1100 \nL 313 1709 \nL 2253 4666 \nz\n\" transform=\"scale(0.015625)\"/>\n       </defs>\n       <use xlink:href=\"#DejaVuSans-34\"/>\n      </g>\n     </g>\n    </g>\n    <g id=\"xtick_6\">\n     <g id=\"line2d_11\">\n      <path d=\"M 237.920313 149.599219 \nL 237.920313 10.999219 \n\" clip-path=\"url(#pac4f925f0d)\" style=\"fill: none; stroke: #b0b0b0; stroke-width: 0.8; stroke-linecap: square\"/>\n     </g>\n     <g id=\"line2d_12\">\n      <g>\n       <use xlink:href=\"#md0d09e7931\" x=\"237.920313\" y=\"149.599219\" style=\"stroke: #000000; stroke-width: 0.8\"/>\n      </g>\n     </g>\n     <g id=\"text_6\">\n      <!-- 5 -->\n      <g transform=\"translate(234.739063 164.197656) scale(0.1 -0.1)\">\n       <defs>\n        <path id=\"DejaVuSans-35\" d=\"M 691 4666 \nL 3169 4666 \nL 3169 4134 \nL 1269 4134 \nL 1269 2991 \nQ 1406 3038 1543 3061 \nQ 1681 3084 1819 3084 \nQ 2600 3084 3056 2656 \nQ 3513 2228 3513 1497 \nQ 3513 744 3044 326 \nQ 2575 -91 1722 -91 \nQ 1428 -91 1123 -41 \nQ 819 9 494 109 \nL 494 744 \nQ 775 591 1075 516 \nQ 1375 441 1709 441 \nQ 2250 441 2565 725 \nQ 2881 1009 2881 1497 \nQ 2881 1984 2565 2268 \nQ 2250 2553 1709 2553 \nQ 1456 2553 1204 2497 \nQ 953 2441 691 2322 \nL 691 4666 \nz\n\" transform=\"scale(0.015625)\"/>\n       </defs>\n       <use xlink:href=\"#DejaVuSans-35\"/>\n      </g>\n     </g>\n    </g>\n    <g id=\"text_7\">\n     <!-- x -->\n     <g transform=\"translate(137.310937 177.875781) scale(0.1 -0.1)\">\n      <defs>\n       <path id=\"DejaVuSans-78\" d=\"M 3513 3500 \nL 2247 1797 \nL 3578 0 \nL 2900 0 \nL 1881 1375 \nL 863 0 \nL 184 0 \nL 1544 1831 \nL 300 3500 \nL 978 3500 \nL 1906 2253 \nL 2834 3500 \nL 3513 3500 \nz\n\" transform=\"scale(0.015625)\"/>\n      </defs>\n      <use xlink:href=\"#DejaVuSans-78\"/>\n     </g>\n    </g>\n   </g>\n   <g id=\"matplotlib.axis_2\">\n    <g id=\"ytick_1\">\n     <g id=\"line2d_13\">\n      <path d=\"M 42.620312 149.599219 \nL 237.920313 149.599219 \n\" clip-path=\"url(#pac4f925f0d)\" style=\"fill: none; stroke: #b0b0b0; stroke-width: 0.8; stroke-linecap: square\"/>\n     </g>\n     <g id=\"line2d_14\">\n      <defs>\n       <path id=\"m5004a47d81\" d=\"M 0 0 \nL -3.5 0 \n\" style=\"stroke: #000000; stroke-width: 0.8\"/>\n      </defs>\n      <g>\n       <use xlink:href=\"#m5004a47d81\" x=\"42.620312\" y=\"149.599219\" style=\"stroke: #000000; stroke-width: 0.8\"/>\n      </g>\n     </g>\n     <g id=\"text_8\">\n      <!-- −1 -->\n      <g transform=\"translate(20.878125 153.398437) scale(0.1 -0.1)\">\n       <defs>\n        <path id=\"DejaVuSans-2212\" d=\"M 678 2272 \nL 4684 2272 \nL 4684 1741 \nL 678 1741 \nL 678 2272 \nz\n\" transform=\"scale(0.015625)\"/>\n       </defs>\n       <use xlink:href=\"#DejaVuSans-2212\"/>\n       <use xlink:href=\"#DejaVuSans-31\" transform=\"translate(83.789062 0)\"/>\n      </g>\n     </g>\n    </g>\n    <g id=\"ytick_2\">\n     <g id=\"line2d_15\">\n      <path d=\"M 42.620312 126.499219 \nL 237.920313 126.499219 \n\" clip-path=\"url(#pac4f925f0d)\" style=\"fill: none; stroke: #b0b0b0; stroke-width: 0.8; stroke-linecap: square\"/>\n     </g>\n     <g id=\"line2d_16\">\n      <g>\n       <use xlink:href=\"#m5004a47d81\" x=\"42.620312\" y=\"126.499219\" style=\"stroke: #000000; stroke-width: 0.8\"/>\n      </g>\n     </g>\n     <g id=\"text_9\">\n      <!-- 0 -->\n      <g transform=\"translate(29.257812 130.298437) scale(0.1 -0.1)\">\n       <use xlink:href=\"#DejaVuSans-30\"/>\n      </g>\n     </g>\n    </g>\n    <g id=\"ytick_3\">\n     <g id=\"line2d_17\">\n      <path d=\"M 42.620312 103.399219 \nL 237.920313 103.399219 \n\" clip-path=\"url(#pac4f925f0d)\" style=\"fill: none; stroke: #b0b0b0; stroke-width: 0.8; stroke-linecap: square\"/>\n     </g>\n     <g id=\"line2d_18\">\n      <g>\n       <use xlink:href=\"#m5004a47d81\" x=\"42.620312\" y=\"103.399219\" style=\"stroke: #000000; stroke-width: 0.8\"/>\n      </g>\n     </g>\n     <g id=\"text_10\">\n      <!-- 1 -->\n      <g transform=\"translate(29.257812 107.198437) scale(0.1 -0.1)\">\n       <use xlink:href=\"#DejaVuSans-31\"/>\n      </g>\n     </g>\n    </g>\n    <g id=\"ytick_4\">\n     <g id=\"line2d_19\">\n      <path d=\"M 42.620312 80.299219 \nL 237.920313 80.299219 \n\" clip-path=\"url(#pac4f925f0d)\" style=\"fill: none; stroke: #b0b0b0; stroke-width: 0.8; stroke-linecap: square\"/>\n     </g>\n     <g id=\"line2d_20\">\n      <g>\n       <use xlink:href=\"#m5004a47d81\" x=\"42.620312\" y=\"80.299219\" style=\"stroke: #000000; stroke-width: 0.8\"/>\n      </g>\n     </g>\n     <g id=\"text_11\">\n      <!-- 2 -->\n      <g transform=\"translate(29.257812 84.098437) scale(0.1 -0.1)\">\n       <use xlink:href=\"#DejaVuSans-32\"/>\n      </g>\n     </g>\n    </g>\n    <g id=\"ytick_5\">\n     <g id=\"line2d_21\">\n      <path d=\"M 42.620312 57.199219 \nL 237.920313 57.199219 \n\" clip-path=\"url(#pac4f925f0d)\" style=\"fill: none; stroke: #b0b0b0; stroke-width: 0.8; stroke-linecap: square\"/>\n     </g>\n     <g id=\"line2d_22\">\n      <g>\n       <use xlink:href=\"#m5004a47d81\" x=\"42.620312\" y=\"57.199219\" style=\"stroke: #000000; stroke-width: 0.8\"/>\n      </g>\n     </g>\n     <g id=\"text_12\">\n      <!-- 3 -->\n      <g transform=\"translate(29.257812 60.998437) scale(0.1 -0.1)\">\n       <use xlink:href=\"#DejaVuSans-33\"/>\n      </g>\n     </g>\n    </g>\n    <g id=\"ytick_6\">\n     <g id=\"line2d_23\">\n      <path d=\"M 42.620312 34.099219 \nL 237.920313 34.099219 \n\" clip-path=\"url(#pac4f925f0d)\" style=\"fill: none; stroke: #b0b0b0; stroke-width: 0.8; stroke-linecap: square\"/>\n     </g>\n     <g id=\"line2d_24\">\n      <g>\n       <use xlink:href=\"#m5004a47d81\" x=\"42.620312\" y=\"34.099219\" style=\"stroke: #000000; stroke-width: 0.8\"/>\n      </g>\n     </g>\n     <g id=\"text_13\">\n      <!-- 4 -->\n      <g transform=\"translate(29.257812 37.898438) scale(0.1 -0.1)\">\n       <use xlink:href=\"#DejaVuSans-34\"/>\n      </g>\n     </g>\n    </g>\n    <g id=\"ytick_7\">\n     <g id=\"line2d_25\">\n      <path d=\"M 42.620312 10.999219 \nL 237.920313 10.999219 \n\" clip-path=\"url(#pac4f925f0d)\" style=\"fill: none; stroke: #b0b0b0; stroke-width: 0.8; stroke-linecap: square\"/>\n     </g>\n     <g id=\"line2d_26\">\n      <g>\n       <use xlink:href=\"#m5004a47d81\" x=\"42.620312\" y=\"10.999219\" style=\"stroke: #000000; stroke-width: 0.8\"/>\n      </g>\n     </g>\n     <g id=\"text_14\">\n      <!-- 5 -->\n      <g transform=\"translate(29.257812 14.798437) scale(0.1 -0.1)\">\n       <use xlink:href=\"#DejaVuSans-35\"/>\n      </g>\n     </g>\n    </g>\n    <g id=\"text_15\">\n     <!-- y -->\n     <g transform=\"translate(14.798437 83.258594) rotate(-90) scale(0.1 -0.1)\">\n      <defs>\n       <path id=\"DejaVuSans-79\" d=\"M 2059 -325 \nQ 1816 -950 1584 -1140 \nQ 1353 -1331 966 -1331 \nL 506 -1331 \nL 506 -850 \nL 844 -850 \nQ 1081 -850 1212 -737 \nQ 1344 -625 1503 -206 \nL 1606 56 \nL 191 3500 \nL 800 3500 \nL 1894 763 \nL 2988 3500 \nL 3597 3500 \nL 2059 -325 \nz\n\" transform=\"scale(0.015625)\"/>\n      </defs>\n      <use xlink:href=\"#DejaVuSans-79\"/>\n     </g>\n    </g>\n   </g>\n   <g id=\"line2d_27\">\n    <path d=\"M 42.620312 126.499219 \nL 46.526313 118.225812 \nL 50.432313 110.946345 \nL 54.338313 104.029425 \nL 58.244313 97.4097 \nL 62.150312 91.082293 \nL 66.056313 85.061866 \nL 69.962312 79.370737 \nL 73.868313 74.033949 \nL 77.774314 69.076775 \nL 81.680312 64.523261 \nL 85.586313 60.395214 \nL 89.492314 56.711598 \nL 93.398311 53.487961 \nL 97.304312 50.736132 \nL 101.210313 48.46391 \nL 105.116313 46.674891 \nL 109.022314 45.368338 \nL 112.928315 44.539111 \nL 116.834312 44.177706 \nL 120.740313 44.270242 \nL 124.646309 44.798618 \nL 128.552314 45.740654 \nL 132.458311 47.070245 \nL 136.364316 48.757689 \nL 140.270312 50.76986 \nL 144.176318 53.070611 \nL 148.082314 55.621064 \nL 151.98832 58.380042 \nL 155.894316 61.304393 \nL 159.800313 64.349483 \nL 163.706318 67.469619 \nL 167.612314 70.618454 \nL 171.518311 73.749494 \nL 175.424316 76.816549 \nL 179.330312 79.774142 \nL 183.236318 82.578044 \nL 187.142314 85.185605 \nL 191.048311 87.556281 \nL 194.954316 89.651973 \nL 198.860313 91.437389 \nL 202.766309 92.880457 \nL 206.672305 93.952601 \nL 210.57832 94.629017 \nL 214.484316 94.888934 \nL 218.390312 94.715829 \nL 222.296309 94.097555 \nL 226.202305 93.026506 \nL 230.10832 91.499643 \nL 234.014316 89.518571 \n\" clip-path=\"url(#pac4f925f0d)\" style=\"fill: none; stroke: #1f77b4; stroke-width: 1.5; stroke-linecap: square\"/>\n   </g>\n   <g id=\"line2d_28\">\n    <path d=\"M 42.620312 105.889802 \nL 46.526313 106.390155 \nL 50.432313 104.976817 \nL 54.338313 100.674638 \nL 58.244313 95.479126 \nL 62.150312 96.64851 \nL 66.056313 97.739658 \nL 69.962312 80.121405 \nL 73.868313 71.730561 \nL 77.774314 68.424961 \nL 81.680312 58.354691 \nL 85.586313 49.931882 \nL 89.492314 52.141721 \nL 93.398311 55.352823 \nL 97.304312 46.679942 \nL 101.210313 39.97619 \nL 105.116313 43.514133 \nL 109.022314 47.617781 \nL 112.928315 44.294502 \nL 116.834312 39.089658 \nL 120.740313 56.029041 \nL 124.646309 57.876637 \nL 128.552314 51.318316 \nL 132.458311 52.79256 \nL 136.364316 50.831235 \nL 140.270312 41.531102 \nL 144.176318 46.582856 \nL 148.082314 73.755431 \nL 151.98832 78.021599 \nL 155.894316 65.472363 \nL 159.800313 60.834148 \nL 163.706318 59.822399 \nL 167.612314 64.693948 \nL 171.518311 73.531305 \nL 175.424316 73.454073 \nL 179.330312 71.37263 \nL 183.236318 76.932283 \nL 187.142314 86.914719 \nL 191.048311 94.235112 \nL 194.954316 90.56865 \nL 198.860313 113.597603 \nL 202.766309 114.31896 \nL 206.672305 95.906379 \nL 210.57832 93.696093 \nL 214.484316 91.654191 \nL 218.390312 92.408896 \nL 222.296309 89.350637 \nL 226.202305 87.556003 \nL 230.10832 84.513721 \nL 234.014316 84.326049 \n\" clip-path=\"url(#pac4f925f0d)\" style=\"fill: none; stroke-dasharray: 5.55,2.4; stroke-dashoffset: 0; stroke: #bf00bf; stroke-width: 1.5\"/>\n   </g>\n   <g id=\"line2d_29\">\n    <defs>\n     <path id=\"mb6bfc9e906\" d=\"M 0 3 \nC 0.795609 3 1.55874 2.683901 2.12132 2.12132 \nC 2.683901 1.55874 3 0.795609 3 0 \nC 3 -0.795609 2.683901 -1.55874 2.12132 -2.12132 \nC 1.55874 -2.683901 0.795609 -3 0 -3 \nC -0.795609 -3 -1.55874 -2.683901 -2.12132 -2.12132 \nC -2.683901 -1.55874 -3 -0.795609 -3 0 \nC -3 0.795609 -2.683901 1.55874 -2.12132 2.12132 \nC -1.55874 2.683901 -0.795609 3 0 3 \nz\n\" style=\"stroke: #ff7f0e; stroke-opacity: 0.5\"/>\n    </defs>\n    <g clip-path=\"url(#pac4f925f0d)\">\n     <use xlink:href=\"#mb6bfc9e906\" x=\"47.345692\" y=\"100.001815\" style=\"fill: #ff7f0e; fill-opacity: 0.5; stroke: #ff7f0e; stroke-opacity: 0.5\"/>\n     <use xlink:href=\"#mb6bfc9e906\" x=\"48.195062\" y=\"118.918406\" style=\"fill: #ff7f0e; fill-opacity: 0.5; stroke: #ff7f0e; stroke-opacity: 0.5\"/>\n     <use xlink:href=\"#mb6bfc9e906\" x=\"49.76523\" y=\"97.532302\" style=\"fill: #ff7f0e; fill-opacity: 0.5; stroke: #ff7f0e; stroke-opacity: 0.5\"/>\n     <use xlink:href=\"#mb6bfc9e906\" x=\"60.119663\" y=\"95.246914\" style=\"fill: #ff7f0e; fill-opacity: 0.5; stroke: #ff7f0e; stroke-opacity: 0.5\"/>\n     <use xlink:href=\"#mb6bfc9e906\" x=\"64.611762\" y=\"98.260128\" style=\"fill: #ff7f0e; fill-opacity: 0.5; stroke: #ff7f0e; stroke-opacity: 0.5\"/>\n     <use xlink:href=\"#mb6bfc9e906\" x=\"74.13318\" y=\"84.414609\" style=\"fill: #ff7f0e; fill-opacity: 0.5; stroke: #ff7f0e; stroke-opacity: 0.5\"/>\n     <use xlink:href=\"#mb6bfc9e906\" x=\"74.99759\" y=\"58.223123\" style=\"fill: #ff7f0e; fill-opacity: 0.5; stroke: #ff7f0e; stroke-opacity: 0.5\"/>\n     <use xlink:href=\"#mb6bfc9e906\" x=\"79.309827\" y=\"68.813618\" style=\"fill: #ff7f0e; fill-opacity: 0.5; stroke: #ff7f0e; stroke-opacity: 0.5\"/>\n     <use xlink:href=\"#mb6bfc9e906\" x=\"84.893635\" y=\"53.165262\" style=\"fill: #ff7f0e; fill-opacity: 0.5; stroke: #ff7f0e; stroke-opacity: 0.5\"/>\n     <use xlink:href=\"#mb6bfc9e906\" x=\"86.031136\" y=\"41.877329\" style=\"fill: #ff7f0e; fill-opacity: 0.5; stroke: #ff7f0e; stroke-opacity: 0.5\"/>\n     <use xlink:href=\"#mb6bfc9e906\" x=\"86.962362\" y=\"53.109714\" style=\"fill: #ff7f0e; fill-opacity: 0.5; stroke: #ff7f0e; stroke-opacity: 0.5\"/>\n     <use xlink:href=\"#mb6bfc9e906\" x=\"90.713829\" y=\"56.033629\" style=\"fill: #ff7f0e; fill-opacity: 0.5; stroke: #ff7f0e; stroke-opacity: 0.5\"/>\n     <use xlink:href=\"#mb6bfc9e906\" x=\"104.179486\" y=\"37.832429\" style=\"fill: #ff7f0e; fill-opacity: 0.5; stroke: #ff7f0e; stroke-opacity: 0.5\"/>\n     <use xlink:href=\"#mb6bfc9e906\" x=\"104.566878\" y=\"41.364992\" style=\"fill: #ff7f0e; fill-opacity: 0.5; stroke: #ff7f0e; stroke-opacity: 0.5\"/>\n     <use xlink:href=\"#mb6bfc9e906\" x=\"108.352522\" y=\"55.786112\" style=\"fill: #ff7f0e; fill-opacity: 0.5; stroke: #ff7f0e; stroke-opacity: 0.5\"/>\n     <use xlink:href=\"#mb6bfc9e906\" x=\"109.187027\" y=\"43.835973\" style=\"fill: #ff7f0e; fill-opacity: 0.5; stroke: #ff7f0e; stroke-opacity: 0.5\"/>\n     <use xlink:href=\"#mb6bfc9e906\" x=\"109.760657\" y=\"42.966156\" style=\"fill: #ff7f0e; fill-opacity: 0.5; stroke: #ff7f0e; stroke-opacity: 0.5\"/>\n     <use xlink:href=\"#mb6bfc9e906\" x=\"109.919917\" y=\"52.31492\" style=\"fill: #ff7f0e; fill-opacity: 0.5; stroke: #ff7f0e; stroke-opacity: 0.5\"/>\n     <use xlink:href=\"#mb6bfc9e906\" x=\"115.177516\" y=\"35.806766\" style=\"fill: #ff7f0e; fill-opacity: 0.5; stroke: #ff7f0e; stroke-opacity: 0.5\"/>\n     <use xlink:href=\"#mb6bfc9e906\" x=\"122.478291\" y=\"58.761192\" style=\"fill: #ff7f0e; fill-opacity: 0.5; stroke: #ff7f0e; stroke-opacity: 0.5\"/>\n     <use xlink:href=\"#mb6bfc9e906\" x=\"130.765507\" y=\"49.248207\" style=\"fill: #ff7f0e; fill-opacity: 0.5; stroke: #ff7f0e; stroke-opacity: 0.5\"/>\n     <use xlink:href=\"#mb6bfc9e906\" x=\"133.249623\" y=\"55.857473\" style=\"fill: #ff7f0e; fill-opacity: 0.5; stroke: #ff7f0e; stroke-opacity: 0.5\"/>\n     <use xlink:href=\"#mb6bfc9e906\" x=\"141.300243\" y=\"42.451164\" style=\"fill: #ff7f0e; fill-opacity: 0.5; stroke: #ff7f0e; stroke-opacity: 0.5\"/>\n     <use xlink:href=\"#mb6bfc9e906\" x=\"142.332576\" y=\"39.443028\" style=\"fill: #ff7f0e; fill-opacity: 0.5; stroke: #ff7f0e; stroke-opacity: 0.5\"/>\n     <use xlink:href=\"#mb6bfc9e906\" x=\"148.574701\" y=\"78.174668\" style=\"fill: #ff7f0e; fill-opacity: 0.5; stroke: #ff7f0e; stroke-opacity: 0.5\"/>\n     <use xlink:href=\"#mb6bfc9e906\" x=\"162.325507\" y=\"64.226727\" style=\"fill: #ff7f0e; fill-opacity: 0.5; stroke: #ff7f0e; stroke-opacity: 0.5\"/>\n     <use xlink:href=\"#mb6bfc9e906\" x=\"163.264788\" y=\"56.729404\" style=\"fill: #ff7f0e; fill-opacity: 0.5; stroke: #ff7f0e; stroke-opacity: 0.5\"/>\n     <use xlink:href=\"#mb6bfc9e906\" x=\"164.574777\" y=\"58.697118\" style=\"fill: #ff7f0e; fill-opacity: 0.5; stroke: #ff7f0e; stroke-opacity: 0.5\"/>\n     <use xlink:href=\"#mb6bfc9e906\" x=\"171.327802\" y=\"66.666399\" style=\"fill: #ff7f0e; fill-opacity: 0.5; stroke: #ff7f0e; stroke-opacity: 0.5\"/>\n     <use xlink:href=\"#mb6bfc9e906\" x=\"171.900734\" y=\"80.760822\" style=\"fill: #ff7f0e; fill-opacity: 0.5; stroke: #ff7f0e; stroke-opacity: 0.5\"/>\n     <use xlink:href=\"#mb6bfc9e906\" x=\"175.046559\" y=\"74.398202\" style=\"fill: #ff7f0e; fill-opacity: 0.5; stroke: #ff7f0e; stroke-opacity: 0.5\"/>\n     <use xlink:href=\"#mb6bfc9e906\" x=\"180.350567\" y=\"58.345923\" style=\"fill: #ff7f0e; fill-opacity: 0.5; stroke: #ff7f0e; stroke-opacity: 0.5\"/>\n     <use xlink:href=\"#mb6bfc9e906\" x=\"181.830567\" y=\"87.696917\" style=\"fill: #ff7f0e; fill-opacity: 0.5; stroke: #ff7f0e; stroke-opacity: 0.5\"/>\n     <use xlink:href=\"#mb6bfc9e906\" x=\"185.101498\" y=\"71.282131\" style=\"fill: #ff7f0e; fill-opacity: 0.5; stroke: #ff7f0e; stroke-opacity: 0.5\"/>\n     <use xlink:href=\"#mb6bfc9e906\" x=\"185.270932\" y=\"80.136925\" style=\"fill: #ff7f0e; fill-opacity: 0.5; stroke: #ff7f0e; stroke-opacity: 0.5\"/>\n     <use xlink:href=\"#mb6bfc9e906\" x=\"189.09453\" y=\"111.018059\" style=\"fill: #ff7f0e; fill-opacity: 0.5; stroke: #ff7f0e; stroke-opacity: 0.5\"/>\n     <use xlink:href=\"#mb6bfc9e906\" x=\"192.145301\" y=\"83.696463\" style=\"fill: #ff7f0e; fill-opacity: 0.5; stroke: #ff7f0e; stroke-opacity: 0.5\"/>\n     <use xlink:href=\"#mb6bfc9e906\" x=\"200.75316\" y=\"115.121732\" style=\"fill: #ff7f0e; fill-opacity: 0.5; stroke: #ff7f0e; stroke-opacity: 0.5\"/>\n     <use xlink:href=\"#mb6bfc9e906\" x=\"209.996038\" y=\"91.782983\" style=\"fill: #ff7f0e; fill-opacity: 0.5; stroke: #ff7f0e; stroke-opacity: 0.5\"/>\n     <use xlink:href=\"#mb6bfc9e906\" x=\"212.098625\" y=\"100.001446\" style=\"fill: #ff7f0e; fill-opacity: 0.5; stroke: #ff7f0e; stroke-opacity: 0.5\"/>\n     <use xlink:href=\"#mb6bfc9e906\" x=\"212.125204\" y=\"97.216074\" style=\"fill: #ff7f0e; fill-opacity: 0.5; stroke: #ff7f0e; stroke-opacity: 0.5\"/>\n     <use xlink:href=\"#mb6bfc9e906\" x=\"214.060014\" y=\"82.168352\" style=\"fill: #ff7f0e; fill-opacity: 0.5; stroke: #ff7f0e; stroke-opacity: 0.5\"/>\n     <use xlink:href=\"#mb6bfc9e906\" x=\"215.19582\" y=\"86.912527\" style=\"fill: #ff7f0e; fill-opacity: 0.5; stroke: #ff7f0e; stroke-opacity: 0.5\"/>\n     <use xlink:href=\"#mb6bfc9e906\" x=\"215.935447\" y=\"84.496632\" style=\"fill: #ff7f0e; fill-opacity: 0.5; stroke: #ff7f0e; stroke-opacity: 0.5\"/>\n     <use xlink:href=\"#mb6bfc9e906\" x=\"216.490033\" y=\"106.066023\" style=\"fill: #ff7f0e; fill-opacity: 0.5; stroke: #ff7f0e; stroke-opacity: 0.5\"/>\n     <use xlink:href=\"#mb6bfc9e906\" x=\"224.101525\" y=\"78.730356\" style=\"fill: #ff7f0e; fill-opacity: 0.5; stroke: #ff7f0e; stroke-opacity: 0.5\"/>\n     <use xlink:href=\"#mb6bfc9e906\" x=\"224.708168\" y=\"101.064583\" style=\"fill: #ff7f0e; fill-opacity: 0.5; stroke: #ff7f0e; stroke-opacity: 0.5\"/>\n     <use xlink:href=\"#mb6bfc9e906\" x=\"229.083279\" y=\"79.539331\" style=\"fill: #ff7f0e; fill-opacity: 0.5; stroke: #ff7f0e; stroke-opacity: 0.5\"/>\n     <use xlink:href=\"#mb6bfc9e906\" x=\"229.838608\" y=\"89.284572\" style=\"fill: #ff7f0e; fill-opacity: 0.5; stroke: #ff7f0e; stroke-opacity: 0.5\"/>\n     <use xlink:href=\"#mb6bfc9e906\" x=\"230.400681\" y=\"82.765262\" style=\"fill: #ff7f0e; fill-opacity: 0.5; stroke: #ff7f0e; stroke-opacity: 0.5\"/>\n    </g>\n   </g>\n   <g id=\"patch_3\">\n    <path d=\"M 42.620312 149.599219 \nL 42.620312 10.999219 \n\" style=\"fill: none; stroke: #000000; stroke-width: 0.8; stroke-linejoin: miter; stroke-linecap: square\"/>\n   </g>\n   <g id=\"patch_4\">\n    <path d=\"M 237.920313 149.599219 \nL 237.920313 10.999219 \n\" style=\"fill: none; stroke: #000000; stroke-width: 0.8; stroke-linejoin: miter; stroke-linecap: square\"/>\n   </g>\n   <g id=\"patch_5\">\n    <path d=\"M 42.620312 149.599219 \nL 237.920313 149.599219 \n\" style=\"fill: none; stroke: #000000; stroke-width: 0.8; stroke-linejoin: miter; stroke-linecap: square\"/>\n   </g>\n   <g id=\"patch_6\">\n    <path d=\"M 42.620312 10.999219 \nL 237.920313 10.999219 \n\" style=\"fill: none; stroke: #000000; stroke-width: 0.8; stroke-linejoin: miter; stroke-linecap: square\"/>\n   </g>\n   <g id=\"legend_1\">\n    <g id=\"patch_7\">\n     <path d=\"M 173.58125 48.355469 \nL 230.920313 48.355469 \nQ 232.920313 48.355469 232.920313 46.355469 \nL 232.920313 17.999219 \nQ 232.920313 15.999219 230.920313 15.999219 \nL 173.58125 15.999219 \nQ 171.58125 15.999219 171.58125 17.999219 \nL 171.58125 46.355469 \nQ 171.58125 48.355469 173.58125 48.355469 \nz\n\" style=\"fill: #ffffff; opacity: 0.8; stroke: #cccccc; stroke-linejoin: miter\"/>\n    </g>\n    <g id=\"line2d_30\">\n     <path d=\"M 175.58125 24.097656 \nL 185.58125 24.097656 \nL 195.58125 24.097656 \n\" style=\"fill: none; stroke: #1f77b4; stroke-width: 1.5; stroke-linecap: square\"/>\n    </g>\n    <g id=\"text_16\">\n     <!-- Truth -->\n     <g transform=\"translate(203.58125 27.597656) scale(0.1 -0.1)\">\n      <defs>\n       <path id=\"DejaVuSans-54\" d=\"M -19 4666 \nL 3928 4666 \nL 3928 4134 \nL 2272 4134 \nL 2272 0 \nL 1638 0 \nL 1638 4134 \nL -19 4134 \nL -19 4666 \nz\n\" transform=\"scale(0.015625)\"/>\n       <path id=\"DejaVuSans-72\" d=\"M 2631 2963 \nQ 2534 3019 2420 3045 \nQ 2306 3072 2169 3072 \nQ 1681 3072 1420 2755 \nQ 1159 2438 1159 1844 \nL 1159 0 \nL 581 0 \nL 581 3500 \nL 1159 3500 \nL 1159 2956 \nQ 1341 3275 1631 3429 \nQ 1922 3584 2338 3584 \nQ 2397 3584 2469 3576 \nQ 2541 3569 2628 3553 \nL 2631 2963 \nz\n\" transform=\"scale(0.015625)\"/>\n       <path id=\"DejaVuSans-75\" d=\"M 544 1381 \nL 544 3500 \nL 1119 3500 \nL 1119 1403 \nQ 1119 906 1312 657 \nQ 1506 409 1894 409 \nQ 2359 409 2629 706 \nQ 2900 1003 2900 1516 \nL 2900 3500 \nL 3475 3500 \nL 3475 0 \nL 2900 0 \nL 2900 538 \nQ 2691 219 2414 64 \nQ 2138 -91 1772 -91 \nQ 1169 -91 856 284 \nQ 544 659 544 1381 \nz\nM 1991 3584 \nL 1991 3584 \nz\n\" transform=\"scale(0.015625)\"/>\n       <path id=\"DejaVuSans-74\" d=\"M 1172 4494 \nL 1172 3500 \nL 2356 3500 \nL 2356 3053 \nL 1172 3053 \nL 1172 1153 \nQ 1172 725 1289 603 \nQ 1406 481 1766 481 \nL 2356 481 \nL 2356 0 \nL 1766 0 \nQ 1100 0 847 248 \nQ 594 497 594 1153 \nL 594 3053 \nL 172 3053 \nL 172 3500 \nL 594 3500 \nL 594 4494 \nL 1172 4494 \nz\n\" transform=\"scale(0.015625)\"/>\n       <path id=\"DejaVuSans-68\" d=\"M 3513 2113 \nL 3513 0 \nL 2938 0 \nL 2938 2094 \nQ 2938 2591 2744 2837 \nQ 2550 3084 2163 3084 \nQ 1697 3084 1428 2787 \nQ 1159 2491 1159 1978 \nL 1159 0 \nL 581 0 \nL 581 4863 \nL 1159 4863 \nL 1159 2956 \nQ 1366 3272 1645 3428 \nQ 1925 3584 2291 3584 \nQ 2894 3584 3203 3211 \nQ 3513 2838 3513 2113 \nz\n\" transform=\"scale(0.015625)\"/>\n      </defs>\n      <use xlink:href=\"#DejaVuSans-54\"/>\n      <use xlink:href=\"#DejaVuSans-72\" transform=\"translate(46.333984 0)\"/>\n      <use xlink:href=\"#DejaVuSans-75\" transform=\"translate(87.447266 0)\"/>\n      <use xlink:href=\"#DejaVuSans-74\" transform=\"translate(150.826172 0)\"/>\n      <use xlink:href=\"#DejaVuSans-68\" transform=\"translate(190.035156 0)\"/>\n     </g>\n    </g>\n    <g id=\"line2d_31\">\n     <path d=\"M 175.58125 38.775781 \nL 185.58125 38.775781 \nL 195.58125 38.775781 \n\" style=\"fill: none; stroke-dasharray: 5.55,2.4; stroke-dashoffset: 0; stroke: #bf00bf; stroke-width: 1.5\"/>\n    </g>\n    <g id=\"text_17\">\n     <!-- Pred -->\n     <g transform=\"translate(203.58125 42.275781) scale(0.1 -0.1)\">\n      <defs>\n       <path id=\"DejaVuSans-50\" d=\"M 1259 4147 \nL 1259 2394 \nL 2053 2394 \nQ 2494 2394 2734 2622 \nQ 2975 2850 2975 3272 \nQ 2975 3691 2734 3919 \nQ 2494 4147 2053 4147 \nL 1259 4147 \nz\nM 628 4666 \nL 2053 4666 \nQ 2838 4666 3239 4311 \nQ 3641 3956 3641 3272 \nQ 3641 2581 3239 2228 \nQ 2838 1875 2053 1875 \nL 1259 1875 \nL 1259 0 \nL 628 0 \nL 628 4666 \nz\n\" transform=\"scale(0.015625)\"/>\n       <path id=\"DejaVuSans-65\" d=\"M 3597 1894 \nL 3597 1613 \nL 953 1613 \nQ 991 1019 1311 708 \nQ 1631 397 2203 397 \nQ 2534 397 2845 478 \nQ 3156 559 3463 722 \nL 3463 178 \nQ 3153 47 2828 -22 \nQ 2503 -91 2169 -91 \nQ 1331 -91 842 396 \nQ 353 884 353 1716 \nQ 353 2575 817 3079 \nQ 1281 3584 2069 3584 \nQ 2775 3584 3186 3129 \nQ 3597 2675 3597 1894 \nz\nM 3022 2063 \nQ 3016 2534 2758 2815 \nQ 2500 3097 2075 3097 \nQ 1594 3097 1305 2825 \nQ 1016 2553 972 2059 \nL 3022 2063 \nz\n\" transform=\"scale(0.015625)\"/>\n       <path id=\"DejaVuSans-64\" d=\"M 2906 2969 \nL 2906 4863 \nL 3481 4863 \nL 3481 0 \nL 2906 0 \nL 2906 525 \nQ 2725 213 2448 61 \nQ 2172 -91 1784 -91 \nQ 1150 -91 751 415 \nQ 353 922 353 1747 \nQ 353 2572 751 3078 \nQ 1150 3584 1784 3584 \nQ 2172 3584 2448 3432 \nQ 2725 3281 2906 2969 \nz\nM 947 1747 \nQ 947 1113 1208 752 \nQ 1469 391 1925 391 \nQ 2381 391 2643 752 \nQ 2906 1113 2906 1747 \nQ 2906 2381 2643 2742 \nQ 2381 3103 1925 3103 \nQ 1469 3103 1208 2742 \nQ 947 2381 947 1747 \nz\n\" transform=\"scale(0.015625)\"/>\n      </defs>\n      <use xlink:href=\"#DejaVuSans-50\"/>\n      <use xlink:href=\"#DejaVuSans-72\" transform=\"translate(58.552734 0)\"/>\n      <use xlink:href=\"#DejaVuSans-65\" transform=\"translate(97.416016 0)\"/>\n      <use xlink:href=\"#DejaVuSans-64\" transform=\"translate(158.939453 0)\"/>\n     </g>\n    </g>\n   </g>\n  </g>\n </g>\n <defs>\n  <clipPath id=\"pac4f925f0d\">\n   <rect x=\"42.620312\" y=\"10.999219\" width=\"195.3\" height=\"138.6\"/>\n  </clipPath>\n </defs>\n</svg>\n"
          },
          "metadata": {}
        }
      ],
      "source": [
        "# keys的形状:(n_test，n_train)，每一行包含着相同的训练输入（例如，相同的键）\n",
        "keys = x_train.repeat((n_test, 1))\n",
        "# value的形状:(n_test，n_train)\n",
        "values = y_train.repeat((n_test, 1))\n",
        "y_hat = net(x_test, keys, values).unsqueeze(1).detach()\n",
        "plot_kernel_reg(y_hat)"
      ]
    },
    {
      "cell_type": "markdown",
      "id": "962bf3fe",
      "metadata": {
        "origin_pos": 61,
        "id": "962bf3fe"
      },
      "source": [
        "为什么新的模型更不平滑了呢？\n",
        "下面看一下输出结果的绘制图：\n",
        "与非参数的注意力汇聚模型相比，\n",
        "带参数的模型加入可学习的参数后，\n",
        "[**曲线在注意力权重较大的区域变得更不平滑**]。\n"
      ]
    },
    {
      "cell_type": "code",
      "execution_count": 36,
      "id": "15949408",
      "metadata": {
        "execution": {
          "iopub.execute_input": "2023-08-18T07:07:18.228629Z",
          "iopub.status.busy": "2023-08-18T07:07:18.227958Z",
          "iopub.status.idle": "2023-08-18T07:07:18.391875Z",
          "shell.execute_reply": "2023-08-18T07:07:18.391062Z"
        },
        "origin_pos": 63,
        "tab": [
          "pytorch"
        ],
        "id": "15949408",
        "outputId": "8cabfe32-7847-46e9-ecdc-d6802f867e6c",
        "colab": {
          "base_uri": "https://localhost:8080/",
          "height": 233
        }
      },
      "outputs": [
        {
          "output_type": "display_data",
          "data": {
            "text/plain": [
              "<Figure size 250x250 with 2 Axes>"
            ],
            "image/svg+xml": "<?xml version=\"1.0\" encoding=\"utf-8\" standalone=\"no\"?>\n<!DOCTYPE svg PUBLIC \"-//W3C//DTD SVG 1.1//EN\"\n  \"http://www.w3.org/Graphics/SVG/1.1/DTD/svg11.dtd\">\n<svg xmlns:xlink=\"http://www.w3.org/1999/xlink\" width=\"199.80175pt\" height=\"159.039469pt\" viewBox=\"0 0 199.80175 159.039469\" xmlns=\"http://www.w3.org/2000/svg\" version=\"1.1\">\n <metadata>\n  <rdf:RDF xmlns:dc=\"http://purl.org/dc/elements/1.1/\" xmlns:cc=\"http://creativecommons.org/ns#\" xmlns:rdf=\"http://www.w3.org/1999/02/22-rdf-syntax-ns#\">\n   <cc:Work>\n    <dc:type rdf:resource=\"http://purl.org/dc/dcmitype/StillImage\"/>\n    <dc:date>2025-10-14T02:14:17.590994</dc:date>\n    <dc:format>image/svg+xml</dc:format>\n    <dc:creator>\n     <cc:Agent>\n      <dc:title>Matplotlib v3.10.0, https://matplotlib.org/</dc:title>\n     </cc:Agent>\n    </dc:creator>\n   </cc:Work>\n  </rdf:RDF>\n </metadata>\n <defs>\n  <style type=\"text/css\">*{stroke-linejoin: round; stroke-linecap: butt}</style>\n </defs>\n <g id=\"figure_1\">\n  <g id=\"patch_1\">\n   <path d=\"M 0 159.039469 \nL 199.80175 159.039469 \nL 199.80175 0 \nL 0 0 \nz\n\" style=\"fill: #ffffff\"/>\n  </g>\n  <g id=\"axes_1\">\n   <g id=\"patch_2\">\n    <path d=\"M 40.603125 121.483219 \nL 152.203125 121.483219 \nL 152.203125 9.883219 \nL 40.603125 9.883219 \nz\n\" style=\"fill: #ffffff\"/>\n   </g>\n   <g clip-path=\"url(#p67863c83dd)\">\n    <image xlink:href=\"data:image/png;base64,\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\" id=\"image761ae648be\" transform=\"scale(1 -1) translate(0 -111.6)\" x=\"40.603125\" y=\"-9.883219\" width=\"111.6\" height=\"111.6\"/>\n   </g>\n   <g id=\"matplotlib.axis_1\">\n    <g id=\"xtick_1\">\n     <g id=\"line2d_1\">\n      <defs>\n       <path id=\"ma63810b26d\" d=\"M 0 0 \nL 0 3.5 \n\" style=\"stroke: #000000; stroke-width: 0.8\"/>\n      </defs>\n      <g>\n       <use xlink:href=\"#ma63810b26d\" x=\"41.719125\" y=\"121.483219\" style=\"stroke: #000000; stroke-width: 0.8\"/>\n      </g>\n     </g>\n     <g id=\"text_1\">\n      <!-- 0 -->\n      <g transform=\"translate(38.537875 136.081656) scale(0.1 -0.1)\">\n       <defs>\n        <path id=\"DejaVuSans-30\" d=\"M 2034 4250 \nQ 1547 4250 1301 3770 \nQ 1056 3291 1056 2328 \nQ 1056 1369 1301 889 \nQ 1547 409 2034 409 \nQ 2525 409 2770 889 \nQ 3016 1369 3016 2328 \nQ 3016 3291 2770 3770 \nQ 2525 4250 2034 4250 \nz\nM 2034 4750 \nQ 2819 4750 3233 4129 \nQ 3647 3509 3647 2328 \nQ 3647 1150 3233 529 \nQ 2819 -91 2034 -91 \nQ 1250 -91 836 529 \nQ 422 1150 422 2328 \nQ 422 3509 836 4129 \nQ 1250 4750 2034 4750 \nz\n\" transform=\"scale(0.015625)\"/>\n       </defs>\n       <use xlink:href=\"#DejaVuSans-30\"/>\n      </g>\n     </g>\n    </g>\n    <g id=\"xtick_2\">\n     <g id=\"line2d_2\">\n      <g>\n       <use xlink:href=\"#ma63810b26d\" x=\"86.359125\" y=\"121.483219\" style=\"stroke: #000000; stroke-width: 0.8\"/>\n      </g>\n     </g>\n     <g id=\"text_2\">\n      <!-- 20 -->\n      <g transform=\"translate(79.996625 136.081656) scale(0.1 -0.1)\">\n       <defs>\n        <path id=\"DejaVuSans-32\" d=\"M 1228 531 \nL 3431 531 \nL 3431 0 \nL 469 0 \nL 469 531 \nQ 828 903 1448 1529 \nQ 2069 2156 2228 2338 \nQ 2531 2678 2651 2914 \nQ 2772 3150 2772 3378 \nQ 2772 3750 2511 3984 \nQ 2250 4219 1831 4219 \nQ 1534 4219 1204 4116 \nQ 875 4013 500 3803 \nL 500 4441 \nQ 881 4594 1212 4672 \nQ 1544 4750 1819 4750 \nQ 2544 4750 2975 4387 \nQ 3406 4025 3406 3419 \nQ 3406 3131 3298 2873 \nQ 3191 2616 2906 2266 \nQ 2828 2175 2409 1742 \nQ 1991 1309 1228 531 \nz\n\" transform=\"scale(0.015625)\"/>\n       </defs>\n       <use xlink:href=\"#DejaVuSans-32\"/>\n       <use xlink:href=\"#DejaVuSans-30\" transform=\"translate(63.623047 0)\"/>\n      </g>\n     </g>\n    </g>\n    <g id=\"xtick_3\">\n     <g id=\"line2d_3\">\n      <g>\n       <use xlink:href=\"#ma63810b26d\" x=\"130.999125\" y=\"121.483219\" style=\"stroke: #000000; stroke-width: 0.8\"/>\n      </g>\n     </g>\n     <g id=\"text_3\">\n      <!-- 40 -->\n      <g transform=\"translate(124.636625 136.081656) scale(0.1 -0.1)\">\n       <defs>\n        <path id=\"DejaVuSans-34\" d=\"M 2419 4116 \nL 825 1625 \nL 2419 1625 \nL 2419 4116 \nz\nM 2253 4666 \nL 3047 4666 \nL 3047 1625 \nL 3713 1625 \nL 3713 1100 \nL 3047 1100 \nL 3047 0 \nL 2419 0 \nL 2419 1100 \nL 313 1100 \nL 313 1709 \nL 2253 4666 \nz\n\" transform=\"scale(0.015625)\"/>\n       </defs>\n       <use xlink:href=\"#DejaVuSans-34\"/>\n       <use xlink:href=\"#DejaVuSans-30\" transform=\"translate(63.623047 0)\"/>\n      </g>\n     </g>\n    </g>\n    <g id=\"text_4\">\n     <!-- Sorted training inputs -->\n     <g transform=\"translate(41.889844 149.759781) scale(0.1 -0.1)\">\n      <defs>\n       <path id=\"DejaVuSans-53\" d=\"M 3425 4513 \nL 3425 3897 \nQ 3066 4069 2747 4153 \nQ 2428 4238 2131 4238 \nQ 1616 4238 1336 4038 \nQ 1056 3838 1056 3469 \nQ 1056 3159 1242 3001 \nQ 1428 2844 1947 2747 \nL 2328 2669 \nQ 3034 2534 3370 2195 \nQ 3706 1856 3706 1288 \nQ 3706 609 3251 259 \nQ 2797 -91 1919 -91 \nQ 1588 -91 1214 -16 \nQ 841 59 441 206 \nL 441 856 \nQ 825 641 1194 531 \nQ 1563 422 1919 422 \nQ 2459 422 2753 634 \nQ 3047 847 3047 1241 \nQ 3047 1584 2836 1778 \nQ 2625 1972 2144 2069 \nL 1759 2144 \nQ 1053 2284 737 2584 \nQ 422 2884 422 3419 \nQ 422 4038 858 4394 \nQ 1294 4750 2059 4750 \nQ 2388 4750 2728 4690 \nQ 3069 4631 3425 4513 \nz\n\" transform=\"scale(0.015625)\"/>\n       <path id=\"DejaVuSans-6f\" d=\"M 1959 3097 \nQ 1497 3097 1228 2736 \nQ 959 2375 959 1747 \nQ 959 1119 1226 758 \nQ 1494 397 1959 397 \nQ 2419 397 2687 759 \nQ 2956 1122 2956 1747 \nQ 2956 2369 2687 2733 \nQ 2419 3097 1959 3097 \nz\nM 1959 3584 \nQ 2709 3584 3137 3096 \nQ 3566 2609 3566 1747 \nQ 3566 888 3137 398 \nQ 2709 -91 1959 -91 \nQ 1206 -91 779 398 \nQ 353 888 353 1747 \nQ 353 2609 779 3096 \nQ 1206 3584 1959 3584 \nz\n\" transform=\"scale(0.015625)\"/>\n       <path id=\"DejaVuSans-72\" d=\"M 2631 2963 \nQ 2534 3019 2420 3045 \nQ 2306 3072 2169 3072 \nQ 1681 3072 1420 2755 \nQ 1159 2438 1159 1844 \nL 1159 0 \nL 581 0 \nL 581 3500 \nL 1159 3500 \nL 1159 2956 \nQ 1341 3275 1631 3429 \nQ 1922 3584 2338 3584 \nQ 2397 3584 2469 3576 \nQ 2541 3569 2628 3553 \nL 2631 2963 \nz\n\" transform=\"scale(0.015625)\"/>\n       <path id=\"DejaVuSans-74\" d=\"M 1172 4494 \nL 1172 3500 \nL 2356 3500 \nL 2356 3053 \nL 1172 3053 \nL 1172 1153 \nQ 1172 725 1289 603 \nQ 1406 481 1766 481 \nL 2356 481 \nL 2356 0 \nL 1766 0 \nQ 1100 0 847 248 \nQ 594 497 594 1153 \nL 594 3053 \nL 172 3053 \nL 172 3500 \nL 594 3500 \nL 594 4494 \nL 1172 4494 \nz\n\" transform=\"scale(0.015625)\"/>\n       <path id=\"DejaVuSans-65\" d=\"M 3597 1894 \nL 3597 1613 \nL 953 1613 \nQ 991 1019 1311 708 \nQ 1631 397 2203 397 \nQ 2534 397 2845 478 \nQ 3156 559 3463 722 \nL 3463 178 \nQ 3153 47 2828 -22 \nQ 2503 -91 2169 -91 \nQ 1331 -91 842 396 \nQ 353 884 353 1716 \nQ 353 2575 817 3079 \nQ 1281 3584 2069 3584 \nQ 2775 3584 3186 3129 \nQ 3597 2675 3597 1894 \nz\nM 3022 2063 \nQ 3016 2534 2758 2815 \nQ 2500 3097 2075 3097 \nQ 1594 3097 1305 2825 \nQ 1016 2553 972 2059 \nL 3022 2063 \nz\n\" transform=\"scale(0.015625)\"/>\n       <path id=\"DejaVuSans-64\" d=\"M 2906 2969 \nL 2906 4863 \nL 3481 4863 \nL 3481 0 \nL 2906 0 \nL 2906 525 \nQ 2725 213 2448 61 \nQ 2172 -91 1784 -91 \nQ 1150 -91 751 415 \nQ 353 922 353 1747 \nQ 353 2572 751 3078 \nQ 1150 3584 1784 3584 \nQ 2172 3584 2448 3432 \nQ 2725 3281 2906 2969 \nz\nM 947 1747 \nQ 947 1113 1208 752 \nQ 1469 391 1925 391 \nQ 2381 391 2643 752 \nQ 2906 1113 2906 1747 \nQ 2906 2381 2643 2742 \nQ 2381 3103 1925 3103 \nQ 1469 3103 1208 2742 \nQ 947 2381 947 1747 \nz\n\" transform=\"scale(0.015625)\"/>\n       <path id=\"DejaVuSans-20\" transform=\"scale(0.015625)\"/>\n       <path id=\"DejaVuSans-61\" d=\"M 2194 1759 \nQ 1497 1759 1228 1600 \nQ 959 1441 959 1056 \nQ 959 750 1161 570 \nQ 1363 391 1709 391 \nQ 2188 391 2477 730 \nQ 2766 1069 2766 1631 \nL 2766 1759 \nL 2194 1759 \nz\nM 3341 1997 \nL 3341 0 \nL 2766 0 \nL 2766 531 \nQ 2569 213 2275 61 \nQ 1981 -91 1556 -91 \nQ 1019 -91 701 211 \nQ 384 513 384 1019 \nQ 384 1609 779 1909 \nQ 1175 2209 1959 2209 \nL 2766 2209 \nL 2766 2266 \nQ 2766 2663 2505 2880 \nQ 2244 3097 1772 3097 \nQ 1472 3097 1187 3025 \nQ 903 2953 641 2809 \nL 641 3341 \nQ 956 3463 1253 3523 \nQ 1550 3584 1831 3584 \nQ 2591 3584 2966 3190 \nQ 3341 2797 3341 1997 \nz\n\" transform=\"scale(0.015625)\"/>\n       <path id=\"DejaVuSans-69\" d=\"M 603 3500 \nL 1178 3500 \nL 1178 0 \nL 603 0 \nL 603 3500 \nz\nM 603 4863 \nL 1178 4863 \nL 1178 4134 \nL 603 4134 \nL 603 4863 \nz\n\" transform=\"scale(0.015625)\"/>\n       <path id=\"DejaVuSans-6e\" d=\"M 3513 2113 \nL 3513 0 \nL 2938 0 \nL 2938 2094 \nQ 2938 2591 2744 2837 \nQ 2550 3084 2163 3084 \nQ 1697 3084 1428 2787 \nQ 1159 2491 1159 1978 \nL 1159 0 \nL 581 0 \nL 581 3500 \nL 1159 3500 \nL 1159 2956 \nQ 1366 3272 1645 3428 \nQ 1925 3584 2291 3584 \nQ 2894 3584 3203 3211 \nQ 3513 2838 3513 2113 \nz\n\" transform=\"scale(0.015625)\"/>\n       <path id=\"DejaVuSans-67\" d=\"M 2906 1791 \nQ 2906 2416 2648 2759 \nQ 2391 3103 1925 3103 \nQ 1463 3103 1205 2759 \nQ 947 2416 947 1791 \nQ 947 1169 1205 825 \nQ 1463 481 1925 481 \nQ 2391 481 2648 825 \nQ 2906 1169 2906 1791 \nz\nM 3481 434 \nQ 3481 -459 3084 -895 \nQ 2688 -1331 1869 -1331 \nQ 1566 -1331 1297 -1286 \nQ 1028 -1241 775 -1147 \nL 775 -588 \nQ 1028 -725 1275 -790 \nQ 1522 -856 1778 -856 \nQ 2344 -856 2625 -561 \nQ 2906 -266 2906 331 \nL 2906 616 \nQ 2728 306 2450 153 \nQ 2172 0 1784 0 \nQ 1141 0 747 490 \nQ 353 981 353 1791 \nQ 353 2603 747 3093 \nQ 1141 3584 1784 3584 \nQ 2172 3584 2450 3431 \nQ 2728 3278 2906 2969 \nL 2906 3500 \nL 3481 3500 \nL 3481 434 \nz\n\" transform=\"scale(0.015625)\"/>\n       <path id=\"DejaVuSans-70\" d=\"M 1159 525 \nL 1159 -1331 \nL 581 -1331 \nL 581 3500 \nL 1159 3500 \nL 1159 2969 \nQ 1341 3281 1617 3432 \nQ 1894 3584 2278 3584 \nQ 2916 3584 3314 3078 \nQ 3713 2572 3713 1747 \nQ 3713 922 3314 415 \nQ 2916 -91 2278 -91 \nQ 1894 -91 1617 61 \nQ 1341 213 1159 525 \nz\nM 3116 1747 \nQ 3116 2381 2855 2742 \nQ 2594 3103 2138 3103 \nQ 1681 3103 1420 2742 \nQ 1159 2381 1159 1747 \nQ 1159 1113 1420 752 \nQ 1681 391 2138 391 \nQ 2594 391 2855 752 \nQ 3116 1113 3116 1747 \nz\n\" transform=\"scale(0.015625)\"/>\n       <path id=\"DejaVuSans-75\" d=\"M 544 1381 \nL 544 3500 \nL 1119 3500 \nL 1119 1403 \nQ 1119 906 1312 657 \nQ 1506 409 1894 409 \nQ 2359 409 2629 706 \nQ 2900 1003 2900 1516 \nL 2900 3500 \nL 3475 3500 \nL 3475 0 \nL 2900 0 \nL 2900 538 \nQ 2691 219 2414 64 \nQ 2138 -91 1772 -91 \nQ 1169 -91 856 284 \nQ 544 659 544 1381 \nz\nM 1991 3584 \nL 1991 3584 \nz\n\" transform=\"scale(0.015625)\"/>\n       <path id=\"DejaVuSans-73\" d=\"M 2834 3397 \nL 2834 2853 \nQ 2591 2978 2328 3040 \nQ 2066 3103 1784 3103 \nQ 1356 3103 1142 2972 \nQ 928 2841 928 2578 \nQ 928 2378 1081 2264 \nQ 1234 2150 1697 2047 \nL 1894 2003 \nQ 2506 1872 2764 1633 \nQ 3022 1394 3022 966 \nQ 3022 478 2636 193 \nQ 2250 -91 1575 -91 \nQ 1294 -91 989 -36 \nQ 684 19 347 128 \nL 347 722 \nQ 666 556 975 473 \nQ 1284 391 1588 391 \nQ 1994 391 2212 530 \nQ 2431 669 2431 922 \nQ 2431 1156 2273 1281 \nQ 2116 1406 1581 1522 \nL 1381 1569 \nQ 847 1681 609 1914 \nQ 372 2147 372 2553 \nQ 372 3047 722 3315 \nQ 1072 3584 1716 3584 \nQ 2034 3584 2315 3537 \nQ 2597 3491 2834 3397 \nz\n\" transform=\"scale(0.015625)\"/>\n      </defs>\n      <use xlink:href=\"#DejaVuSans-53\"/>\n      <use xlink:href=\"#DejaVuSans-6f\" transform=\"translate(63.476562 0)\"/>\n      <use xlink:href=\"#DejaVuSans-72\" transform=\"translate(124.658203 0)\"/>\n      <use xlink:href=\"#DejaVuSans-74\" transform=\"translate(165.771484 0)\"/>\n      <use xlink:href=\"#DejaVuSans-65\" transform=\"translate(204.980469 0)\"/>\n      <use xlink:href=\"#DejaVuSans-64\" transform=\"translate(266.503906 0)\"/>\n      <use xlink:href=\"#DejaVuSans-20\" transform=\"translate(329.980469 0)\"/>\n      <use xlink:href=\"#DejaVuSans-74\" transform=\"translate(361.767578 0)\"/>\n      <use xlink:href=\"#DejaVuSans-72\" transform=\"translate(400.976562 0)\"/>\n      <use xlink:href=\"#DejaVuSans-61\" transform=\"translate(442.089844 0)\"/>\n      <use xlink:href=\"#DejaVuSans-69\" transform=\"translate(503.369141 0)\"/>\n      <use xlink:href=\"#DejaVuSans-6e\" transform=\"translate(531.152344 0)\"/>\n      <use xlink:href=\"#DejaVuSans-69\" transform=\"translate(594.53125 0)\"/>\n      <use xlink:href=\"#DejaVuSans-6e\" transform=\"translate(622.314453 0)\"/>\n      <use xlink:href=\"#DejaVuSans-67\" transform=\"translate(685.693359 0)\"/>\n      <use xlink:href=\"#DejaVuSans-20\" transform=\"translate(749.169922 0)\"/>\n      <use xlink:href=\"#DejaVuSans-69\" transform=\"translate(780.957031 0)\"/>\n      <use xlink:href=\"#DejaVuSans-6e\" transform=\"translate(808.740234 0)\"/>\n      <use xlink:href=\"#DejaVuSans-70\" transform=\"translate(872.119141 0)\"/>\n      <use xlink:href=\"#DejaVuSans-75\" transform=\"translate(935.595703 0)\"/>\n      <use xlink:href=\"#DejaVuSans-74\" transform=\"translate(998.974609 0)\"/>\n      <use xlink:href=\"#DejaVuSans-73\" transform=\"translate(1038.183594 0)\"/>\n     </g>\n    </g>\n   </g>\n   <g id=\"matplotlib.axis_2\">\n    <g id=\"ytick_1\">\n     <g id=\"line2d_4\">\n      <defs>\n       <path id=\"m1c7ffcc9c0\" d=\"M 0 0 \nL -3.5 0 \n\" style=\"stroke: #000000; stroke-width: 0.8\"/>\n      </defs>\n      <g>\n       <use xlink:href=\"#m1c7ffcc9c0\" x=\"40.603125\" y=\"10.999219\" style=\"stroke: #000000; stroke-width: 0.8\"/>\n      </g>\n     </g>\n     <g id=\"text_5\">\n      <!-- 0 -->\n      <g transform=\"translate(27.240625 14.798438) scale(0.1 -0.1)\">\n       <use xlink:href=\"#DejaVuSans-30\"/>\n      </g>\n     </g>\n    </g>\n    <g id=\"ytick_2\">\n     <g id=\"line2d_5\">\n      <g>\n       <use xlink:href=\"#m1c7ffcc9c0\" x=\"40.603125\" y=\"33.319219\" style=\"stroke: #000000; stroke-width: 0.8\"/>\n      </g>\n     </g>\n     <g id=\"text_6\">\n      <!-- 10 -->\n      <g transform=\"translate(20.878125 37.118438) scale(0.1 -0.1)\">\n       <defs>\n        <path id=\"DejaVuSans-31\" d=\"M 794 531 \nL 1825 531 \nL 1825 4091 \nL 703 3866 \nL 703 4441 \nL 1819 4666 \nL 2450 4666 \nL 2450 531 \nL 3481 531 \nL 3481 0 \nL 794 0 \nL 794 531 \nz\n\" transform=\"scale(0.015625)\"/>\n       </defs>\n       <use xlink:href=\"#DejaVuSans-31\"/>\n       <use xlink:href=\"#DejaVuSans-30\" transform=\"translate(63.623047 0)\"/>\n      </g>\n     </g>\n    </g>\n    <g id=\"ytick_3\">\n     <g id=\"line2d_6\">\n      <g>\n       <use xlink:href=\"#m1c7ffcc9c0\" x=\"40.603125\" y=\"55.639219\" style=\"stroke: #000000; stroke-width: 0.8\"/>\n      </g>\n     </g>\n     <g id=\"text_7\">\n      <!-- 20 -->\n      <g transform=\"translate(20.878125 59.438438) scale(0.1 -0.1)\">\n       <use xlink:href=\"#DejaVuSans-32\"/>\n       <use xlink:href=\"#DejaVuSans-30\" transform=\"translate(63.623047 0)\"/>\n      </g>\n     </g>\n    </g>\n    <g id=\"ytick_4\">\n     <g id=\"line2d_7\">\n      <g>\n       <use xlink:href=\"#m1c7ffcc9c0\" x=\"40.603125\" y=\"77.959219\" style=\"stroke: #000000; stroke-width: 0.8\"/>\n      </g>\n     </g>\n     <g id=\"text_8\">\n      <!-- 30 -->\n      <g transform=\"translate(20.878125 81.758438) scale(0.1 -0.1)\">\n       <defs>\n        <path id=\"DejaVuSans-33\" d=\"M 2597 2516 \nQ 3050 2419 3304 2112 \nQ 3559 1806 3559 1356 \nQ 3559 666 3084 287 \nQ 2609 -91 1734 -91 \nQ 1441 -91 1130 -33 \nQ 819 25 488 141 \nL 488 750 \nQ 750 597 1062 519 \nQ 1375 441 1716 441 \nQ 2309 441 2620 675 \nQ 2931 909 2931 1356 \nQ 2931 1769 2642 2001 \nQ 2353 2234 1838 2234 \nL 1294 2234 \nL 1294 2753 \nL 1863 2753 \nQ 2328 2753 2575 2939 \nQ 2822 3125 2822 3475 \nQ 2822 3834 2567 4026 \nQ 2313 4219 1838 4219 \nQ 1578 4219 1281 4162 \nQ 984 4106 628 3988 \nL 628 4550 \nQ 988 4650 1302 4700 \nQ 1616 4750 1894 4750 \nQ 2613 4750 3031 4423 \nQ 3450 4097 3450 3541 \nQ 3450 3153 3228 2886 \nQ 3006 2619 2597 2516 \nz\n\" transform=\"scale(0.015625)\"/>\n       </defs>\n       <use xlink:href=\"#DejaVuSans-33\"/>\n       <use xlink:href=\"#DejaVuSans-30\" transform=\"translate(63.623047 0)\"/>\n      </g>\n     </g>\n    </g>\n    <g id=\"ytick_5\">\n     <g id=\"line2d_8\">\n      <g>\n       <use xlink:href=\"#m1c7ffcc9c0\" x=\"40.603125\" y=\"100.279219\" style=\"stroke: #000000; stroke-width: 0.8\"/>\n      </g>\n     </g>\n     <g id=\"text_9\">\n      <!-- 40 -->\n      <g transform=\"translate(20.878125 104.078438) scale(0.1 -0.1)\">\n       <use xlink:href=\"#DejaVuSans-34\"/>\n       <use xlink:href=\"#DejaVuSans-30\" transform=\"translate(63.623047 0)\"/>\n      </g>\n     </g>\n    </g>\n    <g id=\"text_10\">\n     <!-- Sorted testing inputs -->\n     <g transform=\"translate(14.798438 118.160563) rotate(-90) scale(0.1 -0.1)\">\n      <use xlink:href=\"#DejaVuSans-53\"/>\n      <use xlink:href=\"#DejaVuSans-6f\" transform=\"translate(63.476562 0)\"/>\n      <use xlink:href=\"#DejaVuSans-72\" transform=\"translate(124.658203 0)\"/>\n      <use xlink:href=\"#DejaVuSans-74\" transform=\"translate(165.771484 0)\"/>\n      <use xlink:href=\"#DejaVuSans-65\" transform=\"translate(204.980469 0)\"/>\n      <use xlink:href=\"#DejaVuSans-64\" transform=\"translate(266.503906 0)\"/>\n      <use xlink:href=\"#DejaVuSans-20\" transform=\"translate(329.980469 0)\"/>\n      <use xlink:href=\"#DejaVuSans-74\" transform=\"translate(361.767578 0)\"/>\n      <use xlink:href=\"#DejaVuSans-65\" transform=\"translate(400.976562 0)\"/>\n      <use xlink:href=\"#DejaVuSans-73\" transform=\"translate(462.5 0)\"/>\n      <use xlink:href=\"#DejaVuSans-74\" transform=\"translate(514.599609 0)\"/>\n      <use xlink:href=\"#DejaVuSans-69\" transform=\"translate(553.808594 0)\"/>\n      <use xlink:href=\"#DejaVuSans-6e\" transform=\"translate(581.591797 0)\"/>\n      <use xlink:href=\"#DejaVuSans-67\" transform=\"translate(644.970703 0)\"/>\n      <use xlink:href=\"#DejaVuSans-20\" transform=\"translate(708.447266 0)\"/>\n      <use xlink:href=\"#DejaVuSans-69\" transform=\"translate(740.234375 0)\"/>\n      <use xlink:href=\"#DejaVuSans-6e\" transform=\"translate(768.017578 0)\"/>\n      <use xlink:href=\"#DejaVuSans-70\" transform=\"translate(831.396484 0)\"/>\n      <use xlink:href=\"#DejaVuSans-75\" transform=\"translate(894.873047 0)\"/>\n      <use xlink:href=\"#DejaVuSans-74\" transform=\"translate(958.251953 0)\"/>\n      <use xlink:href=\"#DejaVuSans-73\" transform=\"translate(997.460938 0)\"/>\n     </g>\n    </g>\n   </g>\n   <g id=\"patch_3\">\n    <path d=\"M 40.603125 121.483219 \nL 40.603125 9.883219 \n\" style=\"fill: none; stroke: #000000; stroke-width: 0.8; stroke-linejoin: miter; stroke-linecap: square\"/>\n   </g>\n   <g id=\"patch_4\">\n    <path d=\"M 152.203125 121.483219 \nL 152.203125 9.883219 \n\" style=\"fill: none; stroke: #000000; stroke-width: 0.8; stroke-linejoin: miter; stroke-linecap: square\"/>\n   </g>\n   <g id=\"patch_5\">\n    <path d=\"M 40.603125 121.483219 \nL 152.203125 121.483219 \n\" style=\"fill: none; stroke: #000000; stroke-width: 0.8; stroke-linejoin: miter; stroke-linecap: square\"/>\n   </g>\n   <g id=\"patch_6\">\n    <path d=\"M 40.603125 9.883219 \nL 152.203125 9.883219 \n\" style=\"fill: none; stroke: #000000; stroke-width: 0.8; stroke-linejoin: miter; stroke-linecap: square\"/>\n   </g>\n  </g>\n  <g id=\"axes_2\">\n   <g id=\"patch_7\">\n    <path d=\"M 159.178125 107.263219 \nL 163.336125 107.263219 \nL 163.336125 24.103219 \nL 159.178125 24.103219 \nz\n\" style=\"fill: #ffffff\"/>\n   </g>\n   <image xlink:href=\"data:image/png;base64,\niVBORw0KGgoAAAANSUhEUgAAAAYAAABzCAYAAAC7I3M6AAAAv0lEQVR4nNWVQQrDQAwDXfD/v9pLT1l71Q/sBBQMpTmukMbWhuSlz1txeDK0T+d3wrYFmyFm9BTjZsFjVY/g6GgSyKFaLsOHt82gKPlT+QvaJUbVWNS/waldjqKXGh24oB9lO/RL+AOBGGoSFjLsqDm4mj6W/lSFDDcK4ZvGbXTQ36BJQAa0Hlk2nAWCF081xsBKWiQcjyNykwM6jCx0nM8jO2wH74GbQ5S/IMIXMbASnAodFwllR/mOy76Puam+t3oOUronbv0AAAAASUVORK5CYII=\" id=\"imageb52cd790de\" transform=\"scale(1 -1) translate(0 -82.8)\" x=\"159.12\" y=\"-23.76\" width=\"4.32\" height=\"82.8\"/>\n   <g id=\"matplotlib.axis_3\"/>\n   <g id=\"matplotlib.axis_4\">\n    <g id=\"ytick_6\">\n     <g id=\"line2d_9\">\n      <defs>\n       <path id=\"m759814b8e9\" d=\"M 0 0 \nL 3.5 0 \n\" style=\"stroke: #000000; stroke-width: 0.8\"/>\n      </defs>\n      <g>\n       <use xlink:href=\"#m759814b8e9\" x=\"163.336125\" y=\"107.263219\" style=\"stroke: #000000; stroke-width: 0.8\"/>\n      </g>\n     </g>\n     <g id=\"text_11\">\n      <!-- 0.00 -->\n      <g transform=\"translate(170.336125 111.062437) scale(0.1 -0.1)\">\n       <defs>\n        <path id=\"DejaVuSans-2e\" d=\"M 684 794 \nL 1344 794 \nL 1344 0 \nL 684 0 \nL 684 794 \nz\n\" transform=\"scale(0.015625)\"/>\n       </defs>\n       <use xlink:href=\"#DejaVuSans-30\"/>\n       <use xlink:href=\"#DejaVuSans-2e\" transform=\"translate(63.623047 0)\"/>\n       <use xlink:href=\"#DejaVuSans-30\" transform=\"translate(95.410156 0)\"/>\n       <use xlink:href=\"#DejaVuSans-30\" transform=\"translate(159.033203 0)\"/>\n      </g>\n     </g>\n    </g>\n    <g id=\"ytick_7\">\n     <g id=\"line2d_10\">\n      <g>\n       <use xlink:href=\"#m759814b8e9\" x=\"163.336125\" y=\"86.372799\" style=\"stroke: #000000; stroke-width: 0.8\"/>\n      </g>\n     </g>\n     <g id=\"text_12\">\n      <!-- 0.25 -->\n      <g transform=\"translate(170.336125 90.172017) scale(0.1 -0.1)\">\n       <defs>\n        <path id=\"DejaVuSans-35\" d=\"M 691 4666 \nL 3169 4666 \nL 3169 4134 \nL 1269 4134 \nL 1269 2991 \nQ 1406 3038 1543 3061 \nQ 1681 3084 1819 3084 \nQ 2600 3084 3056 2656 \nQ 3513 2228 3513 1497 \nQ 3513 744 3044 326 \nQ 2575 -91 1722 -91 \nQ 1428 -91 1123 -41 \nQ 819 9 494 109 \nL 494 744 \nQ 775 591 1075 516 \nQ 1375 441 1709 441 \nQ 2250 441 2565 725 \nQ 2881 1009 2881 1497 \nQ 2881 1984 2565 2268 \nQ 2250 2553 1709 2553 \nQ 1456 2553 1204 2497 \nQ 953 2441 691 2322 \nL 691 4666 \nz\n\" transform=\"scale(0.015625)\"/>\n       </defs>\n       <use xlink:href=\"#DejaVuSans-30\"/>\n       <use xlink:href=\"#DejaVuSans-2e\" transform=\"translate(63.623047 0)\"/>\n       <use xlink:href=\"#DejaVuSans-32\" transform=\"translate(95.410156 0)\"/>\n       <use xlink:href=\"#DejaVuSans-35\" transform=\"translate(159.033203 0)\"/>\n      </g>\n     </g>\n    </g>\n    <g id=\"ytick_8\">\n     <g id=\"line2d_11\">\n      <g>\n       <use xlink:href=\"#m759814b8e9\" x=\"163.336125\" y=\"65.482378\" style=\"stroke: #000000; stroke-width: 0.8\"/>\n      </g>\n     </g>\n     <g id=\"text_13\">\n      <!-- 0.50 -->\n      <g transform=\"translate(170.336125 69.281597) scale(0.1 -0.1)\">\n       <use xlink:href=\"#DejaVuSans-30\"/>\n       <use xlink:href=\"#DejaVuSans-2e\" transform=\"translate(63.623047 0)\"/>\n       <use xlink:href=\"#DejaVuSans-35\" transform=\"translate(95.410156 0)\"/>\n       <use xlink:href=\"#DejaVuSans-30\" transform=\"translate(159.033203 0)\"/>\n      </g>\n     </g>\n    </g>\n    <g id=\"ytick_9\">\n     <g id=\"line2d_12\">\n      <g>\n       <use xlink:href=\"#m759814b8e9\" x=\"163.336125\" y=\"44.591958\" style=\"stroke: #000000; stroke-width: 0.8\"/>\n      </g>\n     </g>\n     <g id=\"text_14\">\n      <!-- 0.75 -->\n      <g transform=\"translate(170.336125 48.391177) scale(0.1 -0.1)\">\n       <defs>\n        <path id=\"DejaVuSans-37\" d=\"M 525 4666 \nL 3525 4666 \nL 3525 4397 \nL 1831 0 \nL 1172 0 \nL 2766 4134 \nL 525 4134 \nL 525 4666 \nz\n\" transform=\"scale(0.015625)\"/>\n       </defs>\n       <use xlink:href=\"#DejaVuSans-30\"/>\n       <use xlink:href=\"#DejaVuSans-2e\" transform=\"translate(63.623047 0)\"/>\n       <use xlink:href=\"#DejaVuSans-37\" transform=\"translate(95.410156 0)\"/>\n       <use xlink:href=\"#DejaVuSans-35\" transform=\"translate(159.033203 0)\"/>\n      </g>\n     </g>\n    </g>\n   </g>\n   <g id=\"LineCollection_1\"/>\n   <g id=\"patch_8\">\n    <path d=\"M 159.178125 107.263219 \nL 161.257125 107.263219 \nL 163.336125 107.263219 \nL 163.336125 24.103219 \nL 161.257125 24.103219 \nL 159.178125 24.103219 \nL 159.178125 107.263219 \nz\n\" style=\"fill: none; stroke: #000000; stroke-width: 0.8; stroke-linejoin: miter; stroke-linecap: square\"/>\n   </g>\n  </g>\n </g>\n <defs>\n  <clipPath id=\"p67863c83dd\">\n   <rect x=\"40.603125\" y=\"9.883219\" width=\"111.6\" height=\"111.6\"/>\n  </clipPath>\n </defs>\n</svg>\n"
          },
          "metadata": {}
        }
      ],
      "source": [
        "d2l.show_heatmaps(net.attention_weights.unsqueeze(0).unsqueeze(0),\n",
        "                  xlabel='Sorted training inputs',\n",
        "                  ylabel='Sorted testing inputs')"
      ]
    },
    {
      "cell_type": "code",
      "source": [
        "net.w.item()"
      ],
      "metadata": {
        "id": "YVmFfFDwnHr2",
        "outputId": "93b6e89d-8e3e-48ef-f203-478314de30d3",
        "colab": {
          "base_uri": "https://localhost:8080/"
        }
      },
      "id": "YVmFfFDwnHr2",
      "execution_count": 42,
      "outputs": [
        {
          "output_type": "execute_result",
          "data": {
            "text/plain": [
              "14.804563522338867"
            ]
          },
          "metadata": {},
          "execution_count": 42
        }
      ]
    },
    {
      "cell_type": "markdown",
      "id": "0e4f7d57",
      "metadata": {
        "origin_pos": 66,
        "id": "0e4f7d57"
      },
      "source": [
        "## 小结\n",
        "\n",
        "* Nadaraya-Watson核回归是具有注意力机制的机器学习范例。\n",
        "* Nadaraya-Watson核回归的注意力汇聚是对训练数据中输出的加权平均。从注意力的角度来看，分配给每个值的注意力权重取决于将值所对应的键和查询作为输入的函数。\n",
        "* 注意力汇聚可以分为非参数型和带参数型。\n",
        "\n",
        "## 练习\n",
        "\n",
        "1. 增加训练数据的样本数量，能否得到更好的非参数的Nadaraya-Watson核回归模型？\n",
        "1. 在带参数的注意力汇聚的实验中学习得到的参数$w$的价值是什么？为什么在可视化注意力权重时，它会使加权区域更加尖锐？\n",
        "1. 如何将超参数添加到非参数的Nadaraya-Watson核回归中以实现更好地预测结果？\n",
        "1. 为本节的核回归设计一个新的带参数的注意力汇聚模型。训练这个新模型并可视化其注意力权重。\n"
      ]
    },
    {
      "cell_type": "markdown",
      "source": [
        "："
      ],
      "metadata": {
        "id": "Yc79zcAwoz_Z"
      },
      "id": "Yc79zcAwoz_Z"
    },
    {
      "cell_type": "markdown",
      "id": "72ded07b",
      "metadata": {
        "origin_pos": 68,
        "tab": [
          "pytorch"
        ],
        "id": "72ded07b"
      },
      "source": [
        "[Discussions](https://discuss.d2l.ai/t/5760)\n"
      ]
    }
  ],
  "metadata": {
    "kernelspec": {
      "display_name": "Python 3",
      "name": "python3"
    },
    "language_info": {
      "name": "python"
    },
    "required_libs": [],
    "colab": {
      "provenance": []
    }
  },
  "nbformat": 4,
  "nbformat_minor": 5
}