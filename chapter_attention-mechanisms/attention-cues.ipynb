{
  "cells": [
    {
      "cell_type": "markdown",
      "id": "ece9ab12",
      "metadata": {
        "id": "ece9ab12"
      },
      "source": [
        "The following additional libraries are needed to run this\n",
        "notebook. Note that running on Colab is experimental, please report a Github\n",
        "issue if you have any problem."
      ]
    },
    {
      "cell_type": "code",
      "execution_count": null,
      "id": "c9661849",
      "metadata": {
        "id": "c9661849"
      },
      "outputs": [],
      "source": [
        "!pip install --no-deps git+https://github.com/d2l-ai/d2l-zh@release  # installing d2l"
      ]
    },
    {
      "cell_type": "markdown",
      "id": "9122670f",
      "metadata": {
        "origin_pos": 0,
        "id": "9122670f"
      },
      "source": [
        "# 注意力提示\n",
        ":label:`sec_attention-cues`\n",
        "\n",
        "感谢读者对本书的关注，因为读者的注意力是一种稀缺的资源：\n",
        "此刻读者正在阅读本书（而忽略了其他的书），\n",
        "因此读者的注意力是用机会成本（与金钱类似）来支付的。\n",
        "为了确保读者现在投入的注意力是值得的，\n",
        "作者们尽全力（全部的注意力）创作一本好书。\n",
        "\n",
        "自经济学研究稀缺资源分配以来，人们正处在“注意力经济”时代，\n",
        "即人类的注意力被视为可以交换的、有限的、有价值的且稀缺的商品。\n",
        "许多商业模式也被开发出来去利用这一点：\n",
        "在音乐或视频流媒体服务上，人们要么消耗注意力在广告上，要么付钱来隐藏广告；\n",
        "为了在网络游戏世界的成长，人们要么消耗注意力在游戏战斗中，\n",
        "从而帮助吸引新的玩家，要么付钱立即变得强大。\n",
        "总之，注意力不是免费的。\n",
        "\n",
        "注意力是稀缺的，而环境中的干扰注意力的信息却并不少。\n",
        "比如人类的视觉神经系统大约每秒收到$10^8$位的信息，\n",
        "这远远超过了大脑能够完全处理的水平。\n",
        "幸运的是，人类的祖先已经从经验（也称为数据）中认识到\n",
        "“并非感官的所有输入都是一样的”。\n",
        "在整个人类历史中，这种只将注意力引向感兴趣的一小部分信息的能力，\n",
        "使人类的大脑能够更明智地分配资源来生存、成长和社交，\n",
        "例如发现天敌、找寻食物和伴侣。\n",
        "\n",
        "## 生物学中的注意力提示\n",
        "\n",
        "注意力是如何应用于视觉世界中的呢？\n",
        "这要从当今十分普及的*双组件*（two-component）的框架开始讲起：\n",
        "这个框架的出现可以追溯到19世纪90年代的威廉·詹姆斯，\n",
        "他被认为是“美国心理学之父” :cite:`James.2007`。\n",
        "在这个框架中，受试者基于*非自主性提示*和*自主性提示*\n",
        "有选择地引导注意力的焦点。\n",
        "\n",
        "非自主性提示是基于环境中物体的突出性和易见性。\n",
        "想象一下，假如我们面前有五个物品：\n",
        "一份报纸、一篇研究论文、一杯咖啡、一本笔记本和一本书，\n",
        "就像 :numref:`fig_eye-coffee`。\n",
        "所有纸制品都是黑白印刷的，但咖啡杯是红色的。\n",
        "换句话说，这个咖啡杯在这种视觉环境中是突出和显眼的，\n",
        "不由自主地引起人们的注意。\n",
        "所以我们会把视力最敏锐的地方放到咖啡上，\n",
        "如 :numref:`fig_eye-coffee`所示。\n",
        "\n",
        "![由于突出性的非自主性提示（红杯子），注意力不自主地指向了咖啡杯](https://github.com/d2l-ai/d2l-zh-pytorch-colab/blob/master/img/eye-coffee.svg?raw=1)\n",
        ":width:`400px`\n",
        ":label:`fig_eye-coffee`\n",
        "\n",
        "喝咖啡后，我们会变得兴奋并想读书，\n",
        "所以转过头，重新聚焦眼睛，然后看看书，\n",
        "就像 :numref:`fig_eye-book`中描述那样。\n",
        "与 :numref:`fig_eye-coffee`中由于突出性导致的选择不同，\n",
        "此时选择书是受到了认知和意识的控制，\n",
        "因此注意力在基于自主性提示去辅助选择时将更为谨慎。\n",
        "受试者的主观意愿推动，选择的力量也就更强大。\n",
        "\n",
        "![依赖于任务的意志提示（想读一本书），注意力被自主引导到书上](https://github.com/d2l-ai/d2l-zh-pytorch-colab/blob/master/img/eye-book.svg?raw=1)\n",
        ":width:`400px`\n",
        ":label:`fig_eye-book`\n",
        "\n",
        "## 查询、键和值\n",
        "\n",
        "自主性的与非自主性的注意力提示解释了人类的注意力的方式，\n",
        "下面来看看如何通过这两种注意力提示，\n",
        "用神经网络来设计注意力机制的框架，\n",
        "\n",
        "首先，考虑一个相对简单的状况，\n",
        "即只使用非自主性提示。\n",
        "要想将选择偏向于感官输入，\n",
        "则可以简单地使用参数化的全连接层，\n",
        "甚至是非参数化的最大汇聚层或平均汇聚层。\n",
        "\n",
        "因此，“是否包含自主性提示”将注意力机制与全连接层或汇聚层区别开来。\n",
        "在注意力机制的背景下，自主性提示被称为*查询*（query）。\n",
        "给定任何查询，注意力机制通过*注意力汇聚*（attention pooling）\n",
        "将选择引导至*感官输入*（sensory inputs，例如中间特征表示）。\n",
        "在注意力机制中，这些感官输入被称为*值*（value）。\n",
        "更通俗的解释，每个值都与一个*键*（key）配对，\n",
        "这可以想象为感官输入的非自主提示。\n",
        "如 :numref:`fig_qkv`所示，可以通过设计注意力汇聚的方式，\n",
        "便于给定的查询（自主性提示）与键（非自主性提示）进行匹配，\n",
        "这将引导得出最匹配的值（感官输入）。\n",
        "\n",
        "![注意力机制通过注意力汇聚将*查询*（自主性提示）和*键*（非自主性提示）结合在一起，实现对*值*（感官输入）的选择倾向](http://d2l.ai/_images/qkv.svg)\n",
        ":label:`fig_qkv`\n",
        "\n",
        "鉴于上面所提框架在 :numref:`fig_qkv`中的主导地位，\n",
        "因此这个框架下的模型将成为本章的中心。\n",
        "然而，注意力机制的设计有许多替代方案。\n",
        "例如可以设计一个不可微的注意力模型，\n",
        "该模型可以使用强化学习方法 :cite:`Mnih.Heess.Graves.ea.2014`进行训练。\n",
        "\n",
        "## 注意力的可视化\n",
        "\n",
        "平均汇聚层可以被视为输入的加权平均值，\n",
        "其中各输入的权重是一样的。\n",
        "实际上，注意力汇聚得到的是加权平均的总和值，\n",
        "其中权重是在给定的查询和不同的键之间计算得出的。\n"
      ]
    },
    {
      "cell_type": "code",
      "execution_count": 2,
      "id": "58a7898f",
      "metadata": {
        "execution": {
          "iopub.execute_input": "2023-08-18T07:03:03.521946Z",
          "iopub.status.busy": "2023-08-18T07:03:03.521507Z",
          "iopub.status.idle": "2023-08-18T07:03:05.621623Z",
          "shell.execute_reply": "2023-08-18T07:03:05.620583Z"
        },
        "origin_pos": 2,
        "tab": [
          "pytorch"
        ],
        "id": "58a7898f"
      },
      "outputs": [],
      "source": [
        "import torch\n",
        "from d2l import torch as d2l"
      ]
    },
    {
      "cell_type": "markdown",
      "id": "6e9e92fc",
      "metadata": {
        "origin_pos": 5,
        "id": "6e9e92fc"
      },
      "source": [
        "为了可视化注意力权重，需要定义一个`show_heatmaps`函数。\n",
        "其输入`matrices`的形状是\n",
        "（要显示的行数，要显示的列数，查询的数目，键的数目）。\n"
      ]
    },
    {
      "cell_type": "code",
      "execution_count": 3,
      "id": "3c30d535",
      "metadata": {
        "execution": {
          "iopub.execute_input": "2023-08-18T07:03:05.627152Z",
          "iopub.status.busy": "2023-08-18T07:03:05.626530Z",
          "iopub.status.idle": "2023-08-18T07:03:05.634951Z",
          "shell.execute_reply": "2023-08-18T07:03:05.633763Z"
        },
        "origin_pos": 6,
        "tab": [
          "pytorch"
        ],
        "id": "3c30d535"
      },
      "outputs": [],
      "source": [
        "def show_heatmaps(matrices, xlabel, ylabel, titles=None, figsize=(2.5, 2.5),\n",
        "                  cmap='Reds'):\n",
        "    \"\"\"显示矩阵热图\"\"\"\n",
        "    d2l.use_svg_display()\n",
        "    num_rows, num_cols = matrices.shape[0], matrices.shape[1]  #num_rows：query的个数, num_cols:value的个数\n",
        "    fig, axes = d2l.plt.subplots(num_rows, num_cols, figsize=figsize,\n",
        "                                 sharex=True, sharey=True, squeeze=False)  # query×value的个数\n",
        "    for i, (row_axes, row_matrices) in enumerate(zip(axes, matrices)):\n",
        "        for j, (ax, matrix) in enumerate(zip(row_axes, row_matrices)):\n",
        "            pcm = ax.imshow(matrix.detach().numpy(), cmap=cmap)\n",
        "            if i == num_rows - 1:\n",
        "                ax.set_xlabel(xlabel)\n",
        "            if j == 0:\n",
        "                ax.set_ylabel(ylabel)\n",
        "            if titles:\n",
        "                ax.set_title(titles[j])\n",
        "    fig.colorbar(pcm, ax=axes, shrink=0.6);"
      ]
    },
    {
      "cell_type": "markdown",
      "id": "f48978d9",
      "metadata": {
        "origin_pos": 7,
        "id": "f48978d9"
      },
      "source": [
        "下面使用一个简单的例子进行演示。\n",
        "在本例子中，仅当查询和键相同时，注意力权重为1，否则为0。\n"
      ]
    },
    {
      "cell_type": "code",
      "execution_count": 7,
      "id": "bbabe8f3",
      "metadata": {
        "execution": {
          "iopub.execute_input": "2023-08-18T07:03:05.640096Z",
          "iopub.status.busy": "2023-08-18T07:03:05.639355Z",
          "iopub.status.idle": "2023-08-18T07:03:05.886353Z",
          "shell.execute_reply": "2023-08-18T07:03:05.885235Z"
        },
        "origin_pos": 8,
        "tab": [
          "pytorch"
        ],
        "id": "bbabe8f3",
        "outputId": "8dbd3cf6-054b-46ef-985a-5cbeb9891990",
        "colab": {
          "base_uri": "https://localhost:8080/",
          "height": 268
        }
      },
      "outputs": [
        {
          "output_type": "display_data",
          "data": {
            "text/plain": [
              "<Figure size 250x250 with 5 Axes>"
            ],
            "image/svg+xml": "<?xml version=\"1.0\" encoding=\"utf-8\" standalone=\"no\"?>\n<!DOCTYPE svg PUBLIC \"-//W3C//DTD SVG 1.1//EN\"\n  \"http://www.w3.org/Graphics/SVG/1.1/DTD/svg11.dtd\">\n<svg xmlns:xlink=\"http://www.w3.org/1999/xlink\" width=\"111.969685pt\" height=\"185.648947pt\" viewBox=\"0 0 111.969685 185.648947\" xmlns=\"http://www.w3.org/2000/svg\" version=\"1.1\">\n <metadata>\n  <rdf:RDF xmlns:dc=\"http://purl.org/dc/elements/1.1/\" xmlns:cc=\"http://creativecommons.org/ns#\" xmlns:rdf=\"http://www.w3.org/1999/02/22-rdf-syntax-ns#\">\n   <cc:Work>\n    <dc:type rdf:resource=\"http://purl.org/dc/dcmitype/StillImage\"/>\n    <dc:date>2025-10-13T02:24:31.964464</dc:date>\n    <dc:format>image/svg+xml</dc:format>\n    <dc:creator>\n     <cc:Agent>\n      <dc:title>Matplotlib v3.10.0, https://matplotlib.org/</dc:title>\n     </cc:Agent>\n    </dc:creator>\n   </cc:Work>\n  </rdf:RDF>\n </metadata>\n <defs>\n  <style type=\"text/css\">*{stroke-linejoin: round; stroke-linecap: butt}</style>\n </defs>\n <g id=\"figure_1\">\n  <g id=\"patch_1\">\n   <path d=\"M 0 185.648947 \nL 111.969685 185.648947 \nL 111.969685 0 \nL 0 0 \nz\n\" style=\"fill: #ffffff\"/>\n  </g>\n  <g id=\"axes_1\">\n   <g id=\"patch_2\">\n    <path d=\"M 34.240625 39.623132 \nL 64.37106 39.623132 \nL 64.37106 9.492697 \nL 34.240625 9.492697 \nz\n\" style=\"fill: #ffffff\"/>\n   </g>\n   <g clip-path=\"url(#pfa32af06d5)\">\n    <image xlink:href=\"data:image/png;base64,\niVBORw0KGgoAAAANSUhEUgAAACoAAAAqCAYAAADFw8lbAAAAkUlEQVR4nO2WMQqAMBAEL2KnT/B/+iQf6ANsUmudszDIkHiw06UJwxKGpCuflwVg6C1Qi0RpRuKSbVqK854P4tqCMItKlCapozASpQkj+in4LQLvCbOoRGkUfBqJ0rx21DfTrE03PWEWlSiNOkojUZpHR3v8NWsIs6hEacKIKvg0EqVJq83FG/1L4D1hFpUozQ2RvSOp/hkEHgAAAABJRU5ErkJggg==\" id=\"image1460762b86\" transform=\"scale(1 -1) translate(0 -30.24)\" x=\"34.240625\" y=\"-9.383132\" width=\"30.24\" height=\"30.24\"/>\n   </g>\n   <g id=\"matplotlib.axis_1\">\n    <g id=\"xtick_1\">\n     <g id=\"line2d_1\">\n      <defs>\n       <path id=\"m5b325f049c\" d=\"M 0 0 \nL 0 3.5 \n\" style=\"stroke: #000000; stroke-width: 0.8\"/>\n      </defs>\n      <g>\n       <use xlink:href=\"#m5b325f049c\" x=\"35.747147\" y=\"39.623132\" style=\"stroke: #000000; stroke-width: 0.8\"/>\n      </g>\n     </g>\n    </g>\n    <g id=\"xtick_2\">\n     <g id=\"line2d_2\">\n      <g>\n       <use xlink:href=\"#m5b325f049c\" x=\"50.812364\" y=\"39.623132\" style=\"stroke: #000000; stroke-width: 0.8\"/>\n      </g>\n     </g>\n    </g>\n   </g>\n   <g id=\"matplotlib.axis_2\">\n    <g id=\"ytick_1\">\n     <g id=\"line2d_3\">\n      <defs>\n       <path id=\"m14ad086407\" d=\"M 0 0 \nL -3.5 0 \n\" style=\"stroke: #000000; stroke-width: 0.8\"/>\n      </defs>\n      <g>\n       <use xlink:href=\"#m14ad086407\" x=\"34.240625\" y=\"10.999219\" style=\"stroke: #000000; stroke-width: 0.8\"/>\n      </g>\n     </g>\n     <g id=\"text_1\">\n      <!-- 0 -->\n      <g transform=\"translate(20.878125 14.798438) scale(0.1 -0.1)\">\n       <defs>\n        <path id=\"DejaVuSans-30\" d=\"M 2034 4250 \nQ 1547 4250 1301 3770 \nQ 1056 3291 1056 2328 \nQ 1056 1369 1301 889 \nQ 1547 409 2034 409 \nQ 2525 409 2770 889 \nQ 3016 1369 3016 2328 \nQ 3016 3291 2770 3770 \nQ 2525 4250 2034 4250 \nz\nM 2034 4750 \nQ 2819 4750 3233 4129 \nQ 3647 3509 3647 2328 \nQ 3647 1150 3233 529 \nQ 2819 -91 2034 -91 \nQ 1250 -91 836 529 \nQ 422 1150 422 2328 \nQ 422 3509 836 4129 \nQ 1250 4750 2034 4750 \nz\n\" transform=\"scale(0.015625)\"/>\n       </defs>\n       <use xlink:href=\"#DejaVuSans-30\"/>\n      </g>\n     </g>\n    </g>\n    <g id=\"ytick_2\">\n     <g id=\"line2d_4\">\n      <g>\n       <use xlink:href=\"#m14ad086407\" x=\"34.240625\" y=\"26.064436\" style=\"stroke: #000000; stroke-width: 0.8\"/>\n      </g>\n     </g>\n     <g id=\"text_2\">\n      <!-- 5 -->\n      <g transform=\"translate(20.878125 29.863655) scale(0.1 -0.1)\">\n       <defs>\n        <path id=\"DejaVuSans-35\" d=\"M 691 4666 \nL 3169 4666 \nL 3169 4134 \nL 1269 4134 \nL 1269 2991 \nQ 1406 3038 1543 3061 \nQ 1681 3084 1819 3084 \nQ 2600 3084 3056 2656 \nQ 3513 2228 3513 1497 \nQ 3513 744 3044 326 \nQ 2575 -91 1722 -91 \nQ 1428 -91 1123 -41 \nQ 819 9 494 109 \nL 494 744 \nQ 775 591 1075 516 \nQ 1375 441 1709 441 \nQ 2250 441 2565 725 \nQ 2881 1009 2881 1497 \nQ 2881 1984 2565 2268 \nQ 2250 2553 1709 2553 \nQ 1456 2553 1204 2497 \nQ 953 2441 691 2322 \nL 691 4666 \nz\n\" transform=\"scale(0.015625)\"/>\n       </defs>\n       <use xlink:href=\"#DejaVuSans-35\"/>\n      </g>\n     </g>\n    </g>\n    <g id=\"text_3\">\n     <!-- Queries -->\n     <g transform=\"translate(14.798438 43.864946) rotate(-90) scale(0.1 -0.1)\">\n      <defs>\n       <path id=\"DejaVuSans-51\" d=\"M 2522 4238 \nQ 1834 4238 1429 3725 \nQ 1025 3213 1025 2328 \nQ 1025 1447 1429 934 \nQ 1834 422 2522 422 \nQ 3209 422 3611 934 \nQ 4013 1447 4013 2328 \nQ 4013 3213 3611 3725 \nQ 3209 4238 2522 4238 \nz\nM 3406 84 \nL 4238 -825 \nL 3475 -825 \nL 2784 -78 \nQ 2681 -84 2626 -87 \nQ 2572 -91 2522 -91 \nQ 1538 -91 948 567 \nQ 359 1225 359 2328 \nQ 359 3434 948 4092 \nQ 1538 4750 2522 4750 \nQ 3503 4750 4090 4092 \nQ 4678 3434 4678 2328 \nQ 4678 1516 4351 937 \nQ 4025 359 3406 84 \nz\n\" transform=\"scale(0.015625)\"/>\n       <path id=\"DejaVuSans-75\" d=\"M 544 1381 \nL 544 3500 \nL 1119 3500 \nL 1119 1403 \nQ 1119 906 1312 657 \nQ 1506 409 1894 409 \nQ 2359 409 2629 706 \nQ 2900 1003 2900 1516 \nL 2900 3500 \nL 3475 3500 \nL 3475 0 \nL 2900 0 \nL 2900 538 \nQ 2691 219 2414 64 \nQ 2138 -91 1772 -91 \nQ 1169 -91 856 284 \nQ 544 659 544 1381 \nz\nM 1991 3584 \nL 1991 3584 \nz\n\" transform=\"scale(0.015625)\"/>\n       <path id=\"DejaVuSans-65\" d=\"M 3597 1894 \nL 3597 1613 \nL 953 1613 \nQ 991 1019 1311 708 \nQ 1631 397 2203 397 \nQ 2534 397 2845 478 \nQ 3156 559 3463 722 \nL 3463 178 \nQ 3153 47 2828 -22 \nQ 2503 -91 2169 -91 \nQ 1331 -91 842 396 \nQ 353 884 353 1716 \nQ 353 2575 817 3079 \nQ 1281 3584 2069 3584 \nQ 2775 3584 3186 3129 \nQ 3597 2675 3597 1894 \nz\nM 3022 2063 \nQ 3016 2534 2758 2815 \nQ 2500 3097 2075 3097 \nQ 1594 3097 1305 2825 \nQ 1016 2553 972 2059 \nL 3022 2063 \nz\n\" transform=\"scale(0.015625)\"/>\n       <path id=\"DejaVuSans-72\" d=\"M 2631 2963 \nQ 2534 3019 2420 3045 \nQ 2306 3072 2169 3072 \nQ 1681 3072 1420 2755 \nQ 1159 2438 1159 1844 \nL 1159 0 \nL 581 0 \nL 581 3500 \nL 1159 3500 \nL 1159 2956 \nQ 1341 3275 1631 3429 \nQ 1922 3584 2338 3584 \nQ 2397 3584 2469 3576 \nQ 2541 3569 2628 3553 \nL 2631 2963 \nz\n\" transform=\"scale(0.015625)\"/>\n       <path id=\"DejaVuSans-69\" d=\"M 603 3500 \nL 1178 3500 \nL 1178 0 \nL 603 0 \nL 603 3500 \nz\nM 603 4863 \nL 1178 4863 \nL 1178 4134 \nL 603 4134 \nL 603 4863 \nz\n\" transform=\"scale(0.015625)\"/>\n       <path id=\"DejaVuSans-73\" d=\"M 2834 3397 \nL 2834 2853 \nQ 2591 2978 2328 3040 \nQ 2066 3103 1784 3103 \nQ 1356 3103 1142 2972 \nQ 928 2841 928 2578 \nQ 928 2378 1081 2264 \nQ 1234 2150 1697 2047 \nL 1894 2003 \nQ 2506 1872 2764 1633 \nQ 3022 1394 3022 966 \nQ 3022 478 2636 193 \nQ 2250 -91 1575 -91 \nQ 1294 -91 989 -36 \nQ 684 19 347 128 \nL 347 722 \nQ 666 556 975 473 \nQ 1284 391 1588 391 \nQ 1994 391 2212 530 \nQ 2431 669 2431 922 \nQ 2431 1156 2273 1281 \nQ 2116 1406 1581 1522 \nL 1381 1569 \nQ 847 1681 609 1914 \nQ 372 2147 372 2553 \nQ 372 3047 722 3315 \nQ 1072 3584 1716 3584 \nQ 2034 3584 2315 3537 \nQ 2597 3491 2834 3397 \nz\n\" transform=\"scale(0.015625)\"/>\n      </defs>\n      <use xlink:href=\"#DejaVuSans-51\"/>\n      <use xlink:href=\"#DejaVuSans-75\" transform=\"translate(78.710938 0)\"/>\n      <use xlink:href=\"#DejaVuSans-65\" transform=\"translate(142.089844 0)\"/>\n      <use xlink:href=\"#DejaVuSans-72\" transform=\"translate(203.613281 0)\"/>\n      <use xlink:href=\"#DejaVuSans-69\" transform=\"translate(244.726562 0)\"/>\n      <use xlink:href=\"#DejaVuSans-65\" transform=\"translate(272.509766 0)\"/>\n      <use xlink:href=\"#DejaVuSans-73\" transform=\"translate(334.033203 0)\"/>\n     </g>\n    </g>\n   </g>\n   <g id=\"patch_3\">\n    <path d=\"M 34.240625 39.623132 \nL 34.240625 9.492697 \n\" style=\"fill: none; stroke: #000000; stroke-width: 0.8; stroke-linejoin: miter; stroke-linecap: square\"/>\n   </g>\n   <g id=\"patch_4\">\n    <path d=\"M 64.37106 39.623132 \nL 64.37106 9.492697 \n\" style=\"fill: none; stroke: #000000; stroke-width: 0.8; stroke-linejoin: miter; stroke-linecap: square\"/>\n   </g>\n   <g id=\"patch_5\">\n    <path d=\"M 34.240625 39.623132 \nL 64.37106 39.623132 \n\" style=\"fill: none; stroke: #000000; stroke-width: 0.8; stroke-linejoin: miter; stroke-linecap: square\"/>\n   </g>\n   <g id=\"patch_6\">\n    <path d=\"M 34.240625 9.492697 \nL 64.37106 9.492697 \n\" style=\"fill: none; stroke: #000000; stroke-width: 0.8; stroke-linejoin: miter; stroke-linecap: square\"/>\n   </g>\n  </g>\n  <g id=\"axes_2\">\n   <g id=\"patch_7\">\n    <path d=\"M 34.240625 75.779654 \nL 64.37106 75.779654 \nL 64.37106 45.649219 \nL 34.240625 45.649219 \nz\n\" style=\"fill: #ffffff\"/>\n   </g>\n   <g clip-path=\"url(#pa1f07b7fba)\">\n    <image xlink:href=\"data:image/png;base64,\niVBORw0KGgoAAAANSUhEUgAAACoAAAAqCAYAAADFw8lbAAAAiklEQVR4nO2WsQ2AMBDEEkTHCgzISAzIADSpQ80jRApDOOncfWddYX2uZa9JgKG3QCsWpRl7C9yxTPPpllnUojTZHYWxKI2M6G+CHwO/lu10yyxqURoHn8aiNF06GpuZ0rWbEZlFLUrjjtJYlOaTjj79mi3ILGpRGhlRB5/GojSvBJ8IfERmUYvSHLalIFiXsHjrAAAAAElFTkSuQmCC\" id=\"image3bea88b9c1\" transform=\"scale(1 -1) translate(0 -30.24)\" x=\"34.240625\" y=\"-45.539654\" width=\"30.24\" height=\"30.24\"/>\n   </g>\n   <g id=\"matplotlib.axis_3\">\n    <g id=\"xtick_3\">\n     <g id=\"line2d_5\">\n      <g>\n       <use xlink:href=\"#m5b325f049c\" x=\"35.747147\" y=\"75.779654\" style=\"stroke: #000000; stroke-width: 0.8\"/>\n      </g>\n     </g>\n    </g>\n    <g id=\"xtick_4\">\n     <g id=\"line2d_6\">\n      <g>\n       <use xlink:href=\"#m5b325f049c\" x=\"50.812364\" y=\"75.779654\" style=\"stroke: #000000; stroke-width: 0.8\"/>\n      </g>\n     </g>\n    </g>\n   </g>\n   <g id=\"matplotlib.axis_4\">\n    <g id=\"ytick_3\">\n     <g id=\"line2d_7\">\n      <g>\n       <use xlink:href=\"#m14ad086407\" x=\"34.240625\" y=\"47.15574\" style=\"stroke: #000000; stroke-width: 0.8\"/>\n      </g>\n     </g>\n     <g id=\"text_4\">\n      <!-- 0 -->\n      <g transform=\"translate(20.878125 50.954959) scale(0.1 -0.1)\">\n       <use xlink:href=\"#DejaVuSans-30\"/>\n      </g>\n     </g>\n    </g>\n    <g id=\"ytick_4\">\n     <g id=\"line2d_8\">\n      <g>\n       <use xlink:href=\"#m14ad086407\" x=\"34.240625\" y=\"62.220958\" style=\"stroke: #000000; stroke-width: 0.8\"/>\n      </g>\n     </g>\n     <g id=\"text_5\">\n      <!-- 5 -->\n      <g transform=\"translate(20.878125 66.020177) scale(0.1 -0.1)\">\n       <use xlink:href=\"#DejaVuSans-35\"/>\n      </g>\n     </g>\n    </g>\n    <g id=\"text_6\">\n     <!-- Queries -->\n     <g transform=\"translate(14.798438 80.021467) rotate(-90) scale(0.1 -0.1)\">\n      <use xlink:href=\"#DejaVuSans-51\"/>\n      <use xlink:href=\"#DejaVuSans-75\" transform=\"translate(78.710938 0)\"/>\n      <use xlink:href=\"#DejaVuSans-65\" transform=\"translate(142.089844 0)\"/>\n      <use xlink:href=\"#DejaVuSans-72\" transform=\"translate(203.613281 0)\"/>\n      <use xlink:href=\"#DejaVuSans-69\" transform=\"translate(244.726562 0)\"/>\n      <use xlink:href=\"#DejaVuSans-65\" transform=\"translate(272.509766 0)\"/>\n      <use xlink:href=\"#DejaVuSans-73\" transform=\"translate(334.033203 0)\"/>\n     </g>\n    </g>\n   </g>\n   <g id=\"patch_8\">\n    <path d=\"M 34.240625 75.779654 \nL 34.240625 45.649219 \n\" style=\"fill: none; stroke: #000000; stroke-width: 0.8; stroke-linejoin: miter; stroke-linecap: square\"/>\n   </g>\n   <g id=\"patch_9\">\n    <path d=\"M 64.37106 75.779654 \nL 64.37106 45.649219 \n\" style=\"fill: none; stroke: #000000; stroke-width: 0.8; stroke-linejoin: miter; stroke-linecap: square\"/>\n   </g>\n   <g id=\"patch_10\">\n    <path d=\"M 34.240625 75.779654 \nL 64.37106 75.779654 \n\" style=\"fill: none; stroke: #000000; stroke-width: 0.8; stroke-linejoin: miter; stroke-linecap: square\"/>\n   </g>\n   <g id=\"patch_11\">\n    <path d=\"M 34.240625 45.649219 \nL 64.37106 45.649219 \n\" style=\"fill: none; stroke: #000000; stroke-width: 0.8; stroke-linejoin: miter; stroke-linecap: square\"/>\n   </g>\n  </g>\n  <g id=\"axes_3\">\n   <g id=\"patch_12\">\n    <path d=\"M 34.240625 111.936175 \nL 64.37106 111.936175 \nL 64.37106 81.80574 \nL 34.240625 81.80574 \nz\n\" style=\"fill: #ffffff\"/>\n   </g>\n   <g clip-path=\"url(#pf0724830e4)\">\n    <image xlink:href=\"data:image/png;base64,\niVBORw0KGgoAAAANSUhEUgAAACoAAAAqCAYAAADFw8lbAAAAk0lEQVR4nO2WQQ5AMBQFf8WOI7gfR3JAB7DpmnXbBdFRfvJmZ6GZvOhEOOJ+WCXLMCXPa9xqjyzo8BNfQqI0gfhGW+BmUYnS9E9eatHNHDeLSpTGjaiCTyNRmsvg53E3axP4HDeLSpRGHaWRKE3R0S9+iu/gZlGJ0qijNBKlcSMaZhuTy/SXwOe4WVSiNAo+jURpTiymJ4mt+yUuAAAAAElFTkSuQmCC\" id=\"imageed4c757364\" transform=\"scale(1 -1) translate(0 -30.24)\" x=\"34.240625\" y=\"-81.696175\" width=\"30.24\" height=\"30.24\"/>\n   </g>\n   <g id=\"matplotlib.axis_5\">\n    <g id=\"xtick_5\">\n     <g id=\"line2d_9\">\n      <g>\n       <use xlink:href=\"#m5b325f049c\" x=\"35.747147\" y=\"111.936175\" style=\"stroke: #000000; stroke-width: 0.8\"/>\n      </g>\n     </g>\n    </g>\n    <g id=\"xtick_6\">\n     <g id=\"line2d_10\">\n      <g>\n       <use xlink:href=\"#m5b325f049c\" x=\"50.812364\" y=\"111.936175\" style=\"stroke: #000000; stroke-width: 0.8\"/>\n      </g>\n     </g>\n    </g>\n   </g>\n   <g id=\"matplotlib.axis_6\">\n    <g id=\"ytick_5\">\n     <g id=\"line2d_11\">\n      <g>\n       <use xlink:href=\"#m14ad086407\" x=\"34.240625\" y=\"83.312262\" style=\"stroke: #000000; stroke-width: 0.8\"/>\n      </g>\n     </g>\n     <g id=\"text_7\">\n      <!-- 0 -->\n      <g transform=\"translate(20.878125 87.111481) scale(0.1 -0.1)\">\n       <use xlink:href=\"#DejaVuSans-30\"/>\n      </g>\n     </g>\n    </g>\n    <g id=\"ytick_6\">\n     <g id=\"line2d_12\">\n      <g>\n       <use xlink:href=\"#m14ad086407\" x=\"34.240625\" y=\"98.37748\" style=\"stroke: #000000; stroke-width: 0.8\"/>\n      </g>\n     </g>\n     <g id=\"text_8\">\n      <!-- 5 -->\n      <g transform=\"translate(20.878125 102.176698) scale(0.1 -0.1)\">\n       <use xlink:href=\"#DejaVuSans-35\"/>\n      </g>\n     </g>\n    </g>\n    <g id=\"text_9\">\n     <!-- Queries -->\n     <g transform=\"translate(14.798438 116.177989) rotate(-90) scale(0.1 -0.1)\">\n      <use xlink:href=\"#DejaVuSans-51\"/>\n      <use xlink:href=\"#DejaVuSans-75\" transform=\"translate(78.710938 0)\"/>\n      <use xlink:href=\"#DejaVuSans-65\" transform=\"translate(142.089844 0)\"/>\n      <use xlink:href=\"#DejaVuSans-72\" transform=\"translate(203.613281 0)\"/>\n      <use xlink:href=\"#DejaVuSans-69\" transform=\"translate(244.726562 0)\"/>\n      <use xlink:href=\"#DejaVuSans-65\" transform=\"translate(272.509766 0)\"/>\n      <use xlink:href=\"#DejaVuSans-73\" transform=\"translate(334.033203 0)\"/>\n     </g>\n    </g>\n   </g>\n   <g id=\"patch_13\">\n    <path d=\"M 34.240625 111.936175 \nL 34.240625 81.80574 \n\" style=\"fill: none; stroke: #000000; stroke-width: 0.8; stroke-linejoin: miter; stroke-linecap: square\"/>\n   </g>\n   <g id=\"patch_14\">\n    <path d=\"M 64.37106 111.936175 \nL 64.37106 81.80574 \n\" style=\"fill: none; stroke: #000000; stroke-width: 0.8; stroke-linejoin: miter; stroke-linecap: square\"/>\n   </g>\n   <g id=\"patch_15\">\n    <path d=\"M 34.240625 111.936175 \nL 64.37106 111.936175 \n\" style=\"fill: none; stroke: #000000; stroke-width: 0.8; stroke-linejoin: miter; stroke-linecap: square\"/>\n   </g>\n   <g id=\"patch_16\">\n    <path d=\"M 34.240625 81.80574 \nL 64.37106 81.80574 \n\" style=\"fill: none; stroke: #000000; stroke-width: 0.8; stroke-linejoin: miter; stroke-linecap: square\"/>\n   </g>\n  </g>\n  <g id=\"axes_4\">\n   <g id=\"patch_17\">\n    <path d=\"M 34.240625 148.092697 \nL 64.37106 148.092697 \nL 64.37106 117.962262 \nL 34.240625 117.962262 \nz\n\" style=\"fill: #ffffff\"/>\n   </g>\n   <g clip-path=\"url(#p9061d2ef03)\">\n    <image xlink:href=\"data:image/png;base64,\niVBORw0KGgoAAAANSUhEUgAAACoAAAAqCAYAAADFw8lbAAAAjklEQVR4nO3WsQ2AMAxE0QTRsQIDMhIDMgBN6lBRxBSA9MGxdK9L92WhE7mWvaYOLdPcvAenjtcUSsu9fqNWmIsqlDZ6B5zsbq5la95hLqpQWphQDT5NoTSXwbfjntJ14K0wF1UoTTtKUyjtlx29+yl+IsxFFUrTjtIUSgsT+sngEwNvhbmoQmkafJpCaQePIyQ4ZF6MnwAAAABJRU5ErkJggg==\" id=\"imagef023aa82af\" transform=\"scale(1 -1) translate(0 -30.24)\" x=\"34.240625\" y=\"-117.852697\" width=\"30.24\" height=\"30.24\"/>\n   </g>\n   <g id=\"matplotlib.axis_7\">\n    <g id=\"xtick_7\">\n     <g id=\"line2d_13\">\n      <g>\n       <use xlink:href=\"#m5b325f049c\" x=\"35.747147\" y=\"148.092697\" style=\"stroke: #000000; stroke-width: 0.8\"/>\n      </g>\n     </g>\n     <g id=\"text_10\">\n      <!-- 0 -->\n      <g transform=\"translate(32.565897 162.691135) scale(0.1 -0.1)\">\n       <use xlink:href=\"#DejaVuSans-30\"/>\n      </g>\n     </g>\n    </g>\n    <g id=\"xtick_8\">\n     <g id=\"line2d_14\">\n      <g>\n       <use xlink:href=\"#m5b325f049c\" x=\"50.812364\" y=\"148.092697\" style=\"stroke: #000000; stroke-width: 0.8\"/>\n      </g>\n     </g>\n     <g id=\"text_11\">\n      <!-- 5 -->\n      <g transform=\"translate(47.631114 162.691135) scale(0.1 -0.1)\">\n       <use xlink:href=\"#DejaVuSans-35\"/>\n      </g>\n     </g>\n    </g>\n    <g id=\"text_12\">\n     <!-- Keys -->\n     <g transform=\"translate(37.636311 176.36926) scale(0.1 -0.1)\">\n      <defs>\n       <path id=\"DejaVuSans-4b\" d=\"M 628 4666 \nL 1259 4666 \nL 1259 2694 \nL 3353 4666 \nL 4166 4666 \nL 1850 2491 \nL 4331 0 \nL 3500 0 \nL 1259 2247 \nL 1259 0 \nL 628 0 \nL 628 4666 \nz\n\" transform=\"scale(0.015625)\"/>\n       <path id=\"DejaVuSans-79\" d=\"M 2059 -325 \nQ 1816 -950 1584 -1140 \nQ 1353 -1331 966 -1331 \nL 506 -1331 \nL 506 -850 \nL 844 -850 \nQ 1081 -850 1212 -737 \nQ 1344 -625 1503 -206 \nL 1606 56 \nL 191 3500 \nL 800 3500 \nL 1894 763 \nL 2988 3500 \nL 3597 3500 \nL 2059 -325 \nz\n\" transform=\"scale(0.015625)\"/>\n      </defs>\n      <use xlink:href=\"#DejaVuSans-4b\"/>\n      <use xlink:href=\"#DejaVuSans-65\" transform=\"translate(60.576172 0)\"/>\n      <use xlink:href=\"#DejaVuSans-79\" transform=\"translate(122.099609 0)\"/>\n      <use xlink:href=\"#DejaVuSans-73\" transform=\"translate(181.279297 0)\"/>\n     </g>\n    </g>\n   </g>\n   <g id=\"matplotlib.axis_8\">\n    <g id=\"ytick_7\">\n     <g id=\"line2d_15\">\n      <g>\n       <use xlink:href=\"#m14ad086407\" x=\"34.240625\" y=\"119.468784\" style=\"stroke: #000000; stroke-width: 0.8\"/>\n      </g>\n     </g>\n     <g id=\"text_13\">\n      <!-- 0 -->\n      <g transform=\"translate(20.878125 123.268003) scale(0.1 -0.1)\">\n       <use xlink:href=\"#DejaVuSans-30\"/>\n      </g>\n     </g>\n    </g>\n    <g id=\"ytick_8\">\n     <g id=\"line2d_16\">\n      <g>\n       <use xlink:href=\"#m14ad086407\" x=\"34.240625\" y=\"134.534001\" style=\"stroke: #000000; stroke-width: 0.8\"/>\n      </g>\n     </g>\n     <g id=\"text_14\">\n      <!-- 5 -->\n      <g transform=\"translate(20.878125 138.33322) scale(0.1 -0.1)\">\n       <use xlink:href=\"#DejaVuSans-35\"/>\n      </g>\n     </g>\n    </g>\n    <g id=\"text_15\">\n     <!-- Queries -->\n     <g transform=\"translate(14.798438 152.334511) rotate(-90) scale(0.1 -0.1)\">\n      <use xlink:href=\"#DejaVuSans-51\"/>\n      <use xlink:href=\"#DejaVuSans-75\" transform=\"translate(78.710938 0)\"/>\n      <use xlink:href=\"#DejaVuSans-65\" transform=\"translate(142.089844 0)\"/>\n      <use xlink:href=\"#DejaVuSans-72\" transform=\"translate(203.613281 0)\"/>\n      <use xlink:href=\"#DejaVuSans-69\" transform=\"translate(244.726562 0)\"/>\n      <use xlink:href=\"#DejaVuSans-65\" transform=\"translate(272.509766 0)\"/>\n      <use xlink:href=\"#DejaVuSans-73\" transform=\"translate(334.033203 0)\"/>\n     </g>\n    </g>\n   </g>\n   <g id=\"patch_18\">\n    <path d=\"M 34.240625 148.092697 \nL 34.240625 117.962262 \n\" style=\"fill: none; stroke: #000000; stroke-width: 0.8; stroke-linejoin: miter; stroke-linecap: square\"/>\n   </g>\n   <g id=\"patch_19\">\n    <path d=\"M 64.37106 148.092697 \nL 64.37106 117.962262 \n\" style=\"fill: none; stroke: #000000; stroke-width: 0.8; stroke-linejoin: miter; stroke-linecap: square\"/>\n   </g>\n   <g id=\"patch_20\">\n    <path d=\"M 34.240625 148.092697 \nL 64.37106 148.092697 \n\" style=\"fill: none; stroke: #000000; stroke-width: 0.8; stroke-linejoin: miter; stroke-linecap: square\"/>\n   </g>\n   <g id=\"patch_21\">\n    <path d=\"M 34.240625 117.962262 \nL 64.37106 117.962262 \n\" style=\"fill: none; stroke: #000000; stroke-width: 0.8; stroke-linejoin: miter; stroke-linecap: square\"/>\n   </g>\n  </g>\n  <g id=\"axes_5\">\n   <g id=\"patch_22\">\n    <path d=\"M 71.34606 120.372697 \nL 75.50406 120.372697 \nL 75.50406 37.212697 \nL 71.34606 37.212697 \nz\n\" style=\"fill: #ffffff\"/>\n   </g>\n   <image xlink:href=\"data:image/png;base64,\niVBORw0KGgoAAAANSUhEUgAAAAYAAABzCAYAAAC7I3M6AAAAx0lEQVR4nL2VSQ7EMAgEicT/vzqXOSUs+QBlqSPLObrVFGCIr/7/2obPrXI6N7cuVagRsXQAvNmhZ4UF6unK8HjUrLAlqTosCa6HQoEKbD2UnlXENgYLchNTnkQMpY/PhynRu0sFMhz3gxhyqMV+yPCNBXJ3cc+xQGSAUMRAhw7vhL9on4DLTSxKt+jxQiEwlMxIGZ5xgEF1oFD0pKIw35+ZJzrmc/MyhBODHBvh6EDGPLkrB8yCeZDj2RcKHfcBBrbkxq1V4S8NNhBOPsFR5gAAAABJRU5ErkJggg==\" id=\"image5dd7fa0a1a\" transform=\"scale(1 -1) translate(0 -82.8)\" x=\"71.28\" y=\"-36.72\" width=\"4.32\" height=\"82.8\"/>\n   <g id=\"matplotlib.axis_9\"/>\n   <g id=\"matplotlib.axis_10\">\n    <g id=\"ytick_9\">\n     <g id=\"line2d_17\">\n      <defs>\n       <path id=\"m30c9cb6bdd\" d=\"M 0 0 \nL 3.5 0 \n\" style=\"stroke: #000000; stroke-width: 0.8\"/>\n      </defs>\n      <g>\n       <use xlink:href=\"#m30c9cb6bdd\" x=\"75.50406\" y=\"120.372697\" style=\"stroke: #000000; stroke-width: 0.8\"/>\n      </g>\n     </g>\n     <g id=\"text_16\">\n      <!-- 0.00 -->\n      <g transform=\"translate(82.50406 124.171916) scale(0.1 -0.1)\">\n       <defs>\n        <path id=\"DejaVuSans-2e\" d=\"M 684 794 \nL 1344 794 \nL 1344 0 \nL 684 0 \nL 684 794 \nz\n\" transform=\"scale(0.015625)\"/>\n       </defs>\n       <use xlink:href=\"#DejaVuSans-30\"/>\n       <use xlink:href=\"#DejaVuSans-2e\" transform=\"translate(63.623047 0)\"/>\n       <use xlink:href=\"#DejaVuSans-30\" transform=\"translate(95.410156 0)\"/>\n       <use xlink:href=\"#DejaVuSans-30\" transform=\"translate(159.033203 0)\"/>\n      </g>\n     </g>\n    </g>\n    <g id=\"ytick_10\">\n     <g id=\"line2d_18\">\n      <g>\n       <use xlink:href=\"#m30c9cb6bdd\" x=\"75.50406\" y=\"99.582697\" style=\"stroke: #000000; stroke-width: 0.8\"/>\n      </g>\n     </g>\n     <g id=\"text_17\">\n      <!-- 0.25 -->\n      <g transform=\"translate(82.50406 103.381916) scale(0.1 -0.1)\">\n       <defs>\n        <path id=\"DejaVuSans-32\" d=\"M 1228 531 \nL 3431 531 \nL 3431 0 \nL 469 0 \nL 469 531 \nQ 828 903 1448 1529 \nQ 2069 2156 2228 2338 \nQ 2531 2678 2651 2914 \nQ 2772 3150 2772 3378 \nQ 2772 3750 2511 3984 \nQ 2250 4219 1831 4219 \nQ 1534 4219 1204 4116 \nQ 875 4013 500 3803 \nL 500 4441 \nQ 881 4594 1212 4672 \nQ 1544 4750 1819 4750 \nQ 2544 4750 2975 4387 \nQ 3406 4025 3406 3419 \nQ 3406 3131 3298 2873 \nQ 3191 2616 2906 2266 \nQ 2828 2175 2409 1742 \nQ 1991 1309 1228 531 \nz\n\" transform=\"scale(0.015625)\"/>\n       </defs>\n       <use xlink:href=\"#DejaVuSans-30\"/>\n       <use xlink:href=\"#DejaVuSans-2e\" transform=\"translate(63.623047 0)\"/>\n       <use xlink:href=\"#DejaVuSans-32\" transform=\"translate(95.410156 0)\"/>\n       <use xlink:href=\"#DejaVuSans-35\" transform=\"translate(159.033203 0)\"/>\n      </g>\n     </g>\n    </g>\n    <g id=\"ytick_11\">\n     <g id=\"line2d_19\">\n      <g>\n       <use xlink:href=\"#m30c9cb6bdd\" x=\"75.50406\" y=\"78.792697\" style=\"stroke: #000000; stroke-width: 0.8\"/>\n      </g>\n     </g>\n     <g id=\"text_18\">\n      <!-- 0.50 -->\n      <g transform=\"translate(82.50406 82.591916) scale(0.1 -0.1)\">\n       <use xlink:href=\"#DejaVuSans-30\"/>\n       <use xlink:href=\"#DejaVuSans-2e\" transform=\"translate(63.623047 0)\"/>\n       <use xlink:href=\"#DejaVuSans-35\" transform=\"translate(95.410156 0)\"/>\n       <use xlink:href=\"#DejaVuSans-30\" transform=\"translate(159.033203 0)\"/>\n      </g>\n     </g>\n    </g>\n    <g id=\"ytick_12\">\n     <g id=\"line2d_20\">\n      <g>\n       <use xlink:href=\"#m30c9cb6bdd\" x=\"75.50406\" y=\"58.002697\" style=\"stroke: #000000; stroke-width: 0.8\"/>\n      </g>\n     </g>\n     <g id=\"text_19\">\n      <!-- 0.75 -->\n      <g transform=\"translate(82.50406 61.801916) scale(0.1 -0.1)\">\n       <defs>\n        <path id=\"DejaVuSans-37\" d=\"M 525 4666 \nL 3525 4666 \nL 3525 4397 \nL 1831 0 \nL 1172 0 \nL 2766 4134 \nL 525 4134 \nL 525 4666 \nz\n\" transform=\"scale(0.015625)\"/>\n       </defs>\n       <use xlink:href=\"#DejaVuSans-30\"/>\n       <use xlink:href=\"#DejaVuSans-2e\" transform=\"translate(63.623047 0)\"/>\n       <use xlink:href=\"#DejaVuSans-37\" transform=\"translate(95.410156 0)\"/>\n       <use xlink:href=\"#DejaVuSans-35\" transform=\"translate(159.033203 0)\"/>\n      </g>\n     </g>\n    </g>\n    <g id=\"ytick_13\">\n     <g id=\"line2d_21\">\n      <g>\n       <use xlink:href=\"#m30c9cb6bdd\" x=\"75.50406\" y=\"37.212697\" style=\"stroke: #000000; stroke-width: 0.8\"/>\n      </g>\n     </g>\n     <g id=\"text_20\">\n      <!-- 1.00 -->\n      <g transform=\"translate(82.50406 41.011916) scale(0.1 -0.1)\">\n       <defs>\n        <path id=\"DejaVuSans-31\" d=\"M 794 531 \nL 1825 531 \nL 1825 4091 \nL 703 3866 \nL 703 4441 \nL 1819 4666 \nL 2450 4666 \nL 2450 531 \nL 3481 531 \nL 3481 0 \nL 794 0 \nL 794 531 \nz\n\" transform=\"scale(0.015625)\"/>\n       </defs>\n       <use xlink:href=\"#DejaVuSans-31\"/>\n       <use xlink:href=\"#DejaVuSans-2e\" transform=\"translate(63.623047 0)\"/>\n       <use xlink:href=\"#DejaVuSans-30\" transform=\"translate(95.410156 0)\"/>\n       <use xlink:href=\"#DejaVuSans-30\" transform=\"translate(159.033203 0)\"/>\n      </g>\n     </g>\n    </g>\n   </g>\n   <g id=\"LineCollection_1\"/>\n   <g id=\"patch_23\">\n    <path d=\"M 71.34606 120.372697 \nL 73.42506 120.372697 \nL 75.50406 120.372697 \nL 75.50406 37.212697 \nL 73.42506 37.212697 \nL 71.34606 37.212697 \nL 71.34606 120.372697 \nz\n\" style=\"fill: none; stroke: #000000; stroke-width: 0.8; stroke-linejoin: miter; stroke-linecap: square\"/>\n   </g>\n  </g>\n </g>\n <defs>\n  <clipPath id=\"pfa32af06d5\">\n   <rect x=\"34.240625\" y=\"9.492697\" width=\"30.130435\" height=\"30.130435\"/>\n  </clipPath>\n  <clipPath id=\"pa1f07b7fba\">\n   <rect x=\"34.240625\" y=\"45.649219\" width=\"30.130435\" height=\"30.130435\"/>\n  </clipPath>\n  <clipPath id=\"pf0724830e4\">\n   <rect x=\"34.240625\" y=\"81.80574\" width=\"30.130435\" height=\"30.130435\"/>\n  </clipPath>\n  <clipPath id=\"p9061d2ef03\">\n   <rect x=\"34.240625\" y=\"117.962262\" width=\"30.130435\" height=\"30.130435\"/>\n  </clipPath>\n </defs>\n</svg>\n"
          },
          "metadata": {}
        }
      ],
      "source": [
        "attention_weights = torch.eye(20).reshape((4, 1, 10, 10))\n",
        "show_heatmaps(attention_weights, xlabel='Keys', ylabel='Queries')"
      ]
    },
    {
      "cell_type": "markdown",
      "id": "0f6c23cb",
      "metadata": {
        "origin_pos": 9,
        "id": "0f6c23cb"
      },
      "source": [
        "后面的章节内容将经常调用`show_heatmaps`函数来显示注意力权重。\n",
        "\n",
        "## 小结\n",
        "\n",
        "* 人类的注意力是有限的、有价值和稀缺的资源。\n",
        "* 受试者使用非自主性和自主性提示有选择性地引导注意力。前者基于突出性，后者则依赖于意识。\n",
        "* 注意力机制与全连接层或者汇聚层的区别源于增加的自主提示。\n",
        "* 由于包含了自主性提示，注意力机制与全连接的层或汇聚层不同。\n",
        "* 注意力机制通过注意力汇聚使选择偏向于值（感官输入），其中包含查询（自主性提示）和键（非自主性提示）。键和值是成对的。\n",
        "* 可视化查询和键之间的注意力权重是可行的。\n",
        "\n",
        "## 练习\n",
        "\n",
        "1. 在机器翻译中通过解码序列词元时，其自主性提示可能是什么？非自主性提示和感官输入又是什么？\n",
        "1. 随机生成一个$10 \\times 10$矩阵并使用`softmax`运算来确保每行都是有效的概率分布，然后可视化输出注意力权重。\n"
      ]
    },
    {
      "cell_type": "markdown",
      "id": "675bab48",
      "metadata": {
        "origin_pos": 11,
        "tab": [
          "pytorch"
        ],
        "id": "675bab48"
      },
      "source": [
        "[Discussions](https://discuss.d2l.ai/t/5764)\n"
      ]
    }
  ],
  "metadata": {
    "kernelspec": {
      "display_name": "Python 3",
      "name": "python3"
    },
    "language_info": {
      "name": "python"
    },
    "required_libs": [],
    "colab": {
      "provenance": []
    }
  },
  "nbformat": 4,
  "nbformat_minor": 5
}